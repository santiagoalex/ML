{
  "nbformat": 4,
  "nbformat_minor": 0,
  "metadata": {
    "kernelspec": {
      "display_name": "Python 3",
      "language": "python",
      "name": "python3"
    },
    "language_info": {
      "codemirror_mode": {
        "name": "ipython",
        "version": 3
      },
      "file_extension": ".py",
      "mimetype": "text/x-python",
      "name": "python",
      "nbconvert_exporter": "python",
      "pygments_lexer": "ipython3",
      "version": "3.6.9"
    },
    "colab": {
      "name": "Lab_1.1_Regresión_Polinomial.ipynb",
      "provenance": [],
      "collapsed_sections": []
    },
    "widgets": {
      "application/vnd.jupyter.widget-state+json": {
        "93bc561f93aa445ca27c3de8606c3982": {
          "model_module": "qgrid",
          "model_name": "QgridModel",
          "state": {
            "_view_name": "QgridView",
            "_view_module": "qgrid",
            "_model_module_version": "1.1.1",
            "_index_col_name": "qgrid_unfiltered_index",
            "_model_module": "qgrid",
            "id": "811ba6cd-67d5-46f3-9f36-bccf7995273b",
            "_sort_ascending": true,
            "_columns": {
              "ECM_Prueba": {
                "resizable": true,
                "sortable": true,
                "name": "ECM_Prueba",
                "maxWidth": null,
                "width": null,
                "defaultSortAsc": true,
                "editable": true,
                "toolTip": "",
                "minWidth": 30,
                "field": "ECM_Prueba",
                "position": 4,
                "cssClass": "string",
                "type": "string",
                "id": "ECM_Prueba"
              },
              "qgrid_unfiltered_index": {
                "resizable": true,
                "sortable": true,
                "name": "qgrid_unfiltered_index",
                "maxWidth": null,
                "width": null,
                "defaultSortAsc": true,
                "editable": true,
                "toolTip": "",
                "minWidth": 30,
                "field": "qgrid_unfiltered_index",
                "position": 2,
                "cssClass": "integer",
                "type": "integer",
                "id": "qgrid_unfiltered_index"
              },
              "ECM_Entrenamiento": {
                "resizable": true,
                "sortable": true,
                "name": "ECM_Entrenamiento",
                "maxWidth": null,
                "width": null,
                "defaultSortAsc": true,
                "editable": true,
                "toolTip": "",
                "minWidth": 30,
                "field": "ECM_Entrenamiento",
                "position": 3,
                "cssClass": "string",
                "type": "string",
                "id": "ECM_Entrenamiento"
              },
              "Tasa de aprendizaje": {
                "is_index": true,
                "resizable": true,
                "sortable": true,
                "name": "Tasa de aprendizaje",
                "maxWidth": null,
                "level": 0,
                "first_index": true,
                "defaultSortAsc": true,
                "editable": true,
                "toolTip": "",
                "minWidth": 30,
                "field": "Tasa de aprendizaje",
                "width": null,
                "position": 0,
                "index_display_text": "Tasa de aprendizaje",
                "cssClass": "string",
                "type": "string",
                "id": "Tasa de aprendizaje"
              },
              "Grado del polinomio": {
                "is_index": true,
                "resizable": true,
                "sortable": true,
                "name": "Grado del polinomio",
                "maxWidth": null,
                "level": 1,
                "defaultSortAsc": true,
                "last_index": true,
                "editable": true,
                "toolTip": "",
                "minWidth": 30,
                "field": "Grado del polinomio",
                "width": null,
                "position": 1,
                "index_display_text": "Grado del polinomio",
                "cssClass": "integer",
                "type": "integer",
                "id": "Grado del polinomio"
              }
            },
            "_interval_columns": [],
            "_dom_classes": [],
            "_df_range": [
              0,
              100
            ],
            "_model_name": "QgridModel",
            "precision": 5,
            "_editable_rows": {},
            "_viewport_range": [
              0,
              100
            ],
            "layout": "IPY_MODEL_2979f2f976324ef38d87b5f90e162322",
            "_view_count": null,
            "_row_styles": {
              "0": {
                "Tasa de aprendizaje": "group-top",
                "Grado del polinomio": "group-single"
              },
              "1": {
                "Tasa de aprendizaje": "group-middle",
                "Grado del polinomio": "group-single"
              },
              "2": {
                "Tasa de aprendizaje": "group-middle",
                "Grado del polinomio": "group-single"
              },
              "3": {
                "Tasa de aprendizaje": "group-middle",
                "Grado del polinomio": "group-single"
              },
              "4": {
                "Tasa de aprendizaje": "group-bottom",
                "Grado del polinomio": "group-single"
              },
              "5": {
                "Tasa de aprendizaje": "group-top",
                "Grado del polinomio": "group-single"
              },
              "6": {
                "Tasa de aprendizaje": "group-middle",
                "Grado del polinomio": "group-single"
              },
              "7": {
                "Tasa de aprendizaje": "group-middle",
                "Grado del polinomio": "group-single"
              },
              "8": {
                "Tasa de aprendizaje": "group-middle",
                "Grado del polinomio": "group-single"
              },
              "9": {
                "Tasa de aprendizaje": "group-bottom",
                "Grado del polinomio": "group-single"
              },
              "10": {
                "Tasa de aprendizaje": "group-top",
                "Grado del polinomio": "group-single"
              },
              "11": {
                "Tasa de aprendizaje": "group-middle",
                "Grado del polinomio": "group-single"
              },
              "12": {
                "Tasa de aprendizaje": "group-middle",
                "Grado del polinomio": "group-single"
              },
              "13": {
                "Tasa de aprendizaje": "group-middle",
                "Grado del polinomio": "group-single"
              },
              "14": {
                "Tasa de aprendizaje": "group-middle",
                "Grado del polinomio": "single"
              }
            },
            "_row_count": 15,
            "_multi_index": true,
            "show_toolbar": false,
            "_view_module_version": "1.1.1",
            "grid_options": {
              "highlightSelectedRow": true,
              "fullWidthRows": true,
              "rowHeight": 28,
              "enableColumnReorder": false,
              "filterable": true,
              "sortable": true,
              "enableTextSelectionOnCells": true,
              "editable": true,
              "explicitInitialization": true,
              "minVisibleRows": 8,
              "autoEdit": false,
              "syncColumnCellResize": true,
              "maxVisibleRows": 15,
              "defaultColumnWidth": 150,
              "boldIndex": true,
              "forceFitColumns": true,
              "highlightSelectedCell": false
            },
            "_df_json": "{\"schema\": {\"fields\":[{\"name\":\"Tasa de aprendizaje\",\"type\":\"string\"},{\"name\":\"Grado del polinomio\",\"type\":\"integer\"},{\"name\":\"qgrid_unfiltered_index\",\"type\":\"integer\"},{\"name\":\"ECM_Entrenamiento\",\"type\":\"string\"},{\"name\":\"ECM_Prueba\",\"type\":\"string\"}],\"primaryKey\":[\"Tasa de aprendizaje\",\"Grado del polinomio\"],\"pandas_version\":\"0.20.0\"}, \"data\": [{\"Tasa de aprendizaje\":\"1e-1\",\"Grado del polinomio\":1,\"qgrid_unfiltered_index\":0,\"ECM_Entrenamiento\":\"0.9775752961991931\",\"ECM_Prueba\":\"1323.8770206809468\"},{\"Tasa de aprendizaje\":\"1e-1\",\"Grado del polinomio\":2,\"qgrid_unfiltered_index\":1,\"ECM_Entrenamiento\":\"0.07845199979234525\",\"ECM_Prueba\":\"778.5218253112232\"},{\"Tasa de aprendizaje\":\"1e-1\",\"Grado del polinomio\":3,\"qgrid_unfiltered_index\":2,\"ECM_Entrenamiento\":\"0.026102487460899878\",\"ECM_Prueba\":\"690.2331167652487\"},{\"Tasa de aprendizaje\":\"1e-1\",\"Grado del polinomio\":4,\"qgrid_unfiltered_index\":3,\"ECM_Entrenamiento\":\"0.011738944770606921\",\"ECM_Prueba\":\"680.6499964607167\"},{\"Tasa de aprendizaje\":\"1e-1\",\"Grado del polinomio\":5,\"qgrid_unfiltered_index\":4,\"ECM_Entrenamiento\":\"1.5603169565477297e+61\",\"ECM_Prueba\":\"1.4752669004688885e+60\"},{\"Tasa de aprendizaje\":\"1e-3\",\"Grado del polinomio\":1,\"qgrid_unfiltered_index\":5,\"ECM_Entrenamiento\":\"47.350256150664336\",\"ECM_Prueba\":\"432.23837215035917\"},{\"Tasa de aprendizaje\":\"1e-3\",\"Grado del polinomio\":2,\"qgrid_unfiltered_index\":6,\"ECM_Entrenamiento\":\"19.395056809154482\",\"ECM_Prueba\":\"666.7086861202492\"},{\"Tasa de aprendizaje\":\"1e-3\",\"Grado del polinomio\":3,\"qgrid_unfiltered_index\":7,\"ECM_Entrenamiento\":\"13.53232189764733\",\"ECM_Prueba\":\"714.7263534639739\"},{\"Tasa de aprendizaje\":\"1e-3\",\"Grado del polinomio\":4,\"qgrid_unfiltered_index\":8,\"ECM_Entrenamiento\":\"11.345170378458583\",\"ECM_Prueba\":\"716.3726048028661\"},{\"Tasa de aprendizaje\":\"1e-3\",\"Grado del polinomio\":5,\"qgrid_unfiltered_index\":9,\"ECM_Entrenamiento\":\"10.481429642201139\",\"ECM_Prueba\":\"711.2596887212198\"},{\"Tasa de aprendizaje\":\"1e-5\",\"Grado del polinomio\":1,\"qgrid_unfiltered_index\":10,\"ECM_Entrenamiento\":\"774.0544407909563\",\"ECM_Prueba\":\"703.3758081471533\"},{\"Tasa de aprendizaje\":\"1e-5\",\"Grado del polinomio\":2,\"qgrid_unfiltered_index\":11,\"ECM_Entrenamiento\":\"748.1860686316447\",\"ECM_Prueba\":\"709.8817822551225\"},{\"Tasa de aprendizaje\":\"1e-5\",\"Grado del polinomio\":3,\"qgrid_unfiltered_index\":12,\"ECM_Entrenamiento\":\"724.9884414455062\",\"ECM_Prueba\":\"709.8470702955602\"},{\"Tasa de aprendizaje\":\"1e-5\",\"Grado del polinomio\":4,\"qgrid_unfiltered_index\":13,\"ECM_Entrenamiento\":\"703.4089638629132\",\"ECM_Prueba\":\"711.3700120556157\"},{\"Tasa de aprendizaje\":\"1e-5\",\"Grado del polinomio\":5,\"qgrid_unfiltered_index\":14,\"ECM_Entrenamiento\":\"682.8442125040657\",\"ECM_Prueba\":\"711.4024391442923\"}]}",
            "_sort_field": null
          }
        }
      }
    }
  },
  "cells": [
    {
      "cell_type": "markdown",
      "metadata": {
        "id": "UpvSefJ90cBY",
        "colab_type": "text"
      },
      "source": [
        "# Laboratorio 1 - Parte 1\n",
        "\n",
        "### Regresión polinomial múltiple\n",
        "\n",
        "### 2019 - II\n",
        "\n",
        "#### Profesor: Julián D. Arias Londoño\n",
        "#### julian.ariasl@udea.edu.co\n"
      ]
    },
    {
      "cell_type": "markdown",
      "metadata": {
        "id": "An1QI3p70cBb",
        "colab_type": "text"
      },
      "source": [
        "## Guía del laboratorio\n",
        "\n",
        "En este archivo va a encontrar tanto celdas de código como celdas de texto con las instrucciones para desarrollar el laboratorio.\n",
        "\n",
        "Lea atentamente las instrucciones entregadas en las celdas de texto correspondientes y proceda con la solución de las preguntas planteadas.\n",
        "\n",
        "Nota: no olvide ir ejecutando las celdas de código de arriba hacia abajo para que no tenga errores de importación de librerías o por falta de definición de variables."
      ]
    },
    {
      "cell_type": "markdown",
      "metadata": {
        "id": "W-kiU7BY0cBd",
        "colab_type": "text"
      },
      "source": [
        "### Primer integrante:\n",
        "\n",
        "Nombre: Santiago Alexis Sánchez Zuleta\n",
        "\n",
        "\n",
        "#### Segundo integrante:\n",
        "\n",
        "Nombre: Raúl Andrés Goméz Ramírez\n"
      ]
    },
    {
      "cell_type": "code",
      "metadata": {
        "id": "8eamAO2M0cBe",
        "colab_type": "code",
        "colab": {}
      },
      "source": [
        "import numpy as np\n",
        "import matplotlib.pyplot as plt\n",
        "from scipy import stats\n",
        "\n",
        "#Algunas advertencias que queremos evitar\n",
        "import warnings\n",
        "warnings.filterwarnings(\"always\")"
      ],
      "execution_count": 0,
      "outputs": []
    },
    {
      "cell_type": "markdown",
      "metadata": {
        "id": "2uatTZ2o0cBj",
        "colab_type": "text"
      },
      "source": [
        "## Ejercicio 1: Contextualización del problema\n",
        "\n",
        "El problema de *regresión* que abordaremos consiste en predecir el valor de la humedad absoluta en el aire, a partir de varias variables sensadas en el aire (Para más información sobre la base de datos y la contextualización del problema, consulte: http://archive.ics.uci.edu/ml/datasets/air+quality). Ejecute la siguiente celda para cargar los datos."
      ]
    },
    {
      "cell_type": "code",
      "metadata": {
        "id": "r3VEmUUS0cBl",
        "colab_type": "code",
        "colab": {}
      },
      "source": [
        "#cargamos la bd que está en un archivo .data y ahora la podemos manejar de forma matricial\n",
        "db = np.loadtxt('AirQuality.data',delimiter='\\t')  # Assuming tab-delimiter\n",
        "\n",
        "#Esta es la base de datos AirQuality del UCI Machine Learning Repository.\n",
        "X = db[:,0:12]\n",
        "Y = db[:,12]"
      ],
      "execution_count": 0,
      "outputs": []
    },
    {
      "cell_type": "markdown",
      "metadata": {
        "id": "p1LQmrVM0cBp",
        "colab_type": "text"
      },
      "source": [
        "#### Responda:\n",
        "\n",
        "1.1 Cuántas muestras tiene la base de datos?: \n",
        "\n",
        "\n"
      ]
    },
    {
      "cell_type": "markdown",
      "metadata": {
        "id": "8F-fA-qh0cBr",
        "colab_type": "text"
      },
      "source": [
        "La base de datos que tomamos cuenta con 9357 muestras."
      ]
    },
    {
      "cell_type": "code",
      "metadata": {
        "id": "D-m7cXsZ0cBs",
        "colab_type": "code",
        "outputId": "83fa7785-24cd-4c28-be86-350a83aee33c",
        "colab": {
          "base_uri": "https://localhost:8080/",
          "height": 34
        }
      },
      "source": [
        "X.shape\n",
        "\n"
      ],
      "execution_count": 147,
      "outputs": [
        {
          "output_type": "execute_result",
          "data": {
            "text/plain": [
              "(9357, 12)"
            ]
          },
          "metadata": {
            "tags": []
          },
          "execution_count": 147
        }
      ]
    },
    {
      "cell_type": "markdown",
      "metadata": {
        "id": "fk9XUFLx0cBx",
        "colab_type": "text"
      },
      "source": [
        "1.2 Cuántas caracteristicas tiene el problema?: \n",
        "\n"
      ]
    },
    {
      "cell_type": "markdown",
      "metadata": {
        "id": "KOaTNBQj0cBz",
        "colab_type": "text"
      },
      "source": [
        "De la base de datos asignadas en X tomamos 12 caracteristicas, aunque podrian ser mas dado que en la base de datos de origen cuentan con 15 caracteristicas."
      ]
    },
    {
      "cell_type": "code",
      "metadata": {
        "id": "jGr7mebA0cB0",
        "colab_type": "code",
        "outputId": "0cb2c6e3-7947-4526-8602-19425e321ccb",
        "colab": {
          "base_uri": "https://localhost:8080/",
          "height": 34
        }
      },
      "source": [
        "\n",
        "X.shape"
      ],
      "execution_count": 148,
      "outputs": [
        {
          "output_type": "execute_result",
          "data": {
            "text/plain": [
              "(9357, 12)"
            ]
          },
          "metadata": {
            "tags": []
          },
          "execution_count": 148
        }
      ]
    },
    {
      "cell_type": "markdown",
      "metadata": {
        "id": "jAbpK3720cB5",
        "colab_type": "text"
      },
      "source": [
        "<b>Nota</b>: Agregue una celda en la cual incluya las líneas de código usadas para responder las preguntas."
      ]
    },
    {
      "cell_type": "markdown",
      "metadata": {
        "id": "eKq0HivT0cB6",
        "colab_type": "text"
      },
      "source": [
        "## Ejercicio 2: Completar código \n",
        "\n",
        "Analice los siguientes métodos de la teoría vista para los modelos de *regresión polinomial múltiple*, tales como el error cuadrático medio (<font color='blue'>ECM</font>), modelo de regresión múltiple (<font color='blue'>regression</font>), potencia del polinomio (<font color='blue'>potenciaPolinomio</font>) y gradiente descendente. \n",
        "\n",
        "Una vez comprenda su funcionamiento proceda a realizar lo siguiente: \n",
        "1. Completar el código de la regla de actualización de los parámetros del algoritmo de <font color='blue'>gradiente_descedente</font>: \n",
        "\n",
        "$$w_j(iter) = w_j(iter-1) - \\eta \\frac{\\partial E(w)}{\\partial w_j}$$ \n",
        "\n",
        "2. Graficar el error cuadrático: Error cuadrático medio (ECM) vs. las iteraciones del algoritmo. La gráfica debe llevar título y los correspondientes nombres de los ejes, puedes consultar documentación [aquí](https://matplotlib.org/tutorials/introductory/pyplot.html)."
      ]
    },
    {
      "cell_type": "code",
      "metadata": {
        "id": "otHAM2ml0cB8",
        "colab_type": "code",
        "colab": {}
      },
      "source": [
        "#Error cuadrático medio (criterio para el modelo de regresión polinomial)\n",
        "def ECM(Y_est,Y):\n",
        "    N = np.size(Y)\n",
        "    ecm = np.sum((Y_est.reshape(N,1) - Y.reshape(N,1))**2)/(2*N)\n",
        "    return ecm \n",
        "\n",
        "#Modelo Regresión Múltiple\n",
        "def regression(X, W):\n",
        "    Yest = np.dot(X,W)    #con np.dot se realiza el producto matricial. Aquí X es dim [Nxd] y W es dim [dx1]\n",
        "    return Yest           #Esta variable contiene la salida de f(X,W)\n",
        "\n",
        "\n",
        "#Potencia de polinomio\n",
        "\n",
        "def potenciaPolinomio(X,grado):\n",
        "    X2 = X\n",
        "    \n",
        "    if grado != 1:\n",
        "        for i in range(2,grado+1):\n",
        "            Xadd = X**i\n",
        "            X2 = np.concatenate((X2, Xadd), axis=1)\n",
        "    \n",
        "    return X2\n"
      ],
      "execution_count": 0,
      "outputs": []
    },
    {
      "cell_type": "code",
      "metadata": {
        "id": "XVAPRGOX0cCA",
        "colab_type": "code",
        "colab": {}
      },
      "source": [
        "\"\"\"Gradiente descendente para regresión lineal múltiple\n",
        "X: Matriz de datos extendida.\n",
        "W: Vector de parámetros del modelo\n",
        "eta: Taza de aprendizaje\n",
        "\"\"\"\n",
        "\n",
        "def gradiente_descendente(X,Y,eta):\n",
        "     \n",
        "    #Extendemos la matriz de X para el parámetro independiente\n",
        "    unos = np.array([np.ones(np.size(X,0))])\n",
        "    #Concatenamos el vector de unos con la matriz X\n",
        "    X = np.concatenate((unos.T, X), axis=1)\n",
        "    X = X.reshape(np.size(X,0),np.size(X,1))\n",
        "    \n",
        "    Y = Y.reshape(np.size(Y), 1)\n",
        "    \n",
        "    #Tomamos el número de variables del problema\n",
        "    d = np.size(X,1)\n",
        "    \n",
        "    #Tomamos el número de muestras de la base de datos\n",
        "    N = np.size(X,0)\n",
        "    \n",
        "    \n",
        "    #Inicializamos el vector de parámetros \n",
        "    W = np.zeros((1,d))\n",
        "    W = W.reshape(np.size(W), 1)\n",
        "    \n",
        "    eta = eta\n",
        "    \n",
        "    iteraciones = 500\n",
        "    ecms = np.zeros(iteraciones)\n",
        "    \n",
        "    #Aquí se completa el código\n",
        "    for iter in range(iteraciones):\n",
        "        errorIteracion= ECM(regression(X,W),Y)\n",
        "        ecms[iter]=errorIteracion\n",
        "        derivadaErr = X.T.dot(X.dot(W) - Y)\n",
        "        W = W - (eta/N) * derivadaErr\n",
        "        \n",
        "\n",
        " \n",
        "       \n",
        "        \n",
        "        \n",
        "    print ('Vector de parámetros del modelo:\\n')\n",
        "    print (W)\n",
        "    print ('\\nError Final durante el entrenamiento = ' + str(ecms[-1]))\n",
        "    \n",
        "    #Aquí debe completar el código para realizar la gráfica de ecms vs. iteraciones\n",
        "    plt.plot(ecms)\n",
        "    plt.ylabel('ECMS')\n",
        "    plt.xlabel('Iteraciones')\n",
        "    plt.title('Grafica ECMS vs Iteracciones' )\n",
        "    plt.show()\n",
        "            \n",
        "\n",
        "    trainingError = str(ecms[-1])\n",
        "    \n",
        "    return W,trainingError\n",
        "    "
      ],
      "execution_count": 0,
      "outputs": []
    },
    {
      "cell_type": "markdown",
      "metadata": {
        "id": "LwWCR5tS0cCI",
        "colab_type": "text"
      },
      "source": [
        "## Ejercicio 3: Entrenamiento\n",
        "\n",
        "En este punto debe hacer uso de las funciones escritas en el punto anterior para realizar el proceso de *modelamiento y simulación* de los datos de cargados en el Ejercicio # 1 sobre la predicción del valor de la humedad absoluta en el aire \n",
        "\n",
        "A continuación complete el siguiente código llamando a la función <font color='blue'>gradiente_descedente</font> pasandole los parámetros correspondientes (X,y,eta). Debe obtener como salida el vector de parámetros $w$ estimado y la gráfica del error cuadrático medio vs iteraciones.\n",
        "\n",
        "*Nota*: No olvide definir el grado del polinomio y la taza de aprendizaje (eta)"
      ]
    },
    {
      "cell_type": "code",
      "metadata": {
        "id": "hxPqfor10cCK",
        "colab_type": "code",
        "colab": {}
      },
      "source": [
        "from numpy import random\n",
        "from numpy import matlib\n",
        "import math\n",
        "\n",
        "\n",
        "def simulacion(grado,eta,grafo=True,normalizar=True):\n",
        "    N = np.size(X,0)\n",
        "\n",
        "    # #Se modifica la matriz de datos original de acuerdo al grado del polinomio ingresado para el modelo\n",
        "    X2 = potenciaPolinomio(X,grado)\n",
        "\n",
        "    #Dejamos algunas muestras para el proceso de entrenamiento y otras para evaluar qué tan bueno fue el aprendizaje del modelo\n",
        "    random.seed(1)\n",
        "    ind=np.random.permutation(N)\n",
        "    Xtrain = X2[ind[0:int(math.ceil(0.7*N))],:]\n",
        "    Xtest = X2[ind[int(math.ceil(0.7*N)):N],:]\n",
        "    Ytrain = Y[ind[0:int(math.ceil(0.7*N))]]\n",
        "    Ytest = Y[ind[int(math.ceil(0.7*N)):N]]\n",
        "    if normalizar:\n",
        "      #Normalizamos los datos\n",
        "      media = np.mean(Xtrain)\n",
        "      desvia = np.std(Xtrain)\n",
        "      Xtrain = stats.stats.zscore(Xtrain)\n",
        "      Xtest = (Xtest - np.matlib.repmat(media, Xtest.shape[0], 1))/np.matlib.repmat(desvia, Xtest.shape[0], 1)\n",
        "\n",
        "    #eta = 0.00001\n",
        "\n",
        "    #Complete la siguiente línea de código llamando el método gradiente_descendente con sus respectivos argumentos\n",
        "    W ,trainingError= gradiente_descendente(Xtrain, Ytrain, eta)\n",
        "\n",
        "    #Evaluamos las predicciones del modelo con los datos de test\n",
        "    unos = np.array([np.ones(np.size(Xtest,0))])\n",
        "    Xtest = np.concatenate((unos.T, Xtest), axis=1)\n",
        "    Xtest = Xtest.reshape(np.size(Xtest,0),np.size(Xtest,1))\n",
        "    Yest = regression(Xtest, W)\n",
        "    Error = ECM(Yest,Ytest)\n",
        "    if grafo:\n",
        "      print ('\\nError durante la prueba = ' + str(Error))\n",
        "    return(W,Error,trainingError)"
      ],
      "execution_count": 0,
      "outputs": []
    },
    {
      "cell_type": "code",
      "metadata": {
        "id": "Ti4WETi4Oeo9",
        "colab_type": "code",
        "outputId": "4e23970b-e730-4d47-be44-b3626b253959",
        "colab": {
          "base_uri": "https://localhost:8080/",
          "height": 839
        }
      },
      "source": [
        "simulacion(1,0.00001)"
      ],
      "execution_count": 152,
      "outputs": [
        {
          "output_type": "stream",
          "text": [
            "Vector de parámetros del modelo:\n",
            "\n",
            "[[-0.03558286]\n",
            " [-0.007918  ]\n",
            " [ 0.15133837]\n",
            " [ 0.00093386]\n",
            " [ 0.19286465]\n",
            " [ 0.12758939]\n",
            " [-0.01766481]\n",
            " [ 0.12403046]\n",
            " [-0.01095359]\n",
            " [ 0.13629102]\n",
            " [ 0.10329616]\n",
            " [ 0.19229168]\n",
            " [ 0.18536155]]\n",
            "\n",
            "Error Final durante el entrenamiento = 774.0544407909563\n"
          ],
          "name": "stdout"
        },
        {
          "output_type": "display_data",
          "data": {
            "image/png": "[encoded data removed]",
            "text/plain": [
              "<Figure size 432x288 with 1 Axes>"
            ]
          },
          "metadata": {
            "tags": []
          }
        },
        {
          "output_type": "stream",
          "text": [
            "\n",
            "Error durante la prueba = 703.3758081471533\n"
          ],
          "name": "stdout"
        },
        {
          "output_type": "execute_result",
          "data": {
            "text/plain": [
              "(array([[-0.03558286],\n",
              "        [-0.007918  ],\n",
              "        [ 0.15133837],\n",
              "        [ 0.00093386],\n",
              "        [ 0.19286465],\n",
              "        [ 0.12758939],\n",
              "        [-0.01766481],\n",
              "        [ 0.12403046],\n",
              "        [-0.01095359],\n",
              "        [ 0.13629102],\n",
              "        [ 0.10329616],\n",
              "        [ 0.19229168],\n",
              "        [ 0.18536155]]), 703.3758081471533, '774.0544407909563')"
            ]
          },
          "metadata": {
            "tags": []
          },
          "execution_count": 152
        }
      ]
    },
    {
      "cell_type": "markdown",
      "metadata": {
        "id": "Y35CibB80cCO",
        "colab_type": "text"
      },
      "source": [
        "#### Responda:\n",
        "\n",
        "3.1 ¿Cuál es el número de coeficientes $w$ que se obtienen al ingresar un polinomio de grado 4? ¿Por qué?:\n",
        "\n"
      ]
    },
    {
      "cell_type": "code",
      "metadata": {
        "id": "vq1CMRIG0cCP",
        "colab_type": "code",
        "outputId": "4f8366cb-ab5e-479c-8a01-0e1f3ad40fb3",
        "colab": {
          "base_uri": "https://localhost:8080/",
          "height": 1000
        }
      },
      "source": [
        "P,Q,R=simulacion(4,0.00001)\n",
        "P.shape"
      ],
      "execution_count": 153,
      "outputs": [
        {
          "output_type": "stream",
          "text": [
            "Vector de parámetros del modelo:\n",
            "\n",
            "[[-0.03558286]\n",
            " [-0.00770227]\n",
            " [ 0.14709973]\n",
            " [ 0.00061704]\n",
            " [ 0.18800566]\n",
            " [ 0.12381181]\n",
            " [-0.01754871]\n",
            " [ 0.12141667]\n",
            " [-0.01082293]\n",
            " [ 0.13236987]\n",
            " [ 0.1001097 ]\n",
            " [ 0.18756399]\n",
            " [ 0.18086726]\n",
            " [ 0.00746271]\n",
            " [ 0.08129778]\n",
            " [ 0.00169241]\n",
            " [-0.19111213]\n",
            " [ 0.05914778]\n",
            " [-0.02307037]\n",
            " [ 0.05295177]\n",
            " [-0.01128938]\n",
            " [ 0.0737229 ]\n",
            " [ 0.04530771]\n",
            " [-0.19093383]\n",
            " [-0.18625815]\n",
            " [-0.00747041]\n",
            " [ 0.05597472]\n",
            " [ 0.00217411]\n",
            " [ 0.19115563]\n",
            " [ 0.04042299]\n",
            " [-0.02392493]\n",
            " [ 0.03310235]\n",
            " [-0.01657252]\n",
            " [ 0.05109358]\n",
            " [ 0.03064378]\n",
            " [ 0.1911646 ]\n",
            " [ 0.19046046]\n",
            " [ 0.00747017]\n",
            " [ 0.03974982]\n",
            " [ 0.0019453 ]\n",
            " [-0.19116631]\n",
            " [ 0.02816681]\n",
            " [-0.02271886]\n",
            " [ 0.02002128]\n",
            " [-0.01553689]\n",
            " [ 0.03685883]\n",
            " [ 0.02176378]\n",
            " [-0.19116419]\n",
            " [-0.19103112]]\n",
            "\n",
            "Error Final durante el entrenamiento = 703.4089638629132\n"
          ],
          "name": "stdout"
        },
        {
          "output_type": "display_data",
          "data": {
            "image/png": "[encoded data removed]",
            "text/plain": [
              "<Figure size 432x288 with 1 Axes>"
            ]
          },
          "metadata": {
            "tags": []
          }
        },
        {
          "output_type": "stream",
          "text": [
            "\n",
            "Error durante la prueba = 711.3700120556157\n"
          ],
          "name": "stdout"
        },
        {
          "output_type": "execute_result",
          "data": {
            "text/plain": [
              "(49, 1)"
            ]
          },
          "metadata": {
            "tags": []
          },
          "execution_count": 153
        }
      ]
    },
    {
      "cell_type": "markdown",
      "metadata": {
        "id": "4j72v0PV39sg",
        "colab_type": "text"
      },
      "source": [
        "Cuenta con 49 coeficientes por que cada una de las caracteristicas(las cuales son 12 ) se le agrega 12 valores por grado que se tenga, que corresponden a sus caracteristicas elevados al grado del polinomio, ejemplo contamos con 12 caracteristicas en un polinomio grado 4 seria 12x4= 48 pero se suma el termino independiente lo que lo convierte en 49."
      ]
    },
    {
      "cell_type": "markdown",
      "metadata": {
        "id": "qDqqFxyA0cCT",
        "colab_type": "text"
      },
      "source": [
        "3.2 La funci&oacute;n polin&oacute;mica que se est&aacute; usando para grados mayores a 1\n",
        "est&aacute; incompleta, ¿Por qu&eacute;?:"
      ]
    },
    {
      "cell_type": "markdown",
      "metadata": {
        "id": "izk0k34CA7AX",
        "colab_type": "text"
      },
      "source": [
        "Por que no se consideran los terminos cruzados dados por la correlacion entre las caracteristicas que pueden hacer mas eficiente o menos eficiente un algoritmo."
      ]
    },
    {
      "cell_type": "markdown",
      "metadata": {
        "id": "ouKn_grN0cCU",
        "colab_type": "text"
      },
      "source": [
        "## Ejercicio 4: Obtener resultados\n",
        "\n",
        "Identifique la variable \"eta\" (tasa de aprendizaje $\\eta$) en el código anterior, cambie su valor de acuerdo a la siguiente tabla. Haga lo mismo con el valor del grado del polinomio y complete las columnas ECM_Entrenamiento y ECM_Prueba.\n",
        "\n",
        "Tenga en cuenta que cuando el valor de $\\eta$ sea $0.00001$ y el grado del polinomio sea $1$, el valor del ECM de prueba debe ser $703.376$. Esto le servirá de criterio de verificación para la implementación de su algorítmo de gradiente descendente.\n"
      ]
    },
    {
      "cell_type": "code",
      "metadata": {
        "colab_type": "code",
        "outputId": "db7de9bf-f6f4-45c3-97ba-fa314415ca9a",
        "id": "OuaD9WxZEwgr",
        "colab": {
          "base_uri": "https://localhost:8080/",
          "height": 1000,
          "referenced_widgets": [
            "93bc561f93aa445ca27c3de8606c3982"
          ]
        }
      },
      "source": [
        "\n",
        "import numpy as np\n",
        "import pandas as pd\n",
        "import qgrid\n",
        "randn = np.random.randn\n",
        "df_types = pd.DataFrame({\n",
        "    'Tasa de aprendizaje' : pd.Series(['1e-5', '1e-5', '1e-5', '1e-5', '1e-5', '1e-3', '1e-3', '1e-3', '1e-3', '1e-3', '1e-1', '1e-1', '1e-1', '1e-1', '1e-1']),\n",
        "    'Grado del polinomio' : pd.Series([1,2,3,4,5,1,2,3,4,5,1,2,3,4,5])})\n",
        "df_types[\"ECM_Entrenamiento\"] = \"\"\n",
        "df_types[\"ECM_Prueba\"] = \"\"\n",
        "df_types.set_index(['Tasa de aprendizaje','Grado del polinomio'], inplace=True)\n",
        "df_types\n",
        " \n",
        "k=0\n",
        "for eta, grado in df_types.index:\n",
        "  W,Error,trainingError = simulacion(grado,float(eta),False)\n",
        "\n",
        "  df_types[\"ECM_Entrenamiento\"][k] = str(trainingError)\n",
        "  df_types[\"ECM_Prueba\"][k] = str(Error)\n",
        "  k=k+1    \n",
        "\n",
        "\n",
        "\n",
        "df_types.sort_index(inplace=True)\n",
        "qgrid_widget = qgrid.show_grid(df_types, show_toolbar=False)\n",
        "qgrid_widget"
      ],
      "execution_count": 154,
      "outputs": [
        {
          "output_type": "stream",
          "text": [
            "Vector de parámetros del modelo:\n",
            "\n",
            "[[-0.03558286]\n",
            " [-0.007918  ]\n",
            " [ 0.15133837]\n",
            " [ 0.00093386]\n",
            " [ 0.19286465]\n",
            " [ 0.12758939]\n",
            " [-0.01766481]\n",
            " [ 0.12403046]\n",
            " [-0.01095359]\n",
            " [ 0.13629102]\n",
            " [ 0.10329616]\n",
            " [ 0.19229168]\n",
            " [ 0.18536155]]\n",
            "\n",
            "Error Final durante el entrenamiento = 774.0544407909563\n"
          ],
          "name": "stdout"
        },
        {
          "output_type": "display_data",
          "data": {
            "image/png": "[encoded data removed]",
            "text/plain": [
              "<Figure size 432x288 with 1 Axes>"
            ]
          },
          "metadata": {
            "tags": []
          }
        },
        {
          "output_type": "stream",
          "text": [
            "Vector de parámetros del modelo:\n",
            "\n",
            "[[-0.03558286]\n",
            " [-0.0078588 ]\n",
            " [ 0.14977074]\n",
            " [ 0.00078996]\n",
            " [ 0.19110847]\n",
            " [ 0.12616802]\n",
            " [-0.01766438]\n",
            " [ 0.12313615]\n",
            " [-0.01094838]\n",
            " [ 0.13482863]\n",
            " [ 0.10209344]\n",
            " [ 0.19058582]\n",
            " [ 0.18377325]\n",
            " [ 0.00762248]\n",
            " [ 0.08306981]\n",
            " [ 0.00191763]\n",
            " [-0.19415493]\n",
            " [ 0.06059688]\n",
            " [-0.02324205]\n",
            " [ 0.05359709]\n",
            " [-0.01135672]\n",
            " [ 0.07537228]\n",
            " [ 0.0464961 ]\n",
            " [-0.19398785]\n",
            " [-0.18923539]]\n",
            "\n",
            "Error Final durante el entrenamiento = 748.1860686316447\n"
          ],
          "name": "stdout"
        },
        {
          "output_type": "display_data",
          "data": {
            "image/png": "[encoded data removed]",
            "text/plain": [
              "<Figure size 432x288 with 1 Axes>"
            ]
          },
          "metadata": {
            "tags": []
          }
        },
        {
          "output_type": "stream",
          "text": [
            "Vector de parámetros del modelo:\n",
            "\n",
            "[[-0.03558286]\n",
            " [-0.00775955]\n",
            " [ 0.14837627]\n",
            " [ 0.00069365]\n",
            " [ 0.18951096]\n",
            " [ 0.12493246]\n",
            " [-0.01760602]\n",
            " [ 0.12227383]\n",
            " [-0.01086343]\n",
            " [ 0.13353977]\n",
            " [ 0.10104578]\n",
            " [ 0.18903603]\n",
            " [ 0.18227426]\n",
            " [ 0.00752101]\n",
            " [ 0.08212541]\n",
            " [ 0.00179314]\n",
            " [-0.19259582]\n",
            " [ 0.05981837]\n",
            " [-0.02317498]\n",
            " [ 0.05328485]\n",
            " [-0.01135283]\n",
            " [ 0.07449081]\n",
            " [ 0.04585204]\n",
            " [-0.19242182]\n",
            " [-0.18771517]\n",
            " [-0.00752867]\n",
            " [ 0.05662316]\n",
            " [ 0.00227227]\n",
            " [ 0.192648  ]\n",
            " [ 0.0409618 ]\n",
            " [-0.02405244]\n",
            " [ 0.03331097]\n",
            " [-0.01666121]\n",
            " [ 0.05170587]\n",
            " [ 0.03107971]\n",
            " [ 0.19265603]\n",
            " [ 0.19194422]]\n",
            "\n",
            "Error Final durante el entrenamiento = 724.9884414455062\n"
          ],
          "name": "stdout"
        },
        {
          "output_type": "display_data",
          "data": {
            "image/png": "[encoded data removed]",
            "text/plain": [
              "<Figure size 432x288 with 1 Axes>"
            ]
          },
          "metadata": {
            "tags": []
          }
        },
        {
          "output_type": "stream",
          "text": [
            "Vector de parámetros del modelo:\n",
            "\n",
            "[[-0.03558286]\n",
            " [-0.00770227]\n",
            " [ 0.14709973]\n",
            " [ 0.00061704]\n",
            " [ 0.18800566]\n",
            " [ 0.12381181]\n",
            " [-0.01754871]\n",
            " [ 0.12141667]\n",
            " [-0.01082293]\n",
            " [ 0.13236987]\n",
            " [ 0.1001097 ]\n",
            " [ 0.18756399]\n",
            " [ 0.18086726]\n",
            " [ 0.00746271]\n",
            " [ 0.08129778]\n",
            " [ 0.00169241]\n",
            " [-0.19111213]\n",
            " [ 0.05914778]\n",
            " [-0.02307037]\n",
            " [ 0.05295177]\n",
            " [-0.01128938]\n",
            " [ 0.0737229 ]\n",
            " [ 0.04530771]\n",
            " [-0.19093383]\n",
            " [-0.18625815]\n",
            " [-0.00747041]\n",
            " [ 0.05597472]\n",
            " [ 0.00217411]\n",
            " [ 0.19115563]\n",
            " [ 0.04042299]\n",
            " [-0.02392493]\n",
            " [ 0.03310235]\n",
            " [-0.01657252]\n",
            " [ 0.05109358]\n",
            " [ 0.03064378]\n",
            " [ 0.1911646 ]\n",
            " [ 0.19046046]\n",
            " [ 0.00747017]\n",
            " [ 0.03974982]\n",
            " [ 0.0019453 ]\n",
            " [-0.19116631]\n",
            " [ 0.02816681]\n",
            " [-0.02271886]\n",
            " [ 0.02002128]\n",
            " [-0.01553689]\n",
            " [ 0.03685883]\n",
            " [ 0.02176378]\n",
            " [-0.19116419]\n",
            " [-0.19103112]]\n",
            "\n",
            "Error Final durante el entrenamiento = 703.4089638629132\n"
          ],
          "name": "stdout"
        },
        {
          "output_type": "display_data",
          "data": {
            "image/png": "[encoded data removed]",
            "text/plain": [
              "<Figure size 432x288 with 1 Axes>"
            ]
          },
          "metadata": {
            "tags": []
          }
        },
        {
          "output_type": "stream",
          "text": [
            "Vector de parámetros del modelo:\n",
            "\n",
            "[[-0.03558286]\n",
            " [-0.00760703]\n",
            " [ 0.14589709]\n",
            " [ 0.00056729]\n",
            " [ 0.18655297]\n",
            " [ 0.12276975]\n",
            " [-0.01743444]\n",
            " [ 0.12055326]\n",
            " [-0.01071878]\n",
            " [ 0.13127053]\n",
            " [ 0.09924746]\n",
            " [ 0.18613645]\n",
            " [ 0.17949134]\n",
            " [ 0.00736734]\n",
            " [ 0.08054878]\n",
            " [ 0.00161679]\n",
            " [-0.18966752]\n",
            " [ 0.05855624]\n",
            " [-0.02293723]\n",
            " [ 0.05259963]\n",
            " [-0.01124688]\n",
            " [ 0.07302795]\n",
            " [ 0.04483504]\n",
            " [-0.189486  ]\n",
            " [-0.18484703]\n",
            " [-0.00737505]\n",
            " [ 0.05540281]\n",
            " [ 0.00209904]\n",
            " [ 0.1897046 ]\n",
            " [ 0.03995969]\n",
            " [-0.02377138]\n",
            " [ 0.03288018]\n",
            " [-0.0164239 ]\n",
            " [ 0.05055312]\n",
            " [ 0.03027589]\n",
            " [ 0.18971435]\n",
            " [ 0.18901517]\n",
            " [ 0.00737481]\n",
            " [ 0.03929238]\n",
            " [ 0.00187827]\n",
            " [-0.18971626]\n",
            " [ 0.02779026]\n",
            " [-0.02256594]\n",
            " [ 0.01988023]\n",
            " [-0.0154394 ]\n",
            " [ 0.03641631]\n",
            " [ 0.02146369]\n",
            " [-0.189714  ]\n",
            " [-0.18958202]\n",
            " [-0.00737482]\n",
            " [ 0.02930819]\n",
            " [ 0.00156331]\n",
            " [ 0.18971489]\n",
            " [ 0.02029578]\n",
            " [-0.02050606]\n",
            " [ 0.01242566]\n",
            " [-0.02096423]\n",
            " [ 0.02715222]\n",
            " [ 0.01617985]\n",
            " [ 0.18971529]\n",
            " [ 0.18969964]]\n",
            "\n",
            "Error Final durante el entrenamiento = 682.8442125040657\n"
          ],
          "name": "stdout"
        },
        {
          "output_type": "display_data",
          "data": {
            "image/png": "[encoded data removed]",
            "text/plain": [
              "<Figure size 432x288 with 1 Axes>"
            ]
          },
          "metadata": {
            "tags": []
          }
        },
        {
          "output_type": "stream",
          "text": [
            "Vector de parámetros del modelo:\n",
            "\n",
            "[[-2.80822753e+00]\n",
            " [ 4.10900571e-03]\n",
            " [ 4.50655436e+00]\n",
            " [-5.89050435e-01]\n",
            " [ 7.23993079e+00]\n",
            " [ 3.23747323e+00]\n",
            " [-1.32674586e+00]\n",
            " [ 6.08862433e+00]\n",
            " [-3.82104657e-01]\n",
            " [ 3.55226825e+00]\n",
            " [ 2.25285422e+00]\n",
            " [ 7.49271936e+00]\n",
            " [ 7.23626724e+00]]\n",
            "\n",
            "Error Final durante el entrenamiento = 47.350256150664336\n"
          ],
          "name": "stdout"
        },
        {
          "output_type": "display_data",
          "data": {
            "image/png": "[encoded data removed]",
            "text/plain": [
              "<Figure size 432x288 with 1 Axes>"
            ]
          },
          "metadata": {
            "tags": []
          }
        },
        {
          "output_type": "stream",
          "text": [
            "Vector de parámetros del modelo:\n",
            "\n",
            "[[-2.80822753]\n",
            " [ 0.01490994]\n",
            " [ 2.89308443]\n",
            " [-0.57428934]\n",
            " [ 4.6808036 ]\n",
            " [ 2.03521865]\n",
            " [-0.67231835]\n",
            " [ 3.73102718]\n",
            " [-0.22535147]\n",
            " [ 2.12074828]\n",
            " [ 1.49709264]\n",
            " [ 4.81532689]\n",
            " [ 4.81366142]\n",
            " [-0.04199219]\n",
            " [ 0.68755378]\n",
            " [-0.38617754]\n",
            " [-5.11297541]\n",
            " [-0.0545221 ]\n",
            " [-0.97988582]\n",
            " [ 1.7921886 ]\n",
            " [-0.52348212]\n",
            " [ 0.14332138]\n",
            " [-0.15920842]\n",
            " [-5.08452756]\n",
            " [-4.91042198]]\n",
            "\n",
            "Error Final durante el entrenamiento = 19.395056809154482\n"
          ],
          "name": "stdout"
        },
        {
          "output_type": "display_data",
          "data": {
            "image/png": "[encoded data removed]",
            "text/plain": [
              "<Figure size 432x288 with 1 Axes>"
            ]
          },
          "metadata": {
            "tags": []
          }
        },
        {
          "output_type": "stream",
          "text": [
            "Vector de parámetros del modelo:\n",
            "\n",
            "[[-2.80822753]\n",
            " [ 0.05423485]\n",
            " [ 2.16725591]\n",
            " [-0.44192242]\n",
            " [ 3.45234118]\n",
            " [ 1.56894118]\n",
            " [-0.34095294]\n",
            " [ 2.59474406]\n",
            " [-0.05019539]\n",
            " [ 1.57376111]\n",
            " [ 1.18179575]\n",
            " [ 3.54627364]\n",
            " [ 3.50428192]\n",
            " [-0.07216559]\n",
            " [ 0.5597997 ]\n",
            " [-0.22984194]\n",
            " [-3.75351826]\n",
            " [ 0.04035025]\n",
            " [-0.54848025]\n",
            " [ 1.11035935]\n",
            " [-0.30844784]\n",
            " [ 0.1209889 ]\n",
            " [-0.02815731]\n",
            " [-3.73198637]\n",
            " [-3.6289863 ]\n",
            " [ 0.07159819]\n",
            " [-0.00519073]\n",
            " [-0.2204082 ]\n",
            " [ 3.71356806]\n",
            " [-0.36697464]\n",
            " [-0.5089059 ]\n",
            " [ 0.52628932]\n",
            " [-0.13169101]\n",
            " [-0.37288291]\n",
            " [-0.30395523]\n",
            " [ 3.71692883]\n",
            " [ 3.70527229]]\n",
            "\n",
            "Error Final durante el entrenamiento = 13.53232189764733\n"
          ],
          "name": "stdout"
        },
        {
          "output_type": "display_data",
          "data": {
            "image/png": "[encoded data removed]",
            "text/plain": [
              "<Figure size 432x288 with 1 Axes>"
            ]
          },
          "metadata": {
            "tags": []
          }
        },
        {
          "output_type": "stream",
          "text": [
            "Vector de parámetros del modelo:\n",
            "\n",
            "[[-2.80822753]\n",
            " [ 0.02544698]\n",
            " [ 1.73883971]\n",
            " [-0.35307514]\n",
            " [ 2.72137206]\n",
            " [ 1.27995333]\n",
            " [-0.2193748 ]\n",
            " [ 1.97669601]\n",
            " [-0.05242256]\n",
            " [ 1.27544913]\n",
            " [ 0.98225706]\n",
            " [ 2.78197833]\n",
            " [ 2.76270495]\n",
            " [-0.03798229]\n",
            " [ 0.50043375]\n",
            " [-0.14490768]\n",
            " [-2.94121461]\n",
            " [ 0.10378638]\n",
            " [-0.31057695]\n",
            " [ 0.79790271]\n",
            " [-0.1528407 ]\n",
            " [ 0.15176819]\n",
            " [ 0.05242947]\n",
            " [-2.92737377]\n",
            " [-2.83666977]\n",
            " [ 0.03760539]\n",
            " [ 0.06717948]\n",
            " [-0.13901183]\n",
            " [ 2.9135759 ]\n",
            " [-0.20318129]\n",
            " [-0.26715279]\n",
            " [ 0.33680666]\n",
            " [-0.08122062]\n",
            " [-0.22899589]\n",
            " [-0.15191596]\n",
            " [ 2.915593  ]\n",
            " [ 2.9103464 ]\n",
            " [-0.037616  ]\n",
            " [-0.18639982]\n",
            " [-0.07110382]\n",
            " [-2.91796131]\n",
            " [-0.36474717]\n",
            " [-0.21485923]\n",
            " [ 0.01499505]\n",
            " [-0.13504608]\n",
            " [-0.43114207]\n",
            " [-0.23534821]\n",
            " [-2.91758239]\n",
            " [-2.91325943]]\n",
            "\n",
            "Error Final durante el entrenamiento = 11.345170378458583\n"
          ],
          "name": "stdout"
        },
        {
          "output_type": "display_data",
          "data": {
            "image/png": "[encoded data removed]",
            "text/plain": [
              "<Figure size 432x288 with 1 Axes>"
            ]
          },
          "metadata": {
            "tags": []
          }
        },
        {
          "output_type": "stream",
          "text": [
            "Vector de parámetros del modelo:\n",
            "\n",
            "[[-2.80822753]\n",
            " [ 0.01823895]\n",
            " [ 1.44275936]\n",
            " [-0.28648341]\n",
            " [ 2.23998554]\n",
            " [ 1.07428863]\n",
            " [-0.15635493]\n",
            " [ 1.61051965]\n",
            " [-0.03090335]\n",
            " [ 1.07696218]\n",
            " [ 0.82389072]\n",
            " [ 2.28582491]\n",
            " [ 2.26337447]\n",
            " [-0.02779669]\n",
            " [ 0.44186068]\n",
            " [-0.09768636]\n",
            " [-2.40982215]\n",
            " [ 0.12855635]\n",
            " [-0.20827454]\n",
            " [ 0.64641822]\n",
            " [-0.11624231]\n",
            " [ 0.1727319 ]\n",
            " [ 0.07742172]\n",
            " [-2.39987769]\n",
            " [-2.32869581]\n",
            " [ 0.02752749]\n",
            " [ 0.09670908]\n",
            " [-0.09183498]\n",
            " [ 2.38999523]\n",
            " [-0.10910223]\n",
            " [-0.15753617]\n",
            " [ 0.27092491]\n",
            " [-0.04200109]\n",
            " [-0.12911866]\n",
            " [-0.0772402 ]\n",
            " [ 2.39128524]\n",
            " [ 2.38574989]\n",
            " [-0.02753439]\n",
            " [-0.10196605]\n",
            " [-0.03390134]\n",
            " [-2.39296864]\n",
            " [-0.2294471 ]\n",
            " [-0.10612897]\n",
            " [ 0.00794821]\n",
            " [-0.08659788]\n",
            " [-0.28678379]\n",
            " [-0.13533381]\n",
            " [-2.39274599]\n",
            " [-2.38972952]\n",
            " [ 0.02753422]\n",
            " [-0.20346237]\n",
            " [-0.01253855]\n",
            " [ 2.39253414]\n",
            " [-0.26786279]\n",
            " [-0.05968902]\n",
            " [-0.14419655]\n",
            " [-0.04267525]\n",
            " [-0.36164152]\n",
            " [-0.14074286]\n",
            " [ 2.39257338]\n",
            " [ 2.39298497]]\n",
            "\n",
            "Error Final durante el entrenamiento = 10.481429642201139\n"
          ],
          "name": "stdout"
        },
        {
          "output_type": "display_data",
          "data": {
            "image/png": "[encoded data removed]",
            "text/plain": [
              "<Figure size 432x288 with 1 Axes>"
            ]
          },
          "metadata": {
            "tags": []
          }
        },
        {
          "output_type": "stream",
          "text": [
            "Vector de parámetros del modelo:\n",
            "\n",
            "[[-7.13434276]\n",
            " [-0.04222545]\n",
            " [ 1.16254411]\n",
            " [ 0.18671947]\n",
            " [15.64402184]\n",
            " [ 0.81116412]\n",
            " [-1.50899274]\n",
            " [ 1.63969106]\n",
            " [ 1.19774302]\n",
            " [-5.33625924]\n",
            " [ 0.03741049]\n",
            " [17.88292905]\n",
            " [ 8.26915101]]\n",
            "\n",
            "Error Final durante el entrenamiento = 0.9775752961991931\n"
          ],
          "name": "stdout"
        },
        {
          "output_type": "display_data",
          "data": {
            "image/png": "[encoded data removed]",
            "text/plain": [
              "<Figure size 432x288 with 1 Axes>"
            ]
          },
          "metadata": {
            "tags": []
          }
        },
        {
          "output_type": "stream",
          "text": [
            "Vector de parámetros del modelo:\n",
            "\n",
            "[[-7.13434276]\n",
            " [-0.01938498]\n",
            " [ 1.83229721]\n",
            " [-0.18890207]\n",
            " [ 6.083978  ]\n",
            " [ 0.83467322]\n",
            " [-0.26098652]\n",
            " [ 2.22942213]\n",
            " [ 0.17869887]\n",
            " [ 0.26150871]\n",
            " [ 0.31954187]\n",
            " [ 5.78817067]\n",
            " [ 6.33455632]\n",
            " [-0.01935957]\n",
            " [-0.94529872]\n",
            " [ 0.14771158]\n",
            " [-6.64904932]\n",
            " [-0.75440461]\n",
            " [ 0.16482834]\n",
            " [-1.10829549]\n",
            " [-0.02019642]\n",
            " [-0.87484497]\n",
            " [-0.30612212]\n",
            " [-6.76309439]\n",
            " [-6.42556303]]\n",
            "\n",
            "Error Final durante el entrenamiento = 0.07845199979234525\n"
          ],
          "name": "stdout"
        },
        {
          "output_type": "display_data",
          "data": {
            "image/png": "[encoded data removed]",
            "text/plain": [
              "<Figure size 432x288 with 1 Axes>"
            ]
          },
          "metadata": {
            "tags": []
          }
        },
        {
          "output_type": "stream",
          "text": [
            "Vector de parámetros del modelo:\n",
            "\n",
            "[[-7.13434276]\n",
            " [-0.01795219]\n",
            " [ 1.32584501]\n",
            " [-0.12552837]\n",
            " [ 4.03873382]\n",
            " [ 0.43111559]\n",
            " [-0.04152775]\n",
            " [ 1.23649634]\n",
            " [-0.03566814]\n",
            " [ 0.04338207]\n",
            " [ 0.116356  ]\n",
            " [ 4.02024194]\n",
            " [ 3.72622692]\n",
            " [-0.00777677]\n",
            " [-0.40817532]\n",
            " [ 0.17617977]\n",
            " [-4.44675365]\n",
            " [-0.6486106 ]\n",
            " [-0.03562896]\n",
            " [-0.30393249]\n",
            " [-0.01614423]\n",
            " [-0.62694937]\n",
            " [-0.35271846]\n",
            " [-4.50813573]\n",
            " [-4.87730847]\n",
            " [ 0.00806354]\n",
            " [-0.31198486]\n",
            " [-0.09685206]\n",
            " [ 4.48436905]\n",
            " [ 0.04196032]\n",
            " [ 0.04008069]\n",
            " [-0.2887527 ]\n",
            " [ 0.07995777]\n",
            " [ 0.33299087]\n",
            " [ 0.30685858]\n",
            " [ 4.465329  ]\n",
            " [ 4.20666186]]\n",
            "\n",
            "Error Final durante el entrenamiento = 0.026102487460899878\n"
          ],
          "name": "stdout"
        },
        {
          "output_type": "display_data",
          "data": {
            "image/png": "[encoded data removed]",
            "text/plain": [
              "<Figure size 432x288 with 1 Axes>"
            ]
          },
          "metadata": {
            "tags": []
          }
        },
        {
          "output_type": "stream",
          "text": [
            "Vector de parámetros del modelo:\n",
            "\n",
            "[[-7.13434276e+00]\n",
            " [-1.58681302e-02]\n",
            " [ 1.04084390e+00]\n",
            " [-8.30168799e-02]\n",
            " [ 2.98024712e+00]\n",
            " [ 3.82110933e-01]\n",
            " [ 1.89726740e-02]\n",
            " [ 7.52536218e-01]\n",
            " [-8.46526996e-02]\n",
            " [ 2.20744430e-01]\n",
            " [ 1.52348942e-01]\n",
            " [ 3.18889381e+00]\n",
            " [ 2.96938943e+00]\n",
            " [-4.75601036e-03]\n",
            " [-2.88036452e-01]\n",
            " [ 1.24732041e-01]\n",
            " [-3.32161791e+00]\n",
            " [-5.83429035e-01]\n",
            " [ 2.80425002e-02]\n",
            " [-3.56481752e-01]\n",
            " [-4.12471399e-02]\n",
            " [-5.17995048e-01]\n",
            " [-3.62740090e-01]\n",
            " [-3.30194357e+00]\n",
            " [-3.40229465e+00]\n",
            " [ 4.77808533e-03]\n",
            " [-2.88372536e-01]\n",
            " [-4.02312925e-02]\n",
            " [ 3.32817618e+00]\n",
            " [-2.61259284e-01]\n",
            " [-5.16938023e-03]\n",
            " [-1.99943725e-01]\n",
            " [ 6.32175316e-02]\n",
            " [-1.17076395e-01]\n",
            " [-3.95512663e-02]\n",
            " [ 3.32744453e+00]\n",
            " [ 3.23849843e+00]\n",
            " [-4.75820393e-03]\n",
            " [-2.63477827e-02]\n",
            " [-3.55435142e-02]\n",
            " [-3.32032403e+00]\n",
            " [ 2.03939239e-01]\n",
            " [-1.35587131e-02]\n",
            " [ 1.49830846e-01]\n",
            " [ 1.31853073e-02]\n",
            " [ 4.17092364e-01]\n",
            " [ 2.65919640e-01]\n",
            " [-3.32106961e+00]\n",
            " [-3.34953252e+00]]\n",
            "\n",
            "Error Final durante el entrenamiento = 0.011738944770606921\n"
          ],
          "name": "stdout"
        },
        {
          "output_type": "display_data",
          "data": {
            "image/png": "[encoded data removed]",
            "text/plain": [
              "<Figure size 432x288 with 1 Axes>"
            ]
          },
          "metadata": {
            "tags": []
          }
        },
        {
          "output_type": "stream",
          "text": [
            "Vector de parámetros del modelo:\n",
            "\n",
            "[[-1.85202465e+15]\n",
            " [-9.87788990e+27]\n",
            " [-2.88766528e+29]\n",
            " [-4.10487796e+28]\n",
            " [-2.54131613e+29]\n",
            " [-2.84434331e+29]\n",
            " [-8.77881227e+28]\n",
            " [-3.23427766e+28]\n",
            " [-4.37787308e+28]\n",
            " [-2.63075064e+29]\n",
            " [-2.67649056e+29]\n",
            " [-2.25603115e+29]\n",
            " [-2.15170524e+29]\n",
            " [ 7.35617928e+27]\n",
            " [-2.64000325e+29]\n",
            " [-6.32372118e+28]\n",
            " [ 2.19089445e+29]\n",
            " [-2.48987704e+29]\n",
            " [-9.24883794e+28]\n",
            " [ 5.47123651e+28]\n",
            " [-4.68178822e+28]\n",
            " [-2.31425988e+29]\n",
            " [-2.29757023e+29]\n",
            " [ 2.23778262e+29]\n",
            " [ 2.17902274e+29]\n",
            " [-7.44003374e+27]\n",
            " [-2.45171535e+29]\n",
            " [-5.62006985e+28]\n",
            " [-2.25724869e+29]\n",
            " [-2.32422243e+29]\n",
            " [-7.78238655e+28]\n",
            " [ 5.77348555e+28]\n",
            " [-4.91305516e+28]\n",
            " [-2.14939213e+29]\n",
            " [-2.13272461e+29]\n",
            " [-2.24918875e+29]\n",
            " [-2.24248643e+29]\n",
            " [ 7.43733250e+27]\n",
            " [-2.28910913e+29]\n",
            " [-4.93996834e+28]\n",
            " [ 2.24671249e+29]\n",
            " [-2.15383367e+29]\n",
            " [-6.49586540e+28]\n",
            " [ 5.13874000e+28]\n",
            " [-3.04798302e+28]\n",
            " [-2.00816029e+29]\n",
            " [-1.96986804e+29]\n",
            " [ 2.24818034e+29]\n",
            " [ 2.24643654e+29]\n",
            " [-7.43742788e+27]\n",
            " [-2.14916785e+29]\n",
            " [-4.30869471e+28]\n",
            " [-2.24859615e+29]\n",
            " [-1.98118158e+29]\n",
            " [-5.54252630e+28]\n",
            " [ 4.12545175e+28]\n",
            " [-3.76430454e+28]\n",
            " [-1.87618892e+29]\n",
            " [-1.81370653e+29]\n",
            " [-2.24830441e+29]\n",
            " [-2.24796597e+29]]\n",
            "\n",
            "Error Final durante el entrenamiento = 1.5603169565477297e+61\n"
          ],
          "name": "stdout"
        },
        {
          "output_type": "display_data",
          "data": {
            "image/png": "[encoded data removed]",
            "text/plain": [
              "<Figure size 432x288 with 1 Axes>"
            ]
          },
          "metadata": {
            "tags": []
          }
        },
        {
          "output_type": "display_data",
          "data": {
            "application/vnd.jupyter.widget-view+json": {
              "model_id": "93bc561f93aa445ca27c3de8606c3982",
              "version_minor": 0,
              "version_major": 2
            },
            "text/plain": [
              "QgridWidget(grid_options={'fullWidthRows': True, 'syncColumnCellResize': True, 'forceFitColumns': True, 'defau…"
            ]
          },
          "metadata": {
            "tags": []
          }
        }
      ]
    },
    {
      "cell_type": "markdown",
      "metadata": {
        "id": "VKeqaLb90cCa",
        "colab_type": "text"
      },
      "source": [
        "Ejecute la siguiente instrucción para dejar guardados en el notebook los resultados de las pruebas."
      ]
    },
    {
      "cell_type": "code",
      "metadata": {
        "id": "MUDPCd7K0cCb",
        "colab_type": "code",
        "outputId": "80bf6daa-9eaa-4ce1-8216-24e3743ed70e",
        "colab": {
          "base_uri": "https://localhost:8080/",
          "height": 545
        }
      },
      "source": [
        "qgrid_widget.get_changed_df()"
      ],
      "execution_count": 155,
      "outputs": [
        {
          "output_type": "execute_result",
          "data": {
            "text/html": [
              "<div>\n",
              "<style scoped>\n",
              "    .dataframe tbody tr th:only-of-type {\n",
              "        vertical-align: middle;\n",
              "    }\n",
              "\n",
              "    .dataframe tbody tr th {\n",
              "        vertical-align: top;\n",
              "    }\n",
              "\n",
              "    .dataframe thead th {\n",
              "        text-align: right;\n",
              "    }\n",
              "</style>\n",
              "<table border=\"1\" class=\"dataframe\">\n",
              "  <thead>\n",
              "    <tr style=\"text-align: right;\">\n",
              "      <th></th>\n",
              "      <th></th>\n",
              "      <th>ECM_Entrenamiento</th>\n",
              "      <th>ECM_Prueba</th>\n",
              "    </tr>\n",
              "    <tr>\n",
              "      <th>Tasa de aprendizaje</th>\n",
              "      <th>Grado del polinomio</th>\n",
              "      <th></th>\n",
              "      <th></th>\n",
              "    </tr>\n",
              "  </thead>\n",
              "  <tbody>\n",
              "    <tr>\n",
              "      <th rowspan=\"5\" valign=\"top\">1e-1</th>\n",
              "      <th>1</th>\n",
              "      <td>0.9775752961991931</td>\n",
              "      <td>1323.8770206809468</td>\n",
              "    </tr>\n",
              "    <tr>\n",
              "      <th>2</th>\n",
              "      <td>0.07845199979234525</td>\n",
              "      <td>778.5218253112232</td>\n",
              "    </tr>\n",
              "    <tr>\n",
              "      <th>3</th>\n",
              "      <td>0.026102487460899878</td>\n",
              "      <td>690.2331167652487</td>\n",
              "    </tr>\n",
              "    <tr>\n",
              "      <th>4</th>\n",
              "      <td>0.011738944770606921</td>\n",
              "      <td>680.6499964607167</td>\n",
              "    </tr>\n",
              "    <tr>\n",
              "      <th>5</th>\n",
              "      <td>1.5603169565477297e+61</td>\n",
              "      <td>1.4752669004688885e+60</td>\n",
              "    </tr>\n",
              "    <tr>\n",
              "      <th rowspan=\"5\" valign=\"top\">1e-3</th>\n",
              "      <th>1</th>\n",
              "      <td>47.350256150664336</td>\n",
              "      <td>432.23837215035917</td>\n",
              "    </tr>\n",
              "    <tr>\n",
              "      <th>2</th>\n",
              "      <td>19.395056809154482</td>\n",
              "      <td>666.7086861202492</td>\n",
              "    </tr>\n",
              "    <tr>\n",
              "      <th>3</th>\n",
              "      <td>13.53232189764733</td>\n",
              "      <td>714.7263534639739</td>\n",
              "    </tr>\n",
              "    <tr>\n",
              "      <th>4</th>\n",
              "      <td>11.345170378458583</td>\n",
              "      <td>716.3726048028661</td>\n",
              "    </tr>\n",
              "    <tr>\n",
              "      <th>5</th>\n",
              "      <td>10.481429642201139</td>\n",
              "      <td>711.2596887212198</td>\n",
              "    </tr>\n",
              "    <tr>\n",
              "      <th rowspan=\"5\" valign=\"top\">1e-5</th>\n",
              "      <th>1</th>\n",
              "      <td>774.0544407909563</td>\n",
              "      <td>703.3758081471533</td>\n",
              "    </tr>\n",
              "    <tr>\n",
              "      <th>2</th>\n",
              "      <td>748.1860686316447</td>\n",
              "      <td>709.8817822551225</td>\n",
              "    </tr>\n",
              "    <tr>\n",
              "      <th>3</th>\n",
              "      <td>724.9884414455062</td>\n",
              "      <td>709.8470702955602</td>\n",
              "    </tr>\n",
              "    <tr>\n",
              "      <th>4</th>\n",
              "      <td>703.4089638629132</td>\n",
              "      <td>711.3700120556157</td>\n",
              "    </tr>\n",
              "    <tr>\n",
              "      <th>5</th>\n",
              "      <td>682.8442125040657</td>\n",
              "      <td>711.4024391442923</td>\n",
              "    </tr>\n",
              "  </tbody>\n",
              "</table>\n",
              "</div>"
            ],
            "text/plain": [
              "                                              ECM_Entrenamiento              ECM_Prueba\n",
              "Tasa de aprendizaje Grado del polinomio                                                \n",
              "1e-1                1                        0.9775752961991931      1323.8770206809468\n",
              "                    2                       0.07845199979234525       778.5218253112232\n",
              "                    3                      0.026102487460899878       690.2331167652487\n",
              "                    4                      0.011738944770606921       680.6499964607167\n",
              "                    5                    1.5603169565477297e+61  1.4752669004688885e+60\n",
              "1e-3                1                        47.350256150664336      432.23837215035917\n",
              "                    2                        19.395056809154482       666.7086861202492\n",
              "                    3                         13.53232189764733       714.7263534639739\n",
              "                    4                        11.345170378458583       716.3726048028661\n",
              "                    5                        10.481429642201139       711.2596887212198\n",
              "1e-5                1                         774.0544407909563       703.3758081471533\n",
              "                    2                         748.1860686316447       709.8817822551225\n",
              "                    3                         724.9884414455062       709.8470702955602\n",
              "                    4                         703.4089638629132       711.3700120556157\n",
              "                    5                         682.8442125040657       711.4024391442923"
            ]
          },
          "metadata": {
            "tags": []
          },
          "execution_count": 155
        }
      ]
    },
    {
      "cell_type": "markdown",
      "metadata": {
        "id": "Rn3dapGJ0cCg",
        "colab_type": "text"
      },
      "source": [
        "## Ejercicio 5: Pruebas\n",
        "\n",
        "En la celda de código del Ejercicio # 3, comente la línea donde se normalizan las matrices de datos Xtrain y Xtest. Realice pruebas para diferentes valores de $\\eta$ y de grado del polinomio de manera similar a los valores que usó en el punto 3. Observe que pasa con el ECM.\n",
        "\n",
        "#### Responda\n",
        "\n",
        "4.1 ¿Qué sucede con los valores del ECM?\n",
        "\n"
      ]
    },
    {
      "cell_type": "markdown",
      "metadata": {
        "id": "d1xXKwpQVOY7",
        "colab_type": "text"
      },
      "source": [
        "Los valores sin normalizar el error escala a numeros muy altos  y por eso python no los puede interpretar por sus numeros altos quedan nan .mientras, con los valores normalizados el  error no suber a numeros tan grandes.\n",
        "\n"
      ]
    },
    {
      "cell_type": "code",
      "metadata": {
        "id": "zVJ_5sgo0cCh",
        "colab_type": "code",
        "outputId": "4dea6159-4149-4068-d846-7a9345b76524",
        "colab": {
          "base_uri": "https://localhost:8080/",
          "height": 1000
        }
      },
      "source": [
        "simulacion(1, 0.0001, True, False)"
      ],
      "execution_count": 156,
      "outputs": [
        {
          "output_type": "stream",
          "text": [
            "/usr/local/lib/python3.6/dist-packages/numpy/core/fromnumeric.py:90: RuntimeWarning: overflow encountered in reduce\n",
            "  return ufunc.reduce(obj, axis, dtype, out, **passkwargs)\n",
            "/usr/local/lib/python3.6/dist-packages/ipykernel_launcher.py:3: RuntimeWarning: overflow encountered in square\n",
            "  This is separate from the ipykernel package so we can avoid doing imports until\n",
            "/usr/local/lib/python3.6/dist-packages/ipykernel_launcher.py:3: RuntimeWarning: overflow encountered in square\n",
            "  This is separate from the ipykernel package so we can avoid doing imports until\n",
            "/usr/local/lib/python3.6/dist-packages/ipykernel_launcher.py:3: RuntimeWarning: overflow encountered in square\n",
            "  This is separate from the ipykernel package so we can avoid doing imports until\n",
            "/usr/local/lib/python3.6/dist-packages/ipykernel_launcher.py:3: RuntimeWarning: overflow encountered in square\n",
            "  This is separate from the ipykernel package so we can avoid doing imports until\n",
            "/usr/local/lib/python3.6/dist-packages/ipykernel_launcher.py:3: RuntimeWarning: overflow encountered in square\n",
            "  This is separate from the ipykernel package so we can avoid doing imports until\n",
            "/usr/local/lib/python3.6/dist-packages/ipykernel_launcher.py:3: RuntimeWarning: overflow encountered in square\n",
            "  This is separate from the ipykernel package so we can avoid doing imports until\n",
            "/usr/local/lib/python3.6/dist-packages/ipykernel_launcher.py:3: RuntimeWarning: overflow encountered in square\n",
            "  This is separate from the ipykernel package so we can avoid doing imports until\n",
            "/usr/local/lib/python3.6/dist-packages/ipykernel_launcher.py:3: RuntimeWarning: overflow encountered in square\n",
            "  This is separate from the ipykernel package so we can avoid doing imports until\n",
            "/usr/local/lib/python3.6/dist-packages/ipykernel_launcher.py:3: RuntimeWarning: overflow encountered in square\n",
            "  This is separate from the ipykernel package so we can avoid doing imports until\n",
            "/usr/local/lib/python3.6/dist-packages/ipykernel_launcher.py:3: RuntimeWarning: overflow encountered in square\n",
            "  This is separate from the ipykernel package so we can avoid doing imports until\n",
            "/usr/local/lib/python3.6/dist-packages/ipykernel_launcher.py:3: RuntimeWarning: overflow encountered in square\n",
            "  This is separate from the ipykernel package so we can avoid doing imports until\n",
            "/usr/local/lib/python3.6/dist-packages/ipykernel_launcher.py:3: RuntimeWarning: overflow encountered in square\n",
            "  This is separate from the ipykernel package so we can avoid doing imports until\n",
            "/usr/local/lib/python3.6/dist-packages/ipykernel_launcher.py:3: RuntimeWarning: overflow encountered in square\n",
            "  This is separate from the ipykernel package so we can avoid doing imports until\n",
            "/usr/local/lib/python3.6/dist-packages/ipykernel_launcher.py:3: RuntimeWarning: overflow encountered in square\n",
            "  This is separate from the ipykernel package so we can avoid doing imports until\n",
            "/usr/local/lib/python3.6/dist-packages/ipykernel_launcher.py:3: RuntimeWarning: overflow encountered in square\n",
            "  This is separate from the ipykernel package so we can avoid doing imports until\n",
            "/usr/local/lib/python3.6/dist-packages/ipykernel_launcher.py:3: RuntimeWarning: overflow encountered in square\n",
            "  This is separate from the ipykernel package so we can avoid doing imports until\n",
            "/usr/local/lib/python3.6/dist-packages/ipykernel_launcher.py:3: RuntimeWarning: overflow encountered in square\n",
            "  This is separate from the ipykernel package so we can avoid doing imports until\n",
            "/usr/local/lib/python3.6/dist-packages/ipykernel_launcher.py:3: RuntimeWarning: overflow encountered in square\n",
            "  This is separate from the ipykernel package so we can avoid doing imports until\n",
            "/usr/local/lib/python3.6/dist-packages/ipykernel_launcher.py:3: RuntimeWarning: overflow encountered in square\n",
            "  This is separate from the ipykernel package so we can avoid doing imports until\n",
            "/usr/local/lib/python3.6/dist-packages/ipykernel_launcher.py:3: RuntimeWarning: overflow encountered in square\n",
            "  This is separate from the ipykernel package so we can avoid doing imports until\n",
            "/usr/local/lib/python3.6/dist-packages/ipykernel_launcher.py:3: RuntimeWarning: overflow encountered in square\n",
            "  This is separate from the ipykernel package so we can avoid doing imports until\n",
            "/usr/local/lib/python3.6/dist-packages/ipykernel_launcher.py:3: RuntimeWarning: overflow encountered in square\n",
            "  This is separate from the ipykernel package so we can avoid doing imports until\n",
            "/usr/local/lib/python3.6/dist-packages/ipykernel_launcher.py:3: RuntimeWarning: overflow encountered in square\n",
            "  This is separate from the ipykernel package so we can avoid doing imports until\n",
            "/usr/local/lib/python3.6/dist-packages/ipykernel_launcher.py:3: RuntimeWarning: overflow encountered in square\n",
            "  This is separate from the ipykernel package so we can avoid doing imports until\n",
            "/usr/local/lib/python3.6/dist-packages/ipykernel_launcher.py:3: RuntimeWarning: overflow encountered in square\n",
            "  This is separate from the ipykernel package so we can avoid doing imports until\n",
            "/usr/local/lib/python3.6/dist-packages/ipykernel_launcher.py:3: RuntimeWarning: overflow encountered in square\n",
            "  This is separate from the ipykernel package so we can avoid doing imports until\n",
            "/usr/local/lib/python3.6/dist-packages/ipykernel_launcher.py:3: RuntimeWarning: overflow encountered in square\n",
            "  This is separate from the ipykernel package so we can avoid doing imports until\n",
            "/usr/local/lib/python3.6/dist-packages/ipykernel_launcher.py:3: RuntimeWarning: overflow encountered in square\n",
            "  This is separate from the ipykernel package so we can avoid doing imports until\n",
            "/usr/local/lib/python3.6/dist-packages/ipykernel_launcher.py:3: RuntimeWarning: overflow encountered in square\n",
            "  This is separate from the ipykernel package so we can avoid doing imports until\n",
            "/usr/local/lib/python3.6/dist-packages/ipykernel_launcher.py:3: RuntimeWarning: overflow encountered in square\n",
            "  This is separate from the ipykernel package so we can avoid doing imports until\n",
            "/usr/local/lib/python3.6/dist-packages/ipykernel_launcher.py:3: RuntimeWarning: overflow encountered in square\n",
            "  This is separate from the ipykernel package so we can avoid doing imports until\n",
            "/usr/local/lib/python3.6/dist-packages/ipykernel_launcher.py:3: RuntimeWarning: overflow encountered in square\n",
            "  This is separate from the ipykernel package so we can avoid doing imports until\n",
            "/usr/local/lib/python3.6/dist-packages/ipykernel_launcher.py:3: RuntimeWarning: overflow encountered in square\n",
            "  This is separate from the ipykernel package so we can avoid doing imports until\n",
            "/usr/local/lib/python3.6/dist-packages/ipykernel_launcher.py:3: RuntimeWarning: overflow encountered in square\n",
            "  This is separate from the ipykernel package so we can avoid doing imports until\n",
            "/usr/local/lib/python3.6/dist-packages/ipykernel_launcher.py:3: RuntimeWarning: overflow encountered in square\n",
            "  This is separate from the ipykernel package so we can avoid doing imports until\n",
            "/usr/local/lib/python3.6/dist-packages/ipykernel_launcher.py:3: RuntimeWarning: overflow encountered in square\n",
            "  This is separate from the ipykernel package so we can avoid doing imports until\n",
            "/usr/local/lib/python3.6/dist-packages/ipykernel_launcher.py:3: RuntimeWarning: overflow encountered in square\n",
            "  This is separate from the ipykernel package so we can avoid doing imports until\n",
            "/usr/local/lib/python3.6/dist-packages/ipykernel_launcher.py:3: RuntimeWarning: overflow encountered in square\n",
            "  This is separate from the ipykernel package so we can avoid doing imports until\n",
            "/usr/local/lib/python3.6/dist-packages/ipykernel_launcher.py:3: RuntimeWarning: overflow encountered in square\n",
            "  This is separate from the ipykernel package so we can avoid doing imports until\n",
            "/usr/local/lib/python3.6/dist-packages/ipykernel_launcher.py:3: RuntimeWarning: overflow encountered in square\n",
            "  This is separate from the ipykernel package so we can avoid doing imports until\n",
            "/usr/local/lib/python3.6/dist-packages/ipykernel_launcher.py:3: RuntimeWarning: overflow encountered in square\n",
            "  This is separate from the ipykernel package so we can avoid doing imports until\n",
            "/usr/local/lib/python3.6/dist-packages/ipykernel_launcher.py:3: RuntimeWarning: overflow encountered in square\n",
            "  This is separate from the ipykernel package so we can avoid doing imports until\n",
            "/usr/local/lib/python3.6/dist-packages/ipykernel_launcher.py:3: RuntimeWarning: overflow encountered in square\n",
            "  This is separate from the ipykernel package so we can avoid doing imports until\n",
            "/usr/local/lib/python3.6/dist-packages/ipykernel_launcher.py:3: RuntimeWarning: overflow encountered in square\n",
            "  This is separate from the ipykernel package so we can avoid doing imports until\n",
            "/usr/local/lib/python3.6/dist-packages/ipykernel_launcher.py:3: RuntimeWarning: overflow encountered in square\n",
            "  This is separate from the ipykernel package so we can avoid doing imports until\n",
            "/usr/local/lib/python3.6/dist-packages/ipykernel_launcher.py:3: RuntimeWarning: overflow encountered in square\n",
            "  This is separate from the ipykernel package so we can avoid doing imports until\n",
            "/usr/local/lib/python3.6/dist-packages/ipykernel_launcher.py:3: RuntimeWarning: overflow encountered in square\n",
            "  This is separate from the ipykernel package so we can avoid doing imports until\n",
            "/usr/local/lib/python3.6/dist-packages/ipykernel_launcher.py:3: RuntimeWarning: overflow encountered in square\n",
            "  This is separate from the ipykernel package so we can avoid doing imports until\n",
            "/usr/local/lib/python3.6/dist-packages/ipykernel_launcher.py:3: RuntimeWarning: overflow encountered in square\n",
            "  This is separate from the ipykernel package so we can avoid doing imports until\n",
            "/usr/local/lib/python3.6/dist-packages/ipykernel_launcher.py:3: RuntimeWarning: overflow encountered in square\n",
            "  This is separate from the ipykernel package so we can avoid doing imports until\n",
            "/usr/local/lib/python3.6/dist-packages/ipykernel_launcher.py:3: RuntimeWarning: overflow encountered in square\n",
            "  This is separate from the ipykernel package so we can avoid doing imports until\n",
            "/usr/local/lib/python3.6/dist-packages/ipykernel_launcher.py:3: RuntimeWarning: overflow encountered in square\n",
            "  This is separate from the ipykernel package so we can avoid doing imports until\n",
            "/usr/local/lib/python3.6/dist-packages/ipykernel_launcher.py:3: RuntimeWarning: overflow encountered in square\n",
            "  This is separate from the ipykernel package so we can avoid doing imports until\n",
            "/usr/local/lib/python3.6/dist-packages/ipykernel_launcher.py:3: RuntimeWarning: overflow encountered in square\n",
            "  This is separate from the ipykernel package so we can avoid doing imports until\n"
          ],
          "name": "stderr"
        },
        {
          "output_type": "stream",
          "text": [
            "Vector de parámetros del modelo:\n",
            "\n",
            "[[nan]\n",
            " [nan]\n",
            " [nan]\n",
            " [nan]\n",
            " [nan]\n",
            " [nan]\n",
            " [nan]\n",
            " [nan]\n",
            " [nan]\n",
            " [nan]\n",
            " [nan]\n",
            " [nan]\n",
            " [nan]]\n",
            "\n",
            "Error Final durante el entrenamiento = nan\n"
          ],
          "name": "stdout"
        },
        {
          "output_type": "display_data",
          "data": {
            "image/png": "[encoded data removed]",
            "text/plain": [
              "<Figure size 432x288 with 1 Axes>"
            ]
          },
          "metadata": {
            "tags": []
          }
        },
        {
          "output_type": "stream",
          "text": [
            "\n",
            "Error durante la prueba = nan\n"
          ],
          "name": "stdout"
        },
        {
          "output_type": "execute_result",
          "data": {
            "text/plain": [
              "(array([[nan],\n",
              "        [nan],\n",
              "        [nan],\n",
              "        [nan],\n",
              "        [nan],\n",
              "        [nan],\n",
              "        [nan],\n",
              "        [nan],\n",
              "        [nan],\n",
              "        [nan],\n",
              "        [nan],\n",
              "        [nan],\n",
              "        [nan]]), nan, 'nan')"
            ]
          },
          "metadata": {
            "tags": []
          },
          "execution_count": 156
        }
      ]
    },
    {
      "cell_type": "markdown",
      "metadata": {
        "id": "YTvUJlfX0cCk",
        "colab_type": "text"
      },
      "source": [
        "4.2 ¿A qué se debe lo que observa?\n"
      ]
    },
    {
      "cell_type": "markdown",
      "metadata": {
        "id": "qzkF3KXdZskN",
        "colab_type": "text"
      },
      "source": [
        "Cuando no se normalizan los datos, las muestras pueden tener datos muy alejados entre si, por tanto  sus escalas pueden ser diferentes y sus datos mas dispersos,lo que puede aumentar  el error."
      ]
    },
    {
      "cell_type": "markdown",
      "metadata": {
        "id": "e08QZRfh0cCq",
        "colab_type": "text"
      },
      "source": [
        "4.3 ¿Qu&eacute; proceso hace la normalizaci&oacute;n sobre los datos? Consulte por qu&eacute; es necesaria la normalizaci&oacute;n en el modelo de regresi&oacute;n  y cu&aacute;les son los tipos de normalizaci&oacute;n m&aacute;s comunes. ¿Cu&aacute;l de ellos se aplic&oacute; en el laboratorio?"
      ]
    },
    {
      "cell_type": "markdown",
      "metadata": {
        "id": "UMYZsN_gc7Nl",
        "colab_type": "text"
      },
      "source": [
        "La normalización de los datos hace que funcionen en la misma escala, es un ajuste matetico para que se puedan trabajar los datos con un margen de error mas bajo, no es necesaria pero se aconceja aplicarlo por que optimiza los algoritmos y ayuda a la convergencia.\n",
        "Los procesos de normalización mas comunes son:\n",
        "\n",
        "\n",
        "*   Puntuación Estandar (Z-Score)\n",
        "*   T de estudent\n",
        "*   Coeficiente de variación\n",
        "*   Momento estandarizado\n",
        "*   Studentized Residual\n",
        "*   Característica scaling\n",
        "\n",
        "En el laboratorio se empleo el proceso Z-score.\n",
        "\n"
      ]
    }
  ]
}