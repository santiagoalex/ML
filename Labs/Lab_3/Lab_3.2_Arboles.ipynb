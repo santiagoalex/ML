{
 "cells": [
  {
   "cell_type": "markdown",
   "metadata": {
    "colab_type": "text",
    "id": "i5CLrfahHRG0"
   },
   "source": [
    "# Laboratorio 3 - Parte 2\n",
    "\n",
    "### Arboles de decisión y Random Forest\n",
    "\n",
    "### 2019-II\n",
    "\n",
    "#### Profesor: Julián D. Arias Londoño\n",
    "#### julian.ariasl@udea.edu.co\n"
   ]
  },
  {
   "cell_type": "markdown",
   "metadata": {
    "colab_type": "text",
    "id": "8TY5DdcvHRHC"
   },
   "source": [
    "## Guía del laboratorio\n",
    "\n",
    "En esta archivo va a encontrar tanto celdas de código cómo celdas de texto con las instrucciones para desarrollar el laboratorio.\n",
    "\n",
    "Lea atentamente las instrucciones entregadas en las celdas de texto correspondientes y proceda con la solución de las preguntas planteadas.\n",
    "\n",
    "Nota: no olvide ir ejecutando las celdas de código de arriba hacia abajo para que no tenga errores de importación de librerías o por falta de definición de variables."
   ]
  },
  {
   "cell_type": "markdown",
   "metadata": {
    "colab_type": "text",
    "id": "hZgDPEgJHRHJ"
   },
   "source": [
    "#### Primer integrante: Santiago Alexis Sanchéz Zuleta\n",
    "#### Segundo integrante: Raúl Andrés Gómez Ramírez"
   ]
  },
  {
   "cell_type": "code",
   "execution_count": 0,
   "metadata": {
    "colab": {},
    "colab_type": "code",
    "id": "XQ93vSVZHRHP"
   },
   "outputs": [],
   "source": [
    "%matplotlib inline\n",
    "import numpy as np\n",
    "import scipy as sc\n",
    "import matplotlib.pyplot as plt\n",
    "from scipy import stats\n",
    "from __future__ import division\n",
    "\n",
    "\n",
    "#Algunas advertencias que queremos evitar\n",
    "import warnings\n",
    "warnings.filterwarnings(\"always\")"
   ]
  },
  {
   "cell_type": "markdown",
   "metadata": {
    "colab_type": "text",
    "id": "ww9VyYj0HRHc"
   },
   "source": [
    "## Ejercicio 1\n",
    "\n",
    "A continuación se leen los datos de un problema de clasificación. El problema corresponde a la clasifiación de dígitos escritos a mano, el cual fue abordado en el laboratorio anterior. Usaremos únicamente 4 de las 10 clases disponibles. Los datos fueron preprocesados para reducir el número de características. La técnica usada será analizada más adelante en el curso."
   ]
  },
  {
   "cell_type": "code",
   "execution_count": 0,
   "metadata": {
    "colab": {
     "base_uri": "https://localhost:8080/",
     "height": 176
    },
    "colab_type": "code",
    "id": "slYQSm5nHRHf",
    "outputId": "eae45f92-a696-487b-c2ae-b64090fde275"
   },
   "outputs": [
    {
     "name": "stderr",
     "output_type": "stream",
     "text": [
      "/usr/lib/python3.6/importlib/_bootstrap.py:219: RuntimeWarning: numpy.ufunc size changed, may indicate binary incompatibility. Expected 192 from C header, got 216 from PyObject\n",
      "  return f(*args, **kwds)\n",
      "/usr/lib/python3.6/importlib/_bootstrap.py:219: RuntimeWarning: numpy.ufunc size changed, may indicate binary incompatibility. Expected 192 from C header, got 216 from PyObject\n",
      "  return f(*args, **kwds)\n",
      "/usr/lib/python3.6/importlib/_bootstrap.py:219: RuntimeWarning: numpy.ufunc size changed, may indicate binary incompatibility. Expected 192 from C header, got 216 from PyObject\n",
      "  return f(*args, **kwds)\n",
      "/usr/lib/python3.6/importlib/_bootstrap.py:219: RuntimeWarning: numpy.ufunc size changed, may indicate binary incompatibility. Expected 192 from C header, got 216 from PyObject\n",
      "  return f(*args, **kwds)\n"
     ]
    }
   ],
   "source": [
    "from sklearn.datasets import load_digits\n",
    "from sklearn.decomposition import PCA\n",
    "digits = load_digits(n_class=4)\n",
    "\n",
    "#--------- preprocesamiento--------------------\n",
    "pca = PCA(0.99, whiten=True)\n",
    "data = pca.fit_transform(digits.data)\n",
    "\n",
    "#---------- Datos a usar ----------------------\n",
    "X = data\n",
    "Y = digits.target\n",
    "    "
   ]
  },
  {
   "cell_type": "markdown",
   "metadata": {
    "colab_type": "text",
    "id": "SnMvWTOXHRHn"
   },
   "source": [
    "En la siguiente celda se define una simulación para entrenar y validar un modelo usando los datos previamente cargados. Complete el código para usar como modelo de predicción un arbol de decisión. Debe consultar todo lo relacionado con la creación, entrenamiento y uso en predicción de este modelo usando la librería scikit-learn. Consultar aquí: http://scikit-learn.org/stable/modules/generated/sklearn.tree.DecisionTreeClassifier.html\n",
    "\n",
    "<b>Note</b> que existe una clase para modelos de clasificación y otra para modelos de regresión:\n",
    "http://scikit-learn.org/stable/modules/generated/sklearn.tree.DecisionTreeRegressor.html"
   ]
  },
  {
   "cell_type": "code",
   "execution_count": 0,
   "metadata": {
    "colab": {},
    "colab_type": "code",
    "id": "2zT-xdXRHRHp"
   },
   "outputs": [],
   "source": [
    "import math\n",
    "import numpy as np\n",
    "from numpy import random\n",
    "from sklearn.model_selection import StratifiedKFold\n",
    "from sklearn.tree import DecisionTreeClassifier\n",
    "import numpy.matlib\n",
    "\n",
    "def simulacion(profundidad):\n",
    " \n",
    "  #Validamos el modelo\n",
    "  Folds = 4\n",
    "  random.seed(19680801)\n",
    "  EficienciaTrain = np.zeros(Folds)\n",
    "  EficienciaVal = np.zeros(Folds)\n",
    "  skf = StratifiedKFold(n_splits=Folds)\n",
    "  j = 0\n",
    "  for train, test in skf.split(X, Y):\n",
    "      Xtrain = X[train,:]\n",
    "      Ytrain = Y[train]\n",
    "      Xtest = X[test,:]\n",
    "      Ytest = Y[test]\n",
    "      \n",
    "      #Normalizamos los datos\n",
    "      media = np.mean(Xtrain)\n",
    "      desvia = np.std(Xtrain)\n",
    "      Xtrain = sc.stats.stats.zscore(Xtrain)\n",
    "      Xtest = (Xtest - np.matlib.repmat(media, Xtest.shape[0], 1))/np.matlib.repmat(desvia, Xtest.shape[0], 1)\n",
    "      \n",
    "      #Haga el llamado a la función para crear y entrenar el modelo usando los datos de entrenamiento\n",
    "      #print(profundidad)\n",
    "      model = DecisionTreeClassifier(max_depth=int(profundidad))\n",
    "      model.fit(Xtrain,Ytrain)\n",
    "      \n",
    "      \n",
    "      \n",
    "      #Validación\n",
    "      Ytrain_pred = model.predict(Xtrain) #Use el modelo previamente entrenado para hacer predicciones con las mismas muestras de entrenamiento\n",
    "      Yest =model.predict(Xtest) #Use el modelo previamente entrenado para hacer predicciones con las muestras de test\n",
    "      \n",
    "      #Evaluamos las predicciones del modelo con los datos de test\n",
    "      EficienciaTrain[j] = np.mean(Ytrain_pred.ravel() == Ytrain.ravel())\n",
    "      EficienciaVal[j] = np.mean(Yest.ravel() == Ytest.ravel())\n",
    "      j += 1\n",
    "          \n",
    "  print('Eficiencia durante el entrenamiento = ' + str(np.mean(EficienciaTrain)) + '+-' + str(np.std(EficienciaTrain)))\n",
    "  print('Eficiencia durante la validación = ' + str(np.mean(EficienciaVal)) + '+-' + str(np.std(EficienciaVal)))\n",
    "  return  str(np.mean(EficienciaVal)), str(np.std(EficienciaVal))\n"
   ]
  },
  {
   "cell_type": "markdown",
   "metadata": {
    "colab_type": "text",
    "id": "Mzov7V1fHRHv"
   },
   "source": [
    "Responda:\n",
    "\n",
    "1.1 ¿Cuáles criterios para detener el crecimiento del árbol o de los nodos están disponibles en la librería?:\n",
    "\n",
    "R/ \n",
    "* Se tiene la profundidad, con la cual se puede definir el máximo nivel al que puede llegar el árbol.\n",
    "*El minimo numero de muestras que limitamos a un nodo hoja.  \n",
    "*El minimo numero de muestras necesarias para dividir un nodo interno.\n",
    "\n"
   ]
  },
  {
   "cell_type": "markdown",
   "metadata": {
    "colab_type": "text",
    "id": "gIT7kIu7HRHy"
   },
   "source": [
    "1.2. ¿Cuáles son los parámetros asociados con los criterios enumerados en el punto anterior?:\n",
    "\n",
    "R/ max_depth, min_samples_leaf, min_samples_split"
   ]
  },
  {
   "cell_type": "markdown",
   "metadata": {
    "colab_type": "text",
    "id": "yA9RQkiLHRIF"
   },
   "source": [
    "## Ejercicio 2\n",
    "\n",
    "Una vez completado el código realice los experimentos necesarios para llenar la siguiente tabla:"
   ]
  },
  {
   "cell_type": "code",
   "execution_count": 0,
   "metadata": {
    "colab": {
     "base_uri": "https://localhost:8080/",
     "height": 245,
     "referenced_widgets": [
      "b6d779c1b2054ad180b4c6003f6c0e4d"
     ]
    },
    "colab_type": "code",
    "id": "809V50tkHRIJ",
    "outputId": "f01b827f-7070-4b26-a8a3-a8516f55f10c"
   },
   "outputs": [
    {
     "name": "stdout",
     "output_type": "stream",
     "text": [
      "Eficiencia durante el entrenamiento = 0.9828703703703703+-0.004606423319938036\n",
      "Eficiencia durante la validación = 0.9111111111111111+-0.04461771778946944\n",
      "Eficiencia durante el entrenamiento = 1.0+-0.0\n",
      "Eficiencia durante la validación = 0.9013888888888889+-0.03224496323956637\n",
      "Eficiencia durante el entrenamiento = 1.0+-0.0\n",
      "Eficiencia durante la validación = 0.9013888888888889+-0.03224496323956637\n",
      "Eficiencia durante el entrenamiento = 1.0+-0.0\n",
      "Eficiencia durante la validación = 0.9013888888888889+-0.03224496323956637\n",
      "Eficiencia durante el entrenamiento = 1.0+-0.0\n",
      "Eficiencia durante la validación = 0.9013888888888889+-0.03224496323956637\n"
     ]
    },
    {
     "name": "stderr",
     "output_type": "stream",
     "text": [
      "/usr/local/lib/python3.6/dist-packages/qgrid/grid.py:827: DeprecationWarning: QgridWidget._df_changed is deprecated in traitlets 4.1: use @observe and @unobserve instead.\n",
      "  def _df_changed(self):\n"
     ]
    },
    {
     "data": {
      "application/vnd.jupyter.widget-view+json": {
       "model_id": "b6d779c1b2054ad180b4c6003f6c0e4d",
       "version_major": 2,
       "version_minor": 0
      },
      "text/plain": [
       "QgridWidget(grid_options={'fullWidthRows': True, 'syncColumnCellResize': True, 'forceFitColumns': True, 'defau…"
      ]
     },
     "metadata": {
      "tags": []
     },
     "output_type": "display_data"
    }
   ],
   "source": [
    "#!pip install qgrid\n",
    "import pandas as pd\n",
    "import qgrid\n",
    "import numpy as np\n",
    "randn = np.random.randn\n",
    "df_types = pd.DataFrame({\n",
    "    'Maxima profundidad' : pd.Series([5,10,20,30,50])})\n",
    " \n",
    "df_types[\"Eficiencia en validacion\"] = \"\"\n",
    "df_types[\"Intervalo de confianza\"] = \"\"\n",
    "df_types.set_index(['Maxima profundidad'], inplace=True)\n",
    "for d in df_types.index:\n",
    "  #print(\"aca esta el depth\"+ d)\n",
    "  Validation_efficiency,confidence_interval=simulacion(d)\n",
    "  df_types[\"Eficiencia en validacion\"][d]=Validation_efficiency\n",
    "  df_types[\"Intervalo de confianza\"][d]=confidence_interval\n",
    "\n",
    "#df_types.sort_index(inplace=True)\n",
    "qgrid_widget = qgrid.show_grid(df_types, show_toolbar=False)\n",
    "qgrid_widget"
   ]
  },
  {
   "cell_type": "markdown",
   "metadata": {
    "colab_type": "text",
    "id": "Io-s_JE-HRIY"
   },
   "source": [
    "Ejecute la siguiente instrucción para dejar guardados en el notebook los resultados de las pruebas."
   ]
  },
  {
   "cell_type": "code",
   "execution_count": 0,
   "metadata": {
    "colab": {
     "base_uri": "https://localhost:8080/",
     "height": 237
    },
    "colab_type": "code",
    "id": "734shW0VHRIb",
    "outputId": "889a5fe6-2c0f-4029-b5a3-41cd0ac0647d"
   },
   "outputs": [
    {
     "data": {
      "text/html": [
       "<div>\n",
       "<style scoped>\n",
       "    .dataframe tbody tr th:only-of-type {\n",
       "        vertical-align: middle;\n",
       "    }\n",
       "\n",
       "    .dataframe tbody tr th {\n",
       "        vertical-align: top;\n",
       "    }\n",
       "\n",
       "    .dataframe thead th {\n",
       "        text-align: right;\n",
       "    }\n",
       "</style>\n",
       "<table border=\"1\" class=\"dataframe\">\n",
       "  <thead>\n",
       "    <tr style=\"text-align: right;\">\n",
       "      <th></th>\n",
       "      <th>Eficiencia en validacion</th>\n",
       "      <th>Intervalo de confianza</th>\n",
       "    </tr>\n",
       "    <tr>\n",
       "      <th>Maxima profundidad</th>\n",
       "      <th></th>\n",
       "      <th></th>\n",
       "    </tr>\n",
       "  </thead>\n",
       "  <tbody>\n",
       "    <tr>\n",
       "      <th>5</th>\n",
       "      <td>0.9111111111111111</td>\n",
       "      <td>0.04461771778946944</td>\n",
       "    </tr>\n",
       "    <tr>\n",
       "      <th>10</th>\n",
       "      <td>0.9013888888888889</td>\n",
       "      <td>0.03224496323956637</td>\n",
       "    </tr>\n",
       "    <tr>\n",
       "      <th>20</th>\n",
       "      <td>0.9013888888888889</td>\n",
       "      <td>0.03224496323956637</td>\n",
       "    </tr>\n",
       "    <tr>\n",
       "      <th>30</th>\n",
       "      <td>0.9013888888888889</td>\n",
       "      <td>0.03224496323956637</td>\n",
       "    </tr>\n",
       "    <tr>\n",
       "      <th>50</th>\n",
       "      <td>0.9013888888888889</td>\n",
       "      <td>0.03224496323956637</td>\n",
       "    </tr>\n",
       "  </tbody>\n",
       "</table>\n",
       "</div>"
      ],
      "text/plain": [
       "                   Eficiencia en validacion Intervalo de confianza\n",
       "Maxima profundidad                                                \n",
       "5                        0.9111111111111111    0.04461771778946944\n",
       "10                       0.9013888888888889    0.03224496323956637\n",
       "20                       0.9013888888888889    0.03224496323956637\n",
       "30                       0.9013888888888889    0.03224496323956637\n",
       "50                       0.9013888888888889    0.03224496323956637"
      ]
     },
     "execution_count": 10,
     "metadata": {
      "tags": []
     },
     "output_type": "execute_result"
    }
   ],
   "source": [
    "qgrid_widget.get_changed_df()"
   ]
  },
  {
   "cell_type": "markdown",
   "metadata": {
    "colab_type": "text",
    "id": "8XgLXoRWHRIp"
   },
   "source": [
    "Responda: \n",
    "    \n",
    "2.1 ¿Tiene algún efecto la normalización o estándarización de las variables en el desempeño del modelo de árboles de decisión? Explique su respuesta.    \n",
    "\n",
    "R/Sufre unos cambios en la eficiencia aumentando un poco en los casos que su profundidad es mayor a 5 pero a su vez aumenta su intervalo de confianza, no es tan notorio el cambio."
   ]
  },
  {
   "cell_type": "code",
   "execution_count": 0,
   "metadata": {
    "colab": {
     "base_uri": "https://localhost:8080/",
     "height": 237
    },
    "colab_type": "code",
    "id": "_Ppuwci19Szn",
    "outputId": "9aa77a32-5d57-4187-9041-dd755296dd0c"
   },
   "outputs": [
    {
     "data": {
      "text/html": [
       "<div>\n",
       "<style scoped>\n",
       "    .dataframe tbody tr th:only-of-type {\n",
       "        vertical-align: middle;\n",
       "    }\n",
       "\n",
       "    .dataframe tbody tr th {\n",
       "        vertical-align: top;\n",
       "    }\n",
       "\n",
       "    .dataframe thead th {\n",
       "        text-align: right;\n",
       "    }\n",
       "</style>\n",
       "<table border=\"1\" class=\"dataframe\">\n",
       "  <thead>\n",
       "    <tr style=\"text-align: right;\">\n",
       "      <th></th>\n",
       "      <th>Eficiencia en validacion</th>\n",
       "      <th>Intervalo de confianza</th>\n",
       "    </tr>\n",
       "    <tr>\n",
       "      <th>Maxima profundidad</th>\n",
       "      <th></th>\n",
       "      <th></th>\n",
       "    </tr>\n",
       "  </thead>\n",
       "  <tbody>\n",
       "    <tr>\n",
       "      <th>5</th>\n",
       "      <td>0.9111111111111111</td>\n",
       "      <td>0.04461771778946944</td>\n",
       "    </tr>\n",
       "    <tr>\n",
       "      <th>10</th>\n",
       "      <td>0.9013888888888889</td>\n",
       "      <td>0.03224496323956637</td>\n",
       "    </tr>\n",
       "    <tr>\n",
       "      <th>20</th>\n",
       "      <td>0.9013888888888889</td>\n",
       "      <td>0.03224496323956637</td>\n",
       "    </tr>\n",
       "    <tr>\n",
       "      <th>30</th>\n",
       "      <td>0.9013888888888889</td>\n",
       "      <td>0.03224496323956637</td>\n",
       "    </tr>\n",
       "    <tr>\n",
       "      <th>50</th>\n",
       "      <td>0.9013888888888889</td>\n",
       "      <td>0.03224496323956637</td>\n",
       "    </tr>\n",
       "  </tbody>\n",
       "</table>\n",
       "</div>"
      ],
      "text/plain": [
       "                   Eficiencia en validacion Intervalo de confianza\n",
       "Maxima profundidad                                                \n",
       "5                        0.9111111111111111    0.04461771778946944\n",
       "10                       0.9013888888888889    0.03224496323956637\n",
       "20                       0.9013888888888889    0.03224496323956637\n",
       "30                       0.9013888888888889    0.03224496323956637\n",
       "50                       0.9013888888888889    0.03224496323956637"
      ]
     },
     "execution_count": 11,
     "metadata": {
      "tags": []
     },
     "output_type": "execute_result"
    }
   ],
   "source": [
    "qgrid_widget.get_changed_df()"
   ]
  },
  {
   "cell_type": "markdown",
   "metadata": {
    "colab_type": "text",
    "id": "PYNgLHOo9lnA"
   },
   "source": [
    "\n",
    "\n",
    "## Algoritmo sin normalización\n",
    "\n",
    "\n",
    "\n",
    "\n",
    "\n"
   ]
  },
  {
   "cell_type": "code",
   "execution_count": 0,
   "metadata": {
    "colab": {},
    "colab_type": "code",
    "id": "QCRuLoHQ9HPs"
   },
   "outputs": [],
   "source": [
    "def simulacion2(profundidad):\n",
    " \n",
    "  #Validamos el modelo\n",
    "  Folds = 4\n",
    "  random.seed(19680801)\n",
    "  EficienciaTrain = np.zeros(Folds)\n",
    "  EficienciaVal = np.zeros(Folds)\n",
    "  skf = StratifiedKFold(n_splits=Folds)\n",
    "  j = 0\n",
    "  for train, test in skf.split(X, Y):\n",
    "      Xtrain = X[train,:]\n",
    "      Ytrain = Y[train]\n",
    "      Xtest = X[test,:]\n",
    "      Ytest = Y[test]\n",
    "      \n",
    "      #Haga el llamado a la función para crear y entrenar el modelo usando los datos de entrenamiento\n",
    "      #print(profundidad)\n",
    "      model = DecisionTreeClassifier(max_depth=int(profundidad))\n",
    "      model.fit(Xtrain,Ytrain)\n",
    "      \n",
    "      \n",
    "      \n",
    "      #Validación\n",
    "      Ytrain_pred = model.predict(Xtrain) #Use el modelo previamente entrenado para hacer predicciones con las mismas muestras de entrenamiento\n",
    "      Yest =model.predict(Xtest) #Use el modelo previamente entrenado para hacer predicciones con las muestras de test\n",
    "      \n",
    "      #Evaluamos las predicciones del modelo con los datos de test\n",
    "      EficienciaTrain[j] = np.mean(Ytrain_pred.ravel() == Ytrain.ravel())\n",
    "      EficienciaVal[j] = np.mean(Yest.ravel() == Ytest.ravel())\n",
    "      j += 1\n",
    "          \n",
    "  print('Eficiencia durante el entrenamiento = ' + str(np.mean(EficienciaTrain)) + '+-' + str(np.std(EficienciaTrain)))\n",
    "  print('Eficiencia durante la validación = ' + str(np.mean(EficienciaVal)) + '+-' + str(np.std(EficienciaVal)))\n",
    "  return  str(np.mean(EficienciaVal)), str(np.std(EficienciaVal))\n"
   ]
  },
  {
   "cell_type": "code",
   "execution_count": 0,
   "metadata": {
    "colab": {
     "base_uri": "https://localhost:8080/",
     "height": 191,
     "referenced_widgets": [
      "43ca83329bda423d9a450108f2ca6b80"
     ]
    },
    "colab_type": "code",
    "id": "hFvD0OkH9PuL",
    "outputId": "1c0b02e2-6551-42d6-9ef0-40abd1749528"
   },
   "outputs": [
    {
     "name": "stdout",
     "output_type": "stream",
     "text": [
      "Eficiencia durante el entrenamiento = 0.9828703703703703+-0.004606423319938036\n",
      "Eficiencia durante la validación = 0.9097222222222222+-0.046043290150696574\n",
      "Eficiencia durante el entrenamiento = 1.0+-0.0\n",
      "Eficiencia durante la validación = 0.9041666666666667+-0.033188342070412574\n",
      "Eficiencia durante el entrenamiento = 1.0+-0.0\n",
      "Eficiencia durante la validación = 0.9041666666666667+-0.033188342070412574\n",
      "Eficiencia durante el entrenamiento = 1.0+-0.0\n",
      "Eficiencia durante la validación = 0.9041666666666667+-0.033188342070412574\n",
      "Eficiencia durante el entrenamiento = 1.0+-0.0\n",
      "Eficiencia durante la validación = 0.9041666666666667+-0.033188342070412574\n"
     ]
    },
    {
     "data": {
      "application/vnd.jupyter.widget-view+json": {
       "model_id": "43ca83329bda423d9a450108f2ca6b80",
       "version_major": 2,
       "version_minor": 0
      },
      "text/plain": [
       "QgridWidget(grid_options={'fullWidthRows': True, 'syncColumnCellResize': True, 'forceFitColumns': True, 'defau…"
      ]
     },
     "metadata": {
      "tags": []
     },
     "output_type": "display_data"
    }
   ],
   "source": [
    "randn = np.random.randn\n",
    "df_types2 = pd.DataFrame({\n",
    "    'Maxima profundidad' : pd.Series([5,10,20,30,50])})\n",
    " \n",
    "df_types2[\"Eficiencia en validacion\"] = \"\"\n",
    "df_types2[\"Intervalo de confianza\"] = \"\"\n",
    "df_types2.set_index(['Maxima profundidad'], inplace=True)\n",
    "for de in df_types2.index:\n",
    "  #print(\"aca esta el depth\"+ d)\n",
    "  Validation_efficiency,confidence_interval=simulacion2(de)\n",
    "  df_types2[\"Eficiencia en validacion\"][de]=Validation_efficiency\n",
    "  df_types2[\"Intervalo de confianza\"][de]=confidence_interval\n",
    "\n",
    "#df_types.sort_index(inplace=True)\n",
    "qgrid_widget = qgrid.show_grid(df_types2, show_toolbar=False)\n",
    "qgrid_widget"
   ]
  },
  {
   "cell_type": "markdown",
   "metadata": {
    "colab_type": "text",
    "id": "g5elfdxSHRI0"
   },
   "source": [
    "## Ejercicio 3\n",
    "\n",
    "En la siguiente celda se define una simulación para entrenar y validar un modelo usando los datos previamente cargados. Complete el código para usar como modelo de predicción un Random Forest. Debe consultar todo lo relacionado con la creación, entrenamiento y uso en predicción de este modelo usando la librería scikit-learn. Consultar aquí: http://scikit-learn.org/stable/modules/generated/sklearn.ensemble.RandomForestClassifier.html \n",
    "\n",
    "<b>Note</b> que al igual que en el caso anterior, existe una clase para modelos de clasificación y otra para modelos de regresión: http://scikit-learn.org/stable/modules/generated/sklearn.ensemble.RandomForestRegressor.html"
   ]
  },
  {
   "cell_type": "code",
   "execution_count": 0,
   "metadata": {
    "colab": {},
    "colab_type": "code",
    "id": "vVADU6K1HRI4"
   },
   "outputs": [],
   "source": [
    "from sklearn.ensemble import RandomForestClassifier\n",
    "\n",
    "def simulacionRF(n_trees,features):\n",
    "  #Validamos el modelo\n",
    "  Folds = 4\n",
    "  random.seed(19680801)\n",
    "  EficienciaTrain = np.zeros(Folds)\n",
    "  EficienciaVal = np.zeros(Folds)\n",
    "  skf = StratifiedKFold(n_splits=Folds)\n",
    "  j = 0\n",
    "  for train, test in skf.split(X, Y):\n",
    "      Xtrain = X[train,:]\n",
    "      Ytrain = Y[train]\n",
    "      Xtest = X[test,:]\n",
    "      Ytest = Y[test]\n",
    "      \n",
    "      #Normalizamos los datos\n",
    "      media = np.mean(Xtrain)\n",
    "      desvia = np.std(Xtrain)\n",
    "      Xtrain = sc.stats.stats.zscore(Xtrain)\n",
    "      Xtest = (Xtest - np.matlib.repmat(media, Xtest.shape[0], 1))/np.matlib.repmat(desvia, Xtest.shape[0], 1)\n",
    "      \n",
    "      #Haga el llamado a la función para crear y entrenar el modelo usando los datos de entrenamiento\n",
    "      model = RandomForestClassifier(n_estimators=n_trees,max_features=features)\n",
    "      model.fit(Xtrain,Ytrain)\n",
    "      \n",
    "      #Validación\n",
    "      Ytrain_pred = model.predict(Xtrain) #Use el modelo previamente entrenado para hacer predicciones con aas mismas muestras de entrenamiento\n",
    "      Yest = model.predict(Xtest) #Use el modelo previamente entrenado para hacer predicciones con las muesaras de test\n",
    "      \n",
    "      #Evaluamos las prediccionesadel modelo con los datos de test\n",
    "      EficienciaTrain[j] = np.mean(Ytrain_pred.ravel() == Ytrain.ravel())\n",
    "      EficienciaVal[j] = np.mean(Yest.ravel() == Ytest.ravel())\n",
    "      j += 1\n",
    "          \n",
    "  print('Eficiencia durante el entrenamiento = ' + str(np.mean(EficienciaTrain)) + '+-' + str(np.std(EficienciaTrain)))\n",
    "  print('Eficiencia durante la validación = ' + str(np.mean(EficienciaVal)) + '+-' + str(np.std(EficienciaVal)))\n",
    "  return str(np.mean(EficienciaVal)), str(np.std(EficienciaVal))\n"
   ]
  },
  {
   "cell_type": "markdown",
   "metadata": {
    "colab_type": "text",
    "id": "uTk4QLH0HRJE"
   },
   "source": [
    "Una vez completado el código realice los experimentos necesarios para llenar la siguiente tabla:"
   ]
  },
  {
   "cell_type": "code",
   "execution_count": 0,
   "metadata": {
    "colab": {
     "base_uri": "https://localhost:8080/",
     "height": 1000,
     "referenced_widgets": [
      "1268f89855624e0e9275da18d1c6c96c"
     ]
    },
    "colab_type": "code",
    "id": "PX238FpVHRJI",
    "outputId": "66f6bcff-c114-4601-ca2a-03e7d0516ebe"
   },
   "outputs": [
    {
     "name": "stdout",
     "output_type": "stream",
     "text": [
      "Requirement already satisfied: qgrid in /usr/local/lib/python3.6/dist-packages (1.3.0)\n",
      "Requirement already satisfied: notebook>=4.0.0 in /usr/local/lib/python3.6/dist-packages (from qgrid) (5.2.2)\n",
      "Requirement already satisfied: ipywidgets>=7.0.0 in /usr/local/lib/python3.6/dist-packages (from qgrid) (7.5.1)\n",
      "Requirement already satisfied: pandas>=0.18.0 in /usr/local/lib/python3.6/dist-packages (from qgrid) (0.25.3)\n",
      "Requirement already satisfied: terminado>=0.3.3; sys_platform != \"win32\" in /usr/local/lib/python3.6/dist-packages (from notebook>=4.0.0->qgrid) (0.8.3)\n",
      "Requirement already satisfied: jupyter-client in /usr/local/lib/python3.6/dist-packages (from notebook>=4.0.0->qgrid) (5.3.4)\n",
      "Requirement already satisfied: ipykernel in /usr/local/lib/python3.6/dist-packages (from notebook>=4.0.0->qgrid) (4.6.1)\n",
      "Requirement already satisfied: jupyter-core in /usr/local/lib/python3.6/dist-packages (from notebook>=4.0.0->qgrid) (4.6.2)\n",
      "Requirement already satisfied: nbconvert in /usr/local/lib/python3.6/dist-packages (from notebook>=4.0.0->qgrid) (5.6.1)\n",
      "Requirement already satisfied: nbformat in /usr/local/lib/python3.6/dist-packages (from notebook>=4.0.0->qgrid) (5.0.4)\n",
      "Requirement already satisfied: tornado>=4 in /usr/local/lib/python3.6/dist-packages (from notebook>=4.0.0->qgrid) (4.5.3)\n",
      "Requirement already satisfied: jinja2 in /usr/local/lib/python3.6/dist-packages (from notebook>=4.0.0->qgrid) (2.11.1)\n",
      "Requirement already satisfied: traitlets>=4.2.1 in /usr/local/lib/python3.6/dist-packages (from notebook>=4.0.0->qgrid) (4.3.3)\n",
      "Requirement already satisfied: ipython-genutils in /usr/local/lib/python3.6/dist-packages (from notebook>=4.0.0->qgrid) (0.2.0)\n",
      "Requirement already satisfied: ipython>=4.0.0; python_version >= \"3.3\" in /usr/local/lib/python3.6/dist-packages (from ipywidgets>=7.0.0->qgrid) (5.5.0)\n",
      "Requirement already satisfied: widgetsnbextension~=3.5.0 in /usr/local/lib/python3.6/dist-packages (from ipywidgets>=7.0.0->qgrid) (3.5.1)\n",
      "Requirement already satisfied: pytz>=2017.2 in /usr/local/lib/python3.6/dist-packages (from pandas>=0.18.0->qgrid) (2018.9)\n",
      "Requirement already satisfied: numpy>=1.13.3 in /usr/local/lib/python3.6/dist-packages (from pandas>=0.18.0->qgrid) (1.17.5)\n",
      "Requirement already satisfied: python-dateutil>=2.6.1 in /usr/local/lib/python3.6/dist-packages (from pandas>=0.18.0->qgrid) (2.6.1)\n",
      "Requirement already satisfied: ptyprocess; os_name != \"nt\" in /usr/local/lib/python3.6/dist-packages (from terminado>=0.3.3; sys_platform != \"win32\"->notebook>=4.0.0->qgrid) (0.6.0)\n",
      "Requirement already satisfied: pyzmq>=13 in /usr/local/lib/python3.6/dist-packages (from jupyter-client->notebook>=4.0.0->qgrid) (17.0.0)\n",
      "Requirement already satisfied: entrypoints>=0.2.2 in /usr/local/lib/python3.6/dist-packages (from nbconvert->notebook>=4.0.0->qgrid) (0.3)\n",
      "Requirement already satisfied: defusedxml in /usr/local/lib/python3.6/dist-packages (from nbconvert->notebook>=4.0.0->qgrid) (0.6.0)\n",
      "Requirement already satisfied: pandocfilters>=1.4.1 in /usr/local/lib/python3.6/dist-packages (from nbconvert->notebook>=4.0.0->qgrid) (1.4.2)\n",
      "Requirement already satisfied: pygments in /usr/local/lib/python3.6/dist-packages (from nbconvert->notebook>=4.0.0->qgrid) (2.1.3)\n",
      "Requirement already satisfied: mistune<2,>=0.8.1 in /usr/local/lib/python3.6/dist-packages (from nbconvert->notebook>=4.0.0->qgrid) (0.8.4)\n",
      "Requirement already satisfied: bleach in /usr/local/lib/python3.6/dist-packages (from nbconvert->notebook>=4.0.0->qgrid) (3.1.0)\n",
      "Requirement already satisfied: testpath in /usr/local/lib/python3.6/dist-packages (from nbconvert->notebook>=4.0.0->qgrid) (0.4.4)\n",
      "Requirement already satisfied: jsonschema!=2.5.0,>=2.4 in /usr/local/lib/python3.6/dist-packages (from nbformat->notebook>=4.0.0->qgrid) (2.6.0)\n",
      "Requirement already satisfied: MarkupSafe>=0.23 in /usr/local/lib/python3.6/dist-packages (from jinja2->notebook>=4.0.0->qgrid) (1.1.1)\n",
      "Requirement already satisfied: six in /usr/local/lib/python3.6/dist-packages (from traitlets>=4.2.1->notebook>=4.0.0->qgrid) (1.12.0)\n",
      "Requirement already satisfied: decorator in /usr/local/lib/python3.6/dist-packages (from traitlets>=4.2.1->notebook>=4.0.0->qgrid) (4.4.1)\n",
      "Requirement already satisfied: pickleshare in /usr/local/lib/python3.6/dist-packages (from ipython>=4.0.0; python_version >= \"3.3\"->ipywidgets>=7.0.0->qgrid) (0.7.5)\n",
      "Requirement already satisfied: simplegeneric>0.8 in /usr/local/lib/python3.6/dist-packages (from ipython>=4.0.0; python_version >= \"3.3\"->ipywidgets>=7.0.0->qgrid) (0.8.1)\n",
      "Requirement already satisfied: setuptools>=18.5 in /usr/local/lib/python3.6/dist-packages (from ipython>=4.0.0; python_version >= \"3.3\"->ipywidgets>=7.0.0->qgrid) (45.2.0)\n",
      "Requirement already satisfied: prompt-toolkit<2.0.0,>=1.0.4 in /usr/local/lib/python3.6/dist-packages (from ipython>=4.0.0; python_version >= \"3.3\"->ipywidgets>=7.0.0->qgrid) (1.0.18)\n",
      "Requirement already satisfied: pexpect; sys_platform != \"win32\" in /usr/local/lib/python3.6/dist-packages (from ipython>=4.0.0; python_version >= \"3.3\"->ipywidgets>=7.0.0->qgrid) (4.8.0)\n",
      "Requirement already satisfied: webencodings in /usr/local/lib/python3.6/dist-packages (from bleach->nbconvert->notebook>=4.0.0->qgrid) (0.5.1)\n",
      "Requirement already satisfied: wcwidth in /usr/local/lib/python3.6/dist-packages (from prompt-toolkit<2.0.0,>=1.0.4->ipython>=4.0.0; python_version >= \"3.3\"->ipywidgets>=7.0.0->qgrid) (0.1.8)\n",
      "Eficiencia durante el entrenamiento = 0.9935185185185185+-0.005928818738363755\n",
      "Eficiencia durante la validación = 0.8847222222222222+-0.04127127210584342\n",
      "Eficiencia durante el entrenamiento = 0.9953703703703705+-0.0027777777777777957\n",
      "Eficiencia durante la validación = 0.8819444444444444+-0.020925721074054687\n",
      "Eficiencia durante el entrenamiento = 0.9953703703703703+-0.004811252243246865\n",
      "Eficiencia durante la validación = 0.936111111111111+-0.021336515966301685\n",
      "Eficiencia durante el entrenamiento = 0.9981481481481481+-0.0013094570021972925\n",
      "Eficiencia durante la validación = 0.9305555555555556+-0.016433554953054506\n",
      "Eficiencia durante el entrenamiento = 0.9949074074074074+-0.003306216865066146\n",
      "Eficiencia durante la validación = 0.9097222222222222+-0.0302701315523658\n",
      "Eficiencia durante el entrenamiento = 0.9944444444444445+-0.0013094570021973317\n",
      "Eficiencia durante la validación = 0.9152777777777777+-0.038162865733428\n",
      "Eficiencia durante el entrenamiento = 0.999537037037037+-0.0008018753738744934\n",
      "Eficiencia durante la validación = 0.9208333333333334+-0.027881749860951037\n",
      "Eficiencia durante el entrenamiento = 0.999074074074074+-0.0009259259259259411\n",
      "Eficiencia durante la validación = 0.9333333333333333+-0.012422599874998825\n",
      "Eficiencia durante el entrenamiento = 0.9981481481481482+-0.0018518518518518268\n",
      "Eficiencia durante la validación = 0.9277777777777778+-0.022906142364542567\n",
      "Eficiencia durante el entrenamiento = 0.999074074074074+-0.0009259259259259411\n",
      "Eficiencia durante la validación = 0.9236111111111112+-0.0240161339802647\n",
      "Eficiencia durante el entrenamiento = 0.9986111111111111+-0.0024056261216234324\n",
      "Eficiencia durante la validación = 0.9222222222222222+-0.019641855032959676\n",
      "Eficiencia durante el entrenamiento = 0.999537037037037+-0.0008018753738744934\n",
      "Eficiencia durante la validación = 0.9194444444444444+-0.024374901076089237\n",
      "Eficiencia durante el entrenamiento = 1.0+-0.0\n",
      "Eficiencia durante la validación = 0.9527777777777777+-0.018633899812498227\n",
      "Eficiencia durante el entrenamiento = 1.0+-0.0\n",
      "Eficiencia durante la validación = 0.9402777777777778+-0.020174776453241602\n",
      "Eficiencia durante el entrenamiento = 1.0+-0.0\n",
      "Eficiencia durante la validación = 0.9388888888888889+-0.02777777777777776\n",
      "Eficiencia durante el entrenamiento = 1.0+-0.0\n",
      "Eficiencia durante la validación = 0.9374999999999999+-0.015896559919805008\n",
      "Eficiencia durante el entrenamiento = 1.0+-0.0\n",
      "Eficiencia durante la validación = 0.9249999999999999+-0.017786456215091236\n",
      "Eficiencia durante el entrenamiento = 1.0+-0.0\n",
      "Eficiencia durante la validación = 0.9291666666666666+-0.029232729416457225\n",
      "Eficiencia durante el entrenamiento = 1.0+-0.0\n",
      "Eficiencia durante la validación = 0.9555555555555555+-0.023895347964007302\n",
      "Eficiencia durante el entrenamiento = 1.0+-0.0\n",
      "Eficiencia durante la validación = 0.9444444444444444+-0.02078698548207747\n",
      "Eficiencia durante el entrenamiento = 1.0+-0.0\n",
      "Eficiencia durante la validación = 0.9458333333333333+-0.024650332429581732\n",
      "Eficiencia durante el entrenamiento = 1.0+-0.0\n",
      "Eficiencia durante la validación = 0.9333333333333333+-0.01756820922315767\n",
      "Eficiencia durante el entrenamiento = 1.0+-0.0\n",
      "Eficiencia durante la validación = 0.9388888888888889+-0.020786985482077452\n",
      "Eficiencia durante el entrenamiento = 1.0+-0.0\n",
      "Eficiencia durante la validación = 0.9319444444444445+-0.030270131552365766\n",
      "Eficiencia durante el entrenamiento = 1.0+-0.0\n",
      "Eficiencia durante la validación = 0.9652777777777777+-0.01265337997103375\n",
      "Eficiencia durante el entrenamiento = 1.0+-0.0\n",
      "Eficiencia durante la validación = 0.9541666666666666+-0.019788620623298593\n",
      "Eficiencia durante el entrenamiento = 1.0+-0.0\n",
      "Eficiencia durante la validación = 0.9486111111111111+-0.023032116599690282\n",
      "Eficiencia durante el entrenamiento = 1.0+-0.0\n",
      "Eficiencia durante la validación = 0.9347222222222222+-0.02092572107405467\n",
      "Eficiencia durante el entrenamiento = 1.0+-0.0\n",
      "Eficiencia durante la validación = 0.9333333333333333+-0.0232405562926132\n",
      "Eficiencia durante el entrenamiento = 1.0+-0.0\n",
      "Eficiencia durante la validación = 0.9291666666666667+-0.02200413821910398\n"
     ]
    },
    {
     "data": {
      "application/vnd.jupyter.widget-view+json": {
       "model_id": "1268f89855624e0e9275da18d1c6c96c",
       "version_major": 2,
       "version_minor": 0
      },
      "text/plain": [
       "QgridWidget(grid_options={'fullWidthRows': True, 'syncColumnCellResize': True, 'forceFitColumns': True, 'defau…"
      ]
     },
     "metadata": {
      "tags": []
     },
     "output_type": "display_data"
    }
   ],
   "source": [
    "!pip install qgrid\n",
    "import pandas as pd\n",
    "import qgrid\n",
    "randn = np.random.randn\n",
    "df_types3 = pd.DataFrame({\n",
    "    'Numero de arboles' : pd.Series([5,5,5,5,5,5,10,10,10,10,10,10,20,20,20,20,20,20,50,50,50,50,50,50,100,100,100,100,100,100]), 'Variables analizadas por nodo' : pd.Series([5,10,15,20,25,30,5,10,15,20,25,30,5,10,15,20,25,30,5,10,15,20,25,30,5,10,15,20,25,30])})\n",
    "df_types3[\"Eficiencia en validacion\"] = \"\"\n",
    "df_types3[\"Intervalo de confianza\"] = \"\"\n",
    "df_types3.set_index(['Numero de arboles','Variables analizadas por nodo'], inplace=True)\n",
    "\n",
    "for trees, features in df_types3.index:\n",
    "  Validation_efficiency2,confidence_interval2=simulacionRF(trees,features)\n",
    "#df_types.sort_index(inplace=True)\n",
    "  df_types3[\"Eficiencia en validacion\"][trees,features]= Validation_efficiency2\n",
    "  df_types3[\"Intervalo de confianza\"][trees,features] = confidence_interval2\n",
    "#df_types3[\"Eficiencia en validacion\"][0]=0.877\n",
    "#df_types3[\"Intervalo de confianza\"][0] = 0.0143\n",
    "qgrid_widget = qgrid.show_grid(df_types3, show_toolbar=False)\n",
    "qgrid_widget"
   ]
  },
  {
   "cell_type": "markdown",
   "metadata": {
    "colab_type": "text",
    "id": "C7be1RjmHRJP"
   },
   "source": [
    "Ejecute la siguiente instrucción para dejar guardados en el notebook los resultados de las pruebas."
   ]
  },
  {
   "cell_type": "code",
   "execution_count": 0,
   "metadata": {
    "colab": {
     "base_uri": "https://localhost:8080/",
     "height": 1000
    },
    "colab_type": "code",
    "id": "LPYb8dvgHRJR",
    "outputId": "3786a051-456b-46f3-dcdf-6d332b6e59a2"
   },
   "outputs": [
    {
     "data": {
      "text/html": [
       "<div>\n",
       "<style scoped>\n",
       "    .dataframe tbody tr th:only-of-type {\n",
       "        vertical-align: middle;\n",
       "    }\n",
       "\n",
       "    .dataframe tbody tr th {\n",
       "        vertical-align: top;\n",
       "    }\n",
       "\n",
       "    .dataframe thead th {\n",
       "        text-align: right;\n",
       "    }\n",
       "</style>\n",
       "<table border=\"1\" class=\"dataframe\">\n",
       "  <thead>\n",
       "    <tr style=\"text-align: right;\">\n",
       "      <th></th>\n",
       "      <th></th>\n",
       "      <th>Eficiencia en validacion</th>\n",
       "      <th>Intervalo de confianza</th>\n",
       "    </tr>\n",
       "    <tr>\n",
       "      <th>Numero de arboles</th>\n",
       "      <th>Variables analizadas por nodo</th>\n",
       "      <th></th>\n",
       "      <th></th>\n",
       "    </tr>\n",
       "  </thead>\n",
       "  <tbody>\n",
       "    <tr>\n",
       "      <th rowspan=\"6\" valign=\"top\">5</th>\n",
       "      <th>5</th>\n",
       "      <td>0.8847222222222222</td>\n",
       "      <td>0.04127127210584342</td>\n",
       "    </tr>\n",
       "    <tr>\n",
       "      <th>10</th>\n",
       "      <td>0.8819444444444444</td>\n",
       "      <td>0.020925721074054687</td>\n",
       "    </tr>\n",
       "    <tr>\n",
       "      <th>15</th>\n",
       "      <td>0.936111111111111</td>\n",
       "      <td>0.021336515966301685</td>\n",
       "    </tr>\n",
       "    <tr>\n",
       "      <th>20</th>\n",
       "      <td>0.9305555555555556</td>\n",
       "      <td>0.016433554953054506</td>\n",
       "    </tr>\n",
       "    <tr>\n",
       "      <th>25</th>\n",
       "      <td>0.9097222222222222</td>\n",
       "      <td>0.0302701315523658</td>\n",
       "    </tr>\n",
       "    <tr>\n",
       "      <th>30</th>\n",
       "      <td>0.9152777777777777</td>\n",
       "      <td>0.038162865733428</td>\n",
       "    </tr>\n",
       "    <tr>\n",
       "      <th rowspan=\"6\" valign=\"top\">10</th>\n",
       "      <th>5</th>\n",
       "      <td>0.9208333333333334</td>\n",
       "      <td>0.027881749860951037</td>\n",
       "    </tr>\n",
       "    <tr>\n",
       "      <th>10</th>\n",
       "      <td>0.9333333333333333</td>\n",
       "      <td>0.012422599874998825</td>\n",
       "    </tr>\n",
       "    <tr>\n",
       "      <th>15</th>\n",
       "      <td>0.9277777777777778</td>\n",
       "      <td>0.022906142364542567</td>\n",
       "    </tr>\n",
       "    <tr>\n",
       "      <th>20</th>\n",
       "      <td>0.9236111111111112</td>\n",
       "      <td>0.0240161339802647</td>\n",
       "    </tr>\n",
       "    <tr>\n",
       "      <th>25</th>\n",
       "      <td>0.9222222222222222</td>\n",
       "      <td>0.019641855032959676</td>\n",
       "    </tr>\n",
       "    <tr>\n",
       "      <th>30</th>\n",
       "      <td>0.9194444444444444</td>\n",
       "      <td>0.024374901076089237</td>\n",
       "    </tr>\n",
       "    <tr>\n",
       "      <th rowspan=\"6\" valign=\"top\">20</th>\n",
       "      <th>5</th>\n",
       "      <td>0.9527777777777777</td>\n",
       "      <td>0.018633899812498227</td>\n",
       "    </tr>\n",
       "    <tr>\n",
       "      <th>10</th>\n",
       "      <td>0.9402777777777778</td>\n",
       "      <td>0.020174776453241602</td>\n",
       "    </tr>\n",
       "    <tr>\n",
       "      <th>15</th>\n",
       "      <td>0.9388888888888889</td>\n",
       "      <td>0.02777777777777776</td>\n",
       "    </tr>\n",
       "    <tr>\n",
       "      <th>20</th>\n",
       "      <td>0.9374999999999999</td>\n",
       "      <td>0.015896559919805008</td>\n",
       "    </tr>\n",
       "    <tr>\n",
       "      <th>25</th>\n",
       "      <td>0.9249999999999999</td>\n",
       "      <td>0.017786456215091236</td>\n",
       "    </tr>\n",
       "    <tr>\n",
       "      <th>30</th>\n",
       "      <td>0.9291666666666666</td>\n",
       "      <td>0.029232729416457225</td>\n",
       "    </tr>\n",
       "    <tr>\n",
       "      <th rowspan=\"6\" valign=\"top\">50</th>\n",
       "      <th>5</th>\n",
       "      <td>0.9555555555555555</td>\n",
       "      <td>0.023895347964007302</td>\n",
       "    </tr>\n",
       "    <tr>\n",
       "      <th>10</th>\n",
       "      <td>0.9444444444444444</td>\n",
       "      <td>0.02078698548207747</td>\n",
       "    </tr>\n",
       "    <tr>\n",
       "      <th>15</th>\n",
       "      <td>0.9458333333333333</td>\n",
       "      <td>0.024650332429581732</td>\n",
       "    </tr>\n",
       "    <tr>\n",
       "      <th>20</th>\n",
       "      <td>0.9333333333333333</td>\n",
       "      <td>0.01756820922315767</td>\n",
       "    </tr>\n",
       "    <tr>\n",
       "      <th>25</th>\n",
       "      <td>0.9388888888888889</td>\n",
       "      <td>0.020786985482077452</td>\n",
       "    </tr>\n",
       "    <tr>\n",
       "      <th>30</th>\n",
       "      <td>0.9319444444444445</td>\n",
       "      <td>0.030270131552365766</td>\n",
       "    </tr>\n",
       "    <tr>\n",
       "      <th rowspan=\"6\" valign=\"top\">100</th>\n",
       "      <th>5</th>\n",
       "      <td>0.9652777777777777</td>\n",
       "      <td>0.01265337997103375</td>\n",
       "    </tr>\n",
       "    <tr>\n",
       "      <th>10</th>\n",
       "      <td>0.9541666666666666</td>\n",
       "      <td>0.019788620623298593</td>\n",
       "    </tr>\n",
       "    <tr>\n",
       "      <th>15</th>\n",
       "      <td>0.9486111111111111</td>\n",
       "      <td>0.023032116599690282</td>\n",
       "    </tr>\n",
       "    <tr>\n",
       "      <th>20</th>\n",
       "      <td>0.9347222222222222</td>\n",
       "      <td>0.02092572107405467</td>\n",
       "    </tr>\n",
       "    <tr>\n",
       "      <th>25</th>\n",
       "      <td>0.9333333333333333</td>\n",
       "      <td>0.0232405562926132</td>\n",
       "    </tr>\n",
       "    <tr>\n",
       "      <th>30</th>\n",
       "      <td>0.9291666666666667</td>\n",
       "      <td>0.02200413821910398</td>\n",
       "    </tr>\n",
       "  </tbody>\n",
       "</table>\n",
       "</div>"
      ],
      "text/plain": [
       "                                                Eficiencia en validacion Intervalo de confianza\n",
       "Numero de arboles Variables analizadas por nodo                                                \n",
       "5                 5                                   0.8847222222222222    0.04127127210584342\n",
       "                  10                                  0.8819444444444444   0.020925721074054687\n",
       "                  15                                   0.936111111111111   0.021336515966301685\n",
       "                  20                                  0.9305555555555556   0.016433554953054506\n",
       "                  25                                  0.9097222222222222     0.0302701315523658\n",
       "                  30                                  0.9152777777777777      0.038162865733428\n",
       "10                5                                   0.9208333333333334   0.027881749860951037\n",
       "                  10                                  0.9333333333333333   0.012422599874998825\n",
       "                  15                                  0.9277777777777778   0.022906142364542567\n",
       "                  20                                  0.9236111111111112     0.0240161339802647\n",
       "                  25                                  0.9222222222222222   0.019641855032959676\n",
       "                  30                                  0.9194444444444444   0.024374901076089237\n",
       "20                5                                   0.9527777777777777   0.018633899812498227\n",
       "                  10                                  0.9402777777777778   0.020174776453241602\n",
       "                  15                                  0.9388888888888889    0.02777777777777776\n",
       "                  20                                  0.9374999999999999   0.015896559919805008\n",
       "                  25                                  0.9249999999999999   0.017786456215091236\n",
       "                  30                                  0.9291666666666666   0.029232729416457225\n",
       "50                5                                   0.9555555555555555   0.023895347964007302\n",
       "                  10                                  0.9444444444444444    0.02078698548207747\n",
       "                  15                                  0.9458333333333333   0.024650332429581732\n",
       "                  20                                  0.9333333333333333    0.01756820922315767\n",
       "                  25                                  0.9388888888888889   0.020786985482077452\n",
       "                  30                                  0.9319444444444445   0.030270131552365766\n",
       "100               5                                   0.9652777777777777    0.01265337997103375\n",
       "                  10                                  0.9541666666666666   0.019788620623298593\n",
       "                  15                                  0.9486111111111111   0.023032116599690282\n",
       "                  20                                  0.9347222222222222    0.02092572107405467\n",
       "                  25                                  0.9333333333333333     0.0232405562926132\n",
       "                  30                                  0.9291666666666667    0.02200413821910398"
      ]
     },
     "execution_count": 39,
     "metadata": {
      "tags": []
     },
     "output_type": "execute_result"
    }
   ],
   "source": [
    "qgrid_widget.get_changed_df()"
   ]
  },
  {
   "cell_type": "markdown",
   "metadata": {
    "colab_type": "text",
    "id": "5z6MeRBmHRJq"
   },
   "source": [
    "Responda:\n",
    "    \n",
    "3.1 Realice una prueba adicional empleando el total de variables para la selección del mejor umbral en cada nodo ¿De acuerdo con los resultados es mejor usar un bagging de árboles o Random Forest? Explique su respuesta.    \n",
    "\n",
    "R/ Si bien el Bagging es mas estable  por que usa todas las caracteristicas en nuestros resultados es bueno detallar que el Random Forest nos provee mejores resultados en algunas ocasiones,en si el Bagging es un Random Forest con todas las caracteristicas, pero en esta situacion apesar de la estabilidad del Bagging debido a los mejores resultados del Random Forest es mejor usarlo."
   ]
  },
  {
   "cell_type": "markdown",
   "metadata": {
    "colab_type": "text",
    "id": "UNAF8fftQqIM"
   },
   "source": [
    "##Bagging"
   ]
  },
  {
   "cell_type": "code",
   "execution_count": 81,
   "metadata": {
    "colab": {
     "base_uri": "https://localhost:8080/",
     "height": 233
    },
    "colab_type": "code",
    "id": "KPyxJ0qRNp78",
    "outputId": "21ceb009-4c41-4623-f171-e15db5300f3d"
   },
   "outputs": [
    {
     "data": {
      "text/html": [
       "<div>\n",
       "<style scoped>\n",
       "    .dataframe tbody tr th:only-of-type {\n",
       "        vertical-align: middle;\n",
       "    }\n",
       "\n",
       "    .dataframe tbody tr th {\n",
       "        vertical-align: top;\n",
       "    }\n",
       "\n",
       "    .dataframe thead th {\n",
       "        text-align: right;\n",
       "    }\n",
       "</style>\n",
       "<table border=\"1\" class=\"dataframe\">\n",
       "  <thead>\n",
       "    <tr style=\"text-align: right;\">\n",
       "      <th></th>\n",
       "      <th></th>\n",
       "      <th>Eficiencia en validacion</th>\n",
       "      <th>Intervalo de confianza</th>\n",
       "    </tr>\n",
       "    <tr>\n",
       "      <th>Numero de arboles</th>\n",
       "      <th>Variables analizadas por nodo</th>\n",
       "      <th></th>\n",
       "      <th></th>\n",
       "    </tr>\n",
       "  </thead>\n",
       "  <tbody>\n",
       "    <tr>\n",
       "      <th>5</th>\n",
       "      <th>39</th>\n",
       "      <td>0.9152777777777777</td>\n",
       "      <td>0.024650332429581766</td>\n",
       "    </tr>\n",
       "    <tr>\n",
       "      <th>10</th>\n",
       "      <th>39</th>\n",
       "      <td>0.9138888888888889</td>\n",
       "      <td>0.038188130791298645</td>\n",
       "    </tr>\n",
       "    <tr>\n",
       "      <th>20</th>\n",
       "      <th>39</th>\n",
       "      <td>0.9194444444444444</td>\n",
       "      <td>0.0377818625242651</td>\n",
       "    </tr>\n",
       "    <tr>\n",
       "      <th>50</th>\n",
       "      <th>39</th>\n",
       "      <td>0.9249999999999999</td>\n",
       "      <td>0.03524604872347088</td>\n",
       "    </tr>\n",
       "    <tr>\n",
       "      <th>100</th>\n",
       "      <th>39</th>\n",
       "      <td>0.9180555555555555</td>\n",
       "      <td>0.02975595178559522</td>\n",
       "    </tr>\n",
       "  </tbody>\n",
       "</table>\n",
       "</div>"
      ],
      "text/plain": [
       "                                                Eficiencia en validacion Intervalo de confianza\n",
       "Numero de arboles Variables analizadas por nodo                                                \n",
       "5                 39                                  0.9152777777777777   0.024650332429581766\n",
       "10                39                                  0.9138888888888889   0.038188130791298645\n",
       "20                39                                  0.9194444444444444     0.0377818625242651\n",
       "50                39                                  0.9249999999999999    0.03524604872347088\n",
       "100               39                                  0.9180555555555555    0.02975595178559522"
      ]
     },
     "execution_count": 81,
     "metadata": {
      "tags": []
     },
     "output_type": "execute_result"
    }
   ],
   "source": [
    "qgrid_widget.get_changed_df()"
   ]
  },
  {
   "cell_type": "code",
   "execution_count": 0,
   "metadata": {
    "colab": {},
    "colab_type": "code",
    "id": "2bVQF-GLJUfM"
   },
   "outputs": [],
   "source": [
    " from sklearn.ensemble import BaggingClassifier\n",
    "\n",
    "def simulacionBagging(n_trees,features):\n",
    "  #Validamos el modelo\n",
    "  Folds = 4\n",
    "  random.seed(19680801)\n",
    "  EficienciaTrain = np.zeros(Folds)\n",
    "  EficienciaVal = np.zeros(Folds)\n",
    "  skf = StratifiedKFold(n_splits=Folds)\n",
    "  j = 0\n",
    "  for train, test in skf.split(X, Y):\n",
    "      Xtrain = X[train,:]\n",
    "      Ytrain = Y[train]\n",
    "      Xtest = X[test,:]\n",
    "      Ytest = Y[test]\n",
    "      \n",
    "      #Normalizamos los datos\n",
    "      media = np.mean(Xtrain)\n",
    "      desvia = np.std(Xtrain)\n",
    "      Xtrain = sc.stats.stats.zscore(Xtrain)\n",
    "      Xtest = (Xtest - np.matlib.repmat(media, Xtest.shape[0], 1))/np.matlib.repmat(desvia, Xtest.shape[0], 1)\n",
    "      \n",
    "      #Haga el llamado a la función para crear y entrenar el modelo usando los datos de entrenamiento\n",
    "      model = BaggingClassifier(n_estimators=n_trees,max_features=features)\n",
    "      model.fit(Xtrain,Ytrain)\n",
    "      \n",
    "      #Validación\n",
    "      Ytrain_pred = model.predict(Xtrain) #Use el modelo previamente entrenado para hacer predicciones con aas mismas muestras de entrenamiento\n",
    "      Yest = model.predict(Xtest) #Use el modelo previamente entrenado para hacer predicciones con las muesaras de test\n",
    "      \n",
    "      #Evaluamos las prediccionesadel modelo con los datos de test\n",
    "      EficienciaTrain[j] = np.mean(Ytrain_pred.ravel() == Ytrain.ravel())\n",
    "      EficienciaVal[j] = np.mean(Yest.ravel() == Ytest.ravel())\n",
    "      j += 1\n",
    "          \n",
    "  #print('Eficiencia durante el entrenamiento = ' + str(np.mean(EficienciaTrain)) + '+-' + str(np.std(EficienciaTrain)))\n",
    "  #print('Eficiencia durante la validación = ' + str(np.mean(EficienciaVal)) + '+-' + str(np.std(EficienciaVal)))\n",
    "  return str(np.mean(EficienciaVal)), str(np.std(EficienciaVal))"
   ]
  },
  {
   "cell_type": "code",
   "execution_count": 76,
   "metadata": {
    "colab": {
     "base_uri": "https://localhost:8080/",
     "height": 34
    },
    "colab_type": "code",
    "id": "1vKQC3ITMgK8",
    "outputId": "91388096-3785-483b-b46b-13ab09339b8d"
   },
   "outputs": [
    {
     "data": {
      "text/plain": [
       "(720, 39)"
      ]
     },
     "execution_count": 76,
     "metadata": {
      "tags": []
     },
     "output_type": "execute_result"
    }
   ],
   "source": [
    "X.shape"
   ]
  },
  {
   "cell_type": "code",
   "execution_count": 79,
   "metadata": {
    "colab": {
     "base_uri": "https://localhost:8080/",
     "height": 17,
     "referenced_widgets": [
      "340ab4a28b7e4fa7ab11ecad6f0e2545"
     ]
    },
    "colab_type": "code",
    "id": "BYQdBXWCJtaq",
    "outputId": "3418587a-a42f-4bed-d6bf-8213f90453cf"
   },
   "outputs": [
    {
     "data": {
      "application/vnd.jupyter.widget-view+json": {
       "model_id": "340ab4a28b7e4fa7ab11ecad6f0e2545",
       "version_major": 2,
       "version_minor": 0
      },
      "text/plain": [
       "QgridWidget(grid_options={'fullWidthRows': True, 'syncColumnCellResize': True, 'forceFitColumns': True, 'defau…"
      ]
     },
     "metadata": {
      "tags": []
     },
     "output_type": "display_data"
    }
   ],
   "source": [
    "import pandas as pd\n",
    "import qgrid\n",
    "randn = np.random.randn\n",
    "df_types4 = pd.DataFrame({\n",
    "    'Numero de arboles' : pd.Series([5,10,20,50,100]), 'Variables analizadas por nodo' : pd.Series([39,39,39,39,39])})\n",
    "df_types4[\"Eficiencia en validacion\"] = \"\"\n",
    "df_types4[\"Intervalo de confianza\"] = \"\"\n",
    "df_types4.set_index(['Numero de arboles','Variables analizadas por nodo'], inplace=True)\n",
    "\n",
    "for treesB,featuresB in df_types4.index:\n",
    "  Validation_efficiencyB,confidence_intervalB=simulacionBagging(treesB,featuresB)\n",
    "  df_types4[\"Eficiencia en validacion\"][treesB,featuresB]= Validation_efficiencyB\n",
    "  df_types4[\"Intervalo de confianza\"][treesB,featuresB] = confidence_intervalB\n",
    "qgrid_widget = qgrid.show_grid(df_types4, show_toolbar=False)\n",
    "qgrid_widget"
   ]
  },
  {
   "cell_type": "markdown",
   "metadata": {
    "colab_type": "text",
    "id": "6qSrp14yHRJu"
   },
   "source": [
    "## Ejercicio 4\n",
    "\n",
    "Utilice el paquete time (instrucción time.clock()) para medir el efecto del número de árboles y de la cantidad de variables a analizar por nodo, en el tiempo que tarda el entrenamiento del modelo Random Forest. Construya una gráfica de tiempo vs número de árboles, dejando constante el número de variables en 20, y una gráfica de tiempo vs número de variables dejando constante el número de árboles en 30."
   ]
  },
  {
   "cell_type": "markdown",
   "metadata": {
    "colab_type": "text",
    "id": "ZbWgKK7qXGCS"
   },
   "source": [
    "## Grafica variables constantes"
   ]
  },
  {
   "cell_type": "code",
   "execution_count": 140,
   "metadata": {
    "colab": {
     "base_uri": "https://localhost:8080/",
     "height": 17,
     "referenced_widgets": [
      "f54f3a38945e4799b0b830f1184c22e8"
     ]
    },
    "colab_type": "code",
    "id": "tulXig9KHRJy",
    "outputId": "61262ae4-d387-457a-f1f4-c46d2c959c03"
   },
   "outputs": [
    {
     "data": {
      "application/vnd.jupyter.widget-view+json": {
       "model_id": "f54f3a38945e4799b0b830f1184c22e8",
       "version_major": 2,
       "version_minor": 0
      },
      "text/plain": [
       "QgridWidget(grid_options={'fullWidthRows': True, 'syncColumnCellResize': True, 'forceFitColumns': True, 'defau…"
      ]
     },
     "metadata": {
      "tags": []
     },
     "output_type": "display_data"
    }
   ],
   "source": [
    "import time\n",
    "import pandas as pd\n",
    "import qgrid\n",
    "randn = np.random.randn\n",
    "df_types5 = pd.DataFrame({\n",
    "    'Numero de arboles' : pd.Series([5,10,20,50,100]), 'Variables analizadas por nodo' : pd.Series([20,20,20,20,20])})\n",
    "df_types5[\"Eficiencia en validacion\"] = \"\"\n",
    "df_types5[\"Intervalo de confianza\"] = \"\"\n",
    "df_types5.set_index(['Numero de arboles','Variables analizadas por nodo'], inplace=True)\n",
    "times=np.zeros(5)\n",
    "k=0\n",
    "for treesG, featuresG in df_types5.index:\n",
    "  Validation_efficiencyG,confidence_intervalG,total_time=simulacionRFG(treesG,featuresG)\n",
    "  times[k]=total_time\n",
    "  k=k+1\n",
    "\n",
    "qgrid_widget = qgrid.show_grid(df_types5, show_toolbar=False)\n",
    "qgrid_widget\n"
   ]
  },
  {
   "cell_type": "code",
   "execution_count": 141,
   "metadata": {
    "colab": {
     "base_uri": "https://localhost:8080/",
     "height": 34
    },
    "colab_type": "code",
    "id": "TWa2KIz5VoRB",
    "outputId": "d5d79707-45a1-4234-e956-f609d6d25133"
   },
   "outputs": [
    {
     "data": {
      "text/plain": [
       "array([0.022103, 0.043685, 0.086141, 0.213793, 0.426768])"
      ]
     },
     "execution_count": 141,
     "metadata": {
      "tags": []
     },
     "output_type": "execute_result"
    }
   ],
   "source": [
    "times"
   ]
  },
  {
   "cell_type": "code",
   "execution_count": 162,
   "metadata": {
    "colab": {
     "base_uri": "https://localhost:8080/",
     "height": 621
    },
    "colab_type": "code",
    "id": "b4cCSme0XT3w",
    "outputId": "90520997-65ce-4a98-d36d-3c2a52063b4d"
   },
   "outputs": [
    {
     "data": {
      "image/png": "[encoded data removed]",
      "text/plain": [
       "<Figure size 720x720 with 1 Axes>"
      ]
     },
     "metadata": {
      "tags": []
     },
     "output_type": "display_data"
    }
   ],
   "source": [
    "plt.figure(figsize=(10,10))\n",
    "plt.plot(times, np.arange(5,125,25),'o-')\n",
    "\n",
    "#plt.plot(times, np.arange(0,100,5))\n",
    "plt.xlabel('tiempo')\n",
    "plt.ylabel('Número de árboles')\n",
    "plt.title('Arboles Vs tiempo')\n",
    "plt.show()\n"
   ]
  },
  {
   "cell_type": "markdown",
   "metadata": {
    "colab_type": "text",
    "id": "J4wCHge0Zhcd"
   },
   "source": [
    "## Variables Vs Arboles constantes"
   ]
  },
  {
   "cell_type": "code",
   "execution_count": 137,
   "metadata": {
    "colab": {
     "base_uri": "https://localhost:8080/",
     "height": 17,
     "referenced_widgets": [
      "12ed62f0ab5843a39422bcb20ddea10c"
     ]
    },
    "colab_type": "code",
    "id": "qratndT_ZuNG",
    "outputId": "8793419e-dd5f-4ad1-baf7-270a79706dfd"
   },
   "outputs": [
    {
     "data": {
      "application/vnd.jupyter.widget-view+json": {
       "model_id": "12ed62f0ab5843a39422bcb20ddea10c",
       "version_major": 2,
       "version_minor": 0
      },
      "text/plain": [
       "QgridWidget(grid_options={'fullWidthRows': True, 'syncColumnCellResize': True, 'forceFitColumns': True, 'defau…"
      ]
     },
     "metadata": {
      "tags": []
     },
     "output_type": "display_data"
    }
   ],
   "source": [
    "import time\n",
    "import pandas as pd\n",
    "import qgrid\n",
    "randn = np.random.randn\n",
    "df_types5 = pd.DataFrame({\n",
    "    'Numero de arboles' : pd.Series([30,30,30,30,30,30]), 'Variables analizadas por nodo' : pd.Series([5,10,15,20,25,30])})\n",
    "df_types5[\"Eficiencia en validacion\"] = \"\"\n",
    "df_types5[\"Intervalo de confianza\"] = \"\"\n",
    "df_types5.set_index(['Numero de arboles','Variables analizadas por nodo'], inplace=True)\n",
    "times2=np.zeros(6)\n",
    "r=0\n",
    "for treesG, featuresG in df_types5.index:\n",
    "  Validation_efficiencyG,confidence_intervalG,total_time=simulacionRFG(treesG,featuresG)\n",
    "  #df_types4[\"Eficiencia en validacion\"][treesB,featuresB]= Validation_efficiencyB\n",
    "  #df_types4[\"Intervalo de confianza\"][treesB,featuresB] = confidence_intervalB\n",
    "  times2[r]=total_time\n",
    "  r=r+1\n",
    "\n",
    "qgrid_widget = qgrid.show_grid(df_types5, show_toolbar=False)\n",
    "qgrid_widget\n"
   ]
  },
  {
   "cell_type": "code",
   "execution_count": 138,
   "metadata": {
    "colab": {
     "base_uri": "https://localhost:8080/",
     "height": 34
    },
    "colab_type": "code",
    "id": "mFLbGrD9aW8d",
    "outputId": "51d6f24a-d7e1-4d49-a42a-41b560d88357"
   },
   "outputs": [
    {
     "data": {
      "text/plain": [
       "array([0.072765, 0.094125, 0.11548 , 0.129597, 0.147755, 0.163023])"
      ]
     },
     "execution_count": 138,
     "metadata": {
      "tags": []
     },
     "output_type": "execute_result"
    }
   ],
   "source": [
    "times2"
   ]
  },
  {
   "cell_type": "code",
   "execution_count": 161,
   "metadata": {
    "colab": {
     "base_uri": "https://localhost:8080/",
     "height": 621
    },
    "colab_type": "code",
    "id": "hj9wK3_qavjn",
    "outputId": "30174134-cae4-406d-e18d-6e157c0e367b"
   },
   "outputs": [
    {
     "data": {
      "image/png": "[encoded data removed]",
      "text/plain": [
       "<Figure size 720x720 with 1 Axes>"
      ]
     },
     "metadata": {
      "tags": []
     },
     "output_type": "display_data"
    }
   ],
   "source": [
    "plt.figure(figsize=(10,10))\n",
    "plt.plot(times2, np.arange(5,35,5),'o-')\n",
    "plt.xlabel('tiempo')\n",
    "plt.ylabel('Número de caracteristicas')\n",
    "plt.title('Variables vs tiempo')\n",
    "plt.show()"
   ]
  },
  {
   "cell_type": "markdown",
   "metadata": {
    "colab_type": "text",
    "id": "jy1d2IxGVDJk"
   },
   "source": [
    "## Random Forest Time"
   ]
  },
  {
   "cell_type": "code",
   "execution_count": 0,
   "metadata": {
    "colab": {},
    "colab_type": "code",
    "id": "TuAU8_3IUQnt"
   },
   "outputs": [],
   "source": [
    "\n",
    "from sklearn.ensemble import RandomForestClassifier\n",
    "def simulacionRFG(n_trees,features):\n",
    "  #Validamos el modelo\n",
    "  Folds = 4\n",
    "  random.seed(19680801)\n",
    "  EficienciaTrain = np.zeros(Folds)\n",
    "  EficienciaVal = np.zeros(Folds)\n",
    "  skf = StratifiedKFold(n_splits=Folds)\n",
    "  j = 0\n",
    "  for train, test in skf.split(X, Y):\n",
    "      Xtrain = X[train,:]\n",
    "      Ytrain = Y[train]\n",
    "      Xtest = X[test,:]\n",
    "      Ytest = Y[test]\n",
    "      \n",
    "      #Normalizamos los datos\n",
    "      media = np.mean(Xtrain)\n",
    "      desvia = np.std(Xtrain)\n",
    "      Xtrain = sc.stats.stats.zscore(Xtrain)\n",
    "      Xtest = (Xtest - np.matlib.repmat(media, Xtest.shape[0], 1))/np.matlib.repmat(desvia, Xtest.shape[0], 1)\n",
    "      \n",
    "      #Haga el llamado a la función para crear y entrenar el modelo usando los datos de entrenamiento\n",
    "      model = RandomForestClassifier(n_estimators=n_trees,max_features=features)\n",
    "      time1 = time.clock()\n",
    "      model.fit(Xtrain,Ytrain)\n",
    "      time2 = time.clock()\n",
    "      total_time = time2 - time1\n",
    "        \n",
    "      \n",
    "      #Validación\n",
    "      Ytrain_pred = model.predict(Xtrain) #Use el modelo previamente entrenado para hacer predicciones con aas mismas muestras de entrenamiento\n",
    "      Yest = model.predict(Xtest) #Use el modelo previamente entrenado para hacer predicciones con las muesaras de test\n",
    "      \n",
    "      #Evaluamos las prediccionesadel modelo con los datos de test\n",
    "      EficienciaTrain[j] = np.mean(Ytrain_pred.ravel() == Ytrain.ravel())\n",
    "      EficienciaVal[j] = np.mean(Yest.ravel() == Ytest.ravel())\n",
    "      j += 1\n",
    "          \n",
    " # print('Eficiencia durante el entrenamiento = ' + str(np.mean(EficienciaTrain)) + '+-' + str(np.std(EficienciaTrain)))\n",
    "  #print('Eficiencia durante la validación = ' + str(np.mean(EficienciaVal)) + '+-' + str(np.std(EficienciaVal)))\n",
    "  #print (total_time)\n",
    "  return str(np.mean(EficienciaVal)), str(np.std(EficienciaVal)),total_time"
   ]
  },
  {
   "cell_type": "code",
   "execution_count": 0,
   "metadata": {
    "colab": {},
    "colab_type": "code",
    "id": "xRs4KYNlTwwp"
   },
   "outputs": [],
   "source": []
  }
 ],
 "metadata": {
  "colab": {
   "collapsed_sections": [],
   "name": "Lab_3.2_Arboles.ipynb",
   "provenance": []
  },
  "kernelspec": {
   "display_name": "Python 3",
   "language": "python",
   "name": "python3"
  },
  "language_info": {
   "codemirror_mode": {
    "name": "ipython",
    "version": 3
   },
   "file_extension": ".py",
   "mimetype": "text/x-python",
   "name": "python",
   "nbconvert_exporter": "python",
   "pygments_lexer": "ipython3",
   "version": "3.6.9"
  },
  "widgets": {
   "application/vnd.jupyter.widget-state+json": {
    "1268f89855624e0e9275da18d1c6c96c": {
     "model_module": "qgrid",
     "model_name": "QgridModel",
     "state": {
      "_columns": {
       "Eficiencia en validacion": {
        "cssClass": "string",
        "defaultSortAsc": true,
        "editable": true,
        "field": "Eficiencia en validacion",
        "id": "Eficiencia en validacion",
        "maxWidth": null,
        "minWidth": 30,
        "name": "Eficiencia en validacion",
        "position": 3,
        "resizable": true,
        "sortable": true,
        "toolTip": "",
        "type": "string",
        "width": null
       },
       "Intervalo de confianza": {
        "cssClass": "string",
        "defaultSortAsc": true,
        "editable": true,
        "field": "Intervalo de confianza",
        "id": "Intervalo de confianza",
        "maxWidth": null,
        "minWidth": 30,
        "name": "Intervalo de confianza",
        "position": 4,
        "resizable": true,
        "sortable": true,
        "toolTip": "",
        "type": "string",
        "width": null
       },
       "Numero de arboles": {
        "cssClass": "integer",
        "defaultSortAsc": true,
        "editable": true,
        "field": "Numero de arboles",
        "first_index": true,
        "id": "Numero de arboles",
        "index_display_text": "Numero de arboles",
        "is_index": true,
        "level": 0,
        "maxWidth": null,
        "minWidth": 30,
        "name": "Numero de arboles",
        "position": 0,
        "resizable": true,
        "sortable": true,
        "toolTip": "",
        "type": "integer",
        "width": null
       },
       "Variables analizadas por nodo": {
        "cssClass": "integer",
        "defaultSortAsc": true,
        "editable": true,
        "field": "Variables analizadas por nodo",
        "id": "Variables analizadas por nodo",
        "index_display_text": "Variables analizadas por nodo",
        "is_index": true,
        "last_index": true,
        "level": 1,
        "maxWidth": null,
        "minWidth": 30,
        "name": "Variables analizadas por nodo",
        "position": 1,
        "resizable": true,
        "sortable": true,
        "toolTip": "",
        "type": "integer",
        "width": null
       },
       "qgrid_unfiltered_index": {
        "cssClass": "integer",
        "defaultSortAsc": true,
        "editable": true,
        "field": "qgrid_unfiltered_index",
        "id": "qgrid_unfiltered_index",
        "maxWidth": null,
        "minWidth": 30,
        "name": "qgrid_unfiltered_index",
        "position": 2,
        "resizable": true,
        "sortable": true,
        "toolTip": "",
        "type": "integer",
        "width": null
       }
      },
      "_df_json": "{\"schema\": {\"fields\":[{\"name\":\"Numero de arboles\",\"type\":\"integer\"},{\"name\":\"Variables analizadas por nodo\",\"type\":\"integer\"},{\"name\":\"qgrid_unfiltered_index\",\"type\":\"integer\"},{\"name\":\"Eficiencia en validacion\",\"type\":\"string\"},{\"name\":\"Intervalo de confianza\",\"type\":\"string\"}],\"primaryKey\":[\"Numero de arboles\",\"Variables analizadas por nodo\"],\"pandas_version\":\"0.20.0\"}, \"data\": [{\"Numero de arboles\":5,\"Variables analizadas por nodo\":5,\"qgrid_unfiltered_index\":0,\"Eficiencia en validacion\":\"0.8847222222222222\",\"Intervalo de confianza\":\"0.04127127210584342\"},{\"Numero de arboles\":5,\"Variables analizadas por nodo\":10,\"qgrid_unfiltered_index\":1,\"Eficiencia en validacion\":\"0.8819444444444444\",\"Intervalo de confianza\":\"0.020925721074054687\"},{\"Numero de arboles\":5,\"Variables analizadas por nodo\":15,\"qgrid_unfiltered_index\":2,\"Eficiencia en validacion\":\"0.936111111111111\",\"Intervalo de confianza\":\"0.021336515966301685\"},{\"Numero de arboles\":5,\"Variables analizadas por nodo\":20,\"qgrid_unfiltered_index\":3,\"Eficiencia en validacion\":\"0.9305555555555556\",\"Intervalo de confianza\":\"0.016433554953054506\"},{\"Numero de arboles\":5,\"Variables analizadas por nodo\":25,\"qgrid_unfiltered_index\":4,\"Eficiencia en validacion\":\"0.9097222222222222\",\"Intervalo de confianza\":\"0.0302701315523658\"},{\"Numero de arboles\":5,\"Variables analizadas por nodo\":30,\"qgrid_unfiltered_index\":5,\"Eficiencia en validacion\":\"0.9152777777777777\",\"Intervalo de confianza\":\"0.038162865733428\"},{\"Numero de arboles\":10,\"Variables analizadas por nodo\":5,\"qgrid_unfiltered_index\":6,\"Eficiencia en validacion\":\"0.9208333333333334\",\"Intervalo de confianza\":\"0.027881749860951037\"},{\"Numero de arboles\":10,\"Variables analizadas por nodo\":10,\"qgrid_unfiltered_index\":7,\"Eficiencia en validacion\":\"0.9333333333333333\",\"Intervalo de confianza\":\"0.012422599874998825\"},{\"Numero de arboles\":10,\"Variables analizadas por nodo\":15,\"qgrid_unfiltered_index\":8,\"Eficiencia en validacion\":\"0.9277777777777778\",\"Intervalo de confianza\":\"0.022906142364542567\"},{\"Numero de arboles\":10,\"Variables analizadas por nodo\":20,\"qgrid_unfiltered_index\":9,\"Eficiencia en validacion\":\"0.9236111111111112\",\"Intervalo de confianza\":\"0.0240161339802647\"},{\"Numero de arboles\":10,\"Variables analizadas por nodo\":25,\"qgrid_unfiltered_index\":10,\"Eficiencia en validacion\":\"0.9222222222222222\",\"Intervalo de confianza\":\"0.019641855032959676\"},{\"Numero de arboles\":10,\"Variables analizadas por nodo\":30,\"qgrid_unfiltered_index\":11,\"Eficiencia en validacion\":\"0.9194444444444444\",\"Intervalo de confianza\":\"0.024374901076089237\"},{\"Numero de arboles\":20,\"Variables analizadas por nodo\":5,\"qgrid_unfiltered_index\":12,\"Eficiencia en validacion\":\"0.9527777777777777\",\"Intervalo de confianza\":\"0.018633899812498227\"},{\"Numero de arboles\":20,\"Variables analizadas por nodo\":10,\"qgrid_unfiltered_index\":13,\"Eficiencia en validacion\":\"0.9402777777777778\",\"Intervalo de confianza\":\"0.020174776453241602\"},{\"Numero de arboles\":20,\"Variables analizadas por nodo\":15,\"qgrid_unfiltered_index\":14,\"Eficiencia en validacion\":\"0.9388888888888889\",\"Intervalo de confianza\":\"0.02777777777777776\"},{\"Numero de arboles\":20,\"Variables analizadas por nodo\":20,\"qgrid_unfiltered_index\":15,\"Eficiencia en validacion\":\"0.9374999999999999\",\"Intervalo de confianza\":\"0.015896559919805008\"},{\"Numero de arboles\":20,\"Variables analizadas por nodo\":25,\"qgrid_unfiltered_index\":16,\"Eficiencia en validacion\":\"0.9249999999999999\",\"Intervalo de confianza\":\"0.017786456215091236\"},{\"Numero de arboles\":20,\"Variables analizadas por nodo\":30,\"qgrid_unfiltered_index\":17,\"Eficiencia en validacion\":\"0.9291666666666666\",\"Intervalo de confianza\":\"0.029232729416457225\"},{\"Numero de arboles\":50,\"Variables analizadas por nodo\":5,\"qgrid_unfiltered_index\":18,\"Eficiencia en validacion\":\"0.9555555555555555\",\"Intervalo de confianza\":\"0.023895347964007302\"},{\"Numero de arboles\":50,\"Variables analizadas por nodo\":10,\"qgrid_unfiltered_index\":19,\"Eficiencia en validacion\":\"0.9444444444444444\",\"Intervalo de confianza\":\"0.02078698548207747\"},{\"Numero de arboles\":50,\"Variables analizadas por nodo\":15,\"qgrid_unfiltered_index\":20,\"Eficiencia en validacion\":\"0.9458333333333333\",\"Intervalo de confianza\":\"0.024650332429581732\"},{\"Numero de arboles\":50,\"Variables analizadas por nodo\":20,\"qgrid_unfiltered_index\":21,\"Eficiencia en validacion\":\"0.9333333333333333\",\"Intervalo de confianza\":\"0.01756820922315767\"},{\"Numero de arboles\":50,\"Variables analizadas por nodo\":25,\"qgrid_unfiltered_index\":22,\"Eficiencia en validacion\":\"0.9388888888888889\",\"Intervalo de confianza\":\"0.020786985482077452\"},{\"Numero de arboles\":50,\"Variables analizadas por nodo\":30,\"qgrid_unfiltered_index\":23,\"Eficiencia en validacion\":\"0.9319444444444445\",\"Intervalo de confianza\":\"0.030270131552365766\"},{\"Numero de arboles\":100,\"Variables analizadas por nodo\":5,\"qgrid_unfiltered_index\":24,\"Eficiencia en validacion\":\"0.9652777777777777\",\"Intervalo de confianza\":\"0.01265337997103375\"},{\"Numero de arboles\":100,\"Variables analizadas por nodo\":10,\"qgrid_unfiltered_index\":25,\"Eficiencia en validacion\":\"0.9541666666666666\",\"Intervalo de confianza\":\"0.019788620623298593\"},{\"Numero de arboles\":100,\"Variables analizadas por nodo\":15,\"qgrid_unfiltered_index\":26,\"Eficiencia en validacion\":\"0.9486111111111111\",\"Intervalo de confianza\":\"0.023032116599690282\"},{\"Numero de arboles\":100,\"Variables analizadas por nodo\":20,\"qgrid_unfiltered_index\":27,\"Eficiencia en validacion\":\"0.9347222222222222\",\"Intervalo de confianza\":\"0.02092572107405467\"},{\"Numero de arboles\":100,\"Variables analizadas por nodo\":25,\"qgrid_unfiltered_index\":28,\"Eficiencia en validacion\":\"0.9333333333333333\",\"Intervalo de confianza\":\"0.0232405562926132\"},{\"Numero de arboles\":100,\"Variables analizadas por nodo\":30,\"qgrid_unfiltered_index\":29,\"Eficiencia en validacion\":\"0.9291666666666667\",\"Intervalo de confianza\":\"0.02200413821910398\"}]}",
      "_df_range": [
       0,
       100
      ],
      "_dom_classes": [],
      "_editable_rows": {},
      "_index_col_name": "qgrid_unfiltered_index",
      "_interval_columns": [],
      "_model_module": "qgrid",
      "_model_module_version": "1.1.1",
      "_model_name": "QgridModel",
      "_multi_index": true,
      "_row_count": 30,
      "_row_styles": {
       "0": {
        "Numero de arboles": "group-top",
        "Variables analizadas por nodo": "group-single"
       },
       "1": {
        "Numero de arboles": "group-middle",
        "Variables analizadas por nodo": "group-single"
       },
       "10": {
        "Numero de arboles": "group-middle",
        "Variables analizadas por nodo": "group-single"
       },
       "11": {
        "Numero de arboles": "group-bottom",
        "Variables analizadas por nodo": "group-single"
       },
       "12": {
        "Numero de arboles": "group-top",
        "Variables analizadas por nodo": "group-single"
       },
       "13": {
        "Numero de arboles": "group-middle",
        "Variables analizadas por nodo": "group-single"
       },
       "14": {
        "Numero de arboles": "group-middle",
        "Variables analizadas por nodo": "group-single"
       },
       "15": {
        "Numero de arboles": "group-middle",
        "Variables analizadas por nodo": "group-single"
       },
       "16": {
        "Numero de arboles": "group-middle",
        "Variables analizadas por nodo": "group-single"
       },
       "17": {
        "Numero de arboles": "group-bottom",
        "Variables analizadas por nodo": "group-single"
       },
       "18": {
        "Numero de arboles": "group-top",
        "Variables analizadas por nodo": "group-single"
       },
       "19": {
        "Numero de arboles": "group-middle",
        "Variables analizadas por nodo": "group-single"
       },
       "2": {
        "Numero de arboles": "group-middle",
        "Variables analizadas por nodo": "group-single"
       },
       "20": {
        "Numero de arboles": "group-middle",
        "Variables analizadas por nodo": "group-single"
       },
       "21": {
        "Numero de arboles": "group-middle",
        "Variables analizadas por nodo": "group-single"
       },
       "22": {
        "Numero de arboles": "group-middle",
        "Variables analizadas por nodo": "group-single"
       },
       "23": {
        "Numero de arboles": "group-bottom",
        "Variables analizadas por nodo": "group-single"
       },
       "24": {
        "Numero de arboles": "group-top",
        "Variables analizadas por nodo": "group-single"
       },
       "25": {
        "Numero de arboles": "group-middle",
        "Variables analizadas por nodo": "group-single"
       },
       "26": {
        "Numero de arboles": "group-middle",
        "Variables analizadas por nodo": "group-single"
       },
       "27": {
        "Numero de arboles": "group-middle",
        "Variables analizadas por nodo": "group-single"
       },
       "28": {
        "Numero de arboles": "group-middle",
        "Variables analizadas por nodo": "group-single"
       },
       "29": {
        "Numero de arboles": "group-middle",
        "Variables analizadas por nodo": "single"
       },
       "3": {
        "Numero de arboles": "group-middle",
        "Variables analizadas por nodo": "group-single"
       },
       "4": {
        "Numero de arboles": "group-middle",
        "Variables analizadas por nodo": "group-single"
       },
       "5": {
        "Numero de arboles": "group-bottom",
        "Variables analizadas por nodo": "group-single"
       },
       "6": {
        "Numero de arboles": "group-top",
        "Variables analizadas por nodo": "group-single"
       },
       "7": {
        "Numero de arboles": "group-middle",
        "Variables analizadas por nodo": "group-single"
       },
       "8": {
        "Numero de arboles": "group-middle",
        "Variables analizadas por nodo": "group-single"
       },
       "9": {
        "Numero de arboles": "group-middle",
        "Variables analizadas por nodo": "group-single"
       }
      },
      "_sort_ascending": true,
      "_sort_field": null,
      "_view_count": null,
      "_view_module": "qgrid",
      "_view_module_version": "1.1.1",
      "_view_name": "QgridView",
      "_viewport_range": [
       0,
       100
      ],
      "grid_options": {
       "autoEdit": false,
       "boldIndex": true,
       "defaultColumnWidth": 150,
       "editable": true,
       "enableColumnReorder": false,
       "enableTextSelectionOnCells": true,
       "explicitInitialization": true,
       "filterable": true,
       "forceFitColumns": true,
       "fullWidthRows": true,
       "highlightSelectedCell": false,
       "highlightSelectedRow": true,
       "maxVisibleRows": 15,
       "minVisibleRows": 8,
       "rowHeight": 28,
       "sortable": true,
       "syncColumnCellResize": true
      },
      "id": "533970e1-a971-4840-89b2-ad0be2c28451",
      "layout": "IPY_MODEL_4bdd00b1c93a42db9d643d9001c80a44",
      "precision": 5,
      "show_toolbar": false
     }
    },
    "12ed62f0ab5843a39422bcb20ddea10c": {
     "model_module": "qgrid",
     "model_name": "QgridModel",
     "state": {
      "_columns": {
       "Eficiencia en validacion": {
        "cssClass": "string",
        "defaultSortAsc": true,
        "editable": true,
        "field": "Eficiencia en validacion",
        "id": "Eficiencia en validacion",
        "maxWidth": null,
        "minWidth": 30,
        "name": "Eficiencia en validacion",
        "position": 3,
        "resizable": true,
        "sortable": true,
        "toolTip": "",
        "type": "string",
        "width": null
       },
       "Intervalo de confianza": {
        "cssClass": "string",
        "defaultSortAsc": true,
        "editable": true,
        "field": "Intervalo de confianza",
        "id": "Intervalo de confianza",
        "maxWidth": null,
        "minWidth": 30,
        "name": "Intervalo de confianza",
        "position": 4,
        "resizable": true,
        "sortable": true,
        "toolTip": "",
        "type": "string",
        "width": null
       },
       "Numero de arboles": {
        "cssClass": "integer",
        "defaultSortAsc": true,
        "editable": true,
        "field": "Numero de arboles",
        "first_index": true,
        "id": "Numero de arboles",
        "index_display_text": "Numero de arboles",
        "is_index": true,
        "level": 0,
        "maxWidth": null,
        "minWidth": 30,
        "name": "Numero de arboles",
        "position": 0,
        "resizable": true,
        "sortable": true,
        "toolTip": "",
        "type": "integer",
        "width": null
       },
       "Variables analizadas por nodo": {
        "cssClass": "integer",
        "defaultSortAsc": true,
        "editable": true,
        "field": "Variables analizadas por nodo",
        "id": "Variables analizadas por nodo",
        "index_display_text": "Variables analizadas por nodo",
        "is_index": true,
        "last_index": true,
        "level": 1,
        "maxWidth": null,
        "minWidth": 30,
        "name": "Variables analizadas por nodo",
        "position": 1,
        "resizable": true,
        "sortable": true,
        "toolTip": "",
        "type": "integer",
        "width": null
       },
       "qgrid_unfiltered_index": {
        "cssClass": "integer",
        "defaultSortAsc": true,
        "editable": true,
        "field": "qgrid_unfiltered_index",
        "id": "qgrid_unfiltered_index",
        "maxWidth": null,
        "minWidth": 30,
        "name": "qgrid_unfiltered_index",
        "position": 2,
        "resizable": true,
        "sortable": true,
        "toolTip": "",
        "type": "integer",
        "width": null
       }
      },
      "_df_json": "{\"schema\": {\"fields\":[{\"name\":\"Numero de arboles\",\"type\":\"integer\"},{\"name\":\"Variables analizadas por nodo\",\"type\":\"integer\"},{\"name\":\"qgrid_unfiltered_index\",\"type\":\"integer\"},{\"name\":\"Eficiencia en validacion\",\"type\":\"string\"},{\"name\":\"Intervalo de confianza\",\"type\":\"string\"}],\"primaryKey\":[\"Numero de arboles\",\"Variables analizadas por nodo\"],\"pandas_version\":\"0.20.0\"}, \"data\": [{\"Numero de arboles\":30,\"Variables analizadas por nodo\":5,\"qgrid_unfiltered_index\":0,\"Eficiencia en validacion\":\"\",\"Intervalo de confianza\":\"\"},{\"Numero de arboles\":30,\"Variables analizadas por nodo\":10,\"qgrid_unfiltered_index\":1,\"Eficiencia en validacion\":\"\",\"Intervalo de confianza\":\"\"},{\"Numero de arboles\":30,\"Variables analizadas por nodo\":15,\"qgrid_unfiltered_index\":2,\"Eficiencia en validacion\":\"\",\"Intervalo de confianza\":\"\"},{\"Numero de arboles\":30,\"Variables analizadas por nodo\":20,\"qgrid_unfiltered_index\":3,\"Eficiencia en validacion\":\"\",\"Intervalo de confianza\":\"\"},{\"Numero de arboles\":30,\"Variables analizadas por nodo\":25,\"qgrid_unfiltered_index\":4,\"Eficiencia en validacion\":\"\",\"Intervalo de confianza\":\"\"},{\"Numero de arboles\":30,\"Variables analizadas por nodo\":30,\"qgrid_unfiltered_index\":5,\"Eficiencia en validacion\":\"\",\"Intervalo de confianza\":\"\"}]}",
      "_df_range": [
       0,
       100
      ],
      "_dom_classes": [],
      "_editable_rows": {},
      "_index_col_name": "qgrid_unfiltered_index",
      "_interval_columns": [],
      "_model_module": "qgrid",
      "_model_module_version": "1.1.1",
      "_model_name": "QgridModel",
      "_multi_index": true,
      "_row_count": 6,
      "_row_styles": {
       "0": {
        "Numero de arboles": "group-top",
        "Variables analizadas por nodo": "group-single"
       },
       "1": {
        "Numero de arboles": "group-middle",
        "Variables analizadas por nodo": "group-single"
       },
       "2": {
        "Numero de arboles": "group-middle",
        "Variables analizadas por nodo": "group-single"
       },
       "3": {
        "Numero de arboles": "group-middle",
        "Variables analizadas por nodo": "group-single"
       },
       "4": {
        "Numero de arboles": "group-middle",
        "Variables analizadas por nodo": "group-single"
       },
       "5": {
        "Numero de arboles": "group-middle",
        "Variables analizadas por nodo": "single"
       }
      },
      "_sort_ascending": true,
      "_sort_field": null,
      "_view_count": null,
      "_view_module": "qgrid",
      "_view_module_version": "1.1.1",
      "_view_name": "QgridView",
      "_viewport_range": [
       0,
       100
      ],
      "grid_options": {
       "autoEdit": false,
       "boldIndex": true,
       "defaultColumnWidth": 150,
       "editable": true,
       "enableColumnReorder": false,
       "enableTextSelectionOnCells": true,
       "explicitInitialization": true,
       "filterable": true,
       "forceFitColumns": true,
       "fullWidthRows": true,
       "highlightSelectedCell": false,
       "highlightSelectedRow": true,
       "maxVisibleRows": 15,
       "minVisibleRows": 8,
       "rowHeight": 28,
       "sortable": true,
       "syncColumnCellResize": true
      },
      "id": "aa039b1c-6b2f-46df-91c0-e7faeaa1ed13",
      "layout": "IPY_MODEL_cfa49fb919ad4e41828fbe8af0ab7fbd",
      "precision": 5,
      "show_toolbar": false
     }
    },
    "340ab4a28b7e4fa7ab11ecad6f0e2545": {
     "model_module": "qgrid",
     "model_name": "QgridModel",
     "state": {
      "_columns": {
       "Eficiencia en validacion": {
        "cssClass": "string",
        "defaultSortAsc": true,
        "editable": true,
        "field": "Eficiencia en validacion",
        "id": "Eficiencia en validacion",
        "maxWidth": null,
        "minWidth": 30,
        "name": "Eficiencia en validacion",
        "position": 3,
        "resizable": true,
        "sortable": true,
        "toolTip": "",
        "type": "string",
        "width": null
       },
       "Intervalo de confianza": {
        "cssClass": "string",
        "defaultSortAsc": true,
        "editable": true,
        "field": "Intervalo de confianza",
        "id": "Intervalo de confianza",
        "maxWidth": null,
        "minWidth": 30,
        "name": "Intervalo de confianza",
        "position": 4,
        "resizable": true,
        "sortable": true,
        "toolTip": "",
        "type": "string",
        "width": null
       },
       "Numero de arboles": {
        "cssClass": "integer",
        "defaultSortAsc": true,
        "editable": true,
        "field": "Numero de arboles",
        "first_index": true,
        "id": "Numero de arboles",
        "index_display_text": "Numero de arboles",
        "is_index": true,
        "level": 0,
        "maxWidth": null,
        "minWidth": 30,
        "name": "Numero de arboles",
        "position": 0,
        "resizable": true,
        "sortable": true,
        "toolTip": "",
        "type": "integer",
        "width": null
       },
       "Variables analizadas por nodo": {
        "cssClass": "integer",
        "defaultSortAsc": true,
        "editable": true,
        "field": "Variables analizadas por nodo",
        "id": "Variables analizadas por nodo",
        "index_display_text": "Variables analizadas por nodo",
        "is_index": true,
        "last_index": true,
        "level": 1,
        "maxWidth": null,
        "minWidth": 30,
        "name": "Variables analizadas por nodo",
        "position": 1,
        "resizable": true,
        "sortable": true,
        "toolTip": "",
        "type": "integer",
        "width": null
       },
       "qgrid_unfiltered_index": {
        "cssClass": "integer",
        "defaultSortAsc": true,
        "editable": true,
        "field": "qgrid_unfiltered_index",
        "id": "qgrid_unfiltered_index",
        "maxWidth": null,
        "minWidth": 30,
        "name": "qgrid_unfiltered_index",
        "position": 2,
        "resizable": true,
        "sortable": true,
        "toolTip": "",
        "type": "integer",
        "width": null
       }
      },
      "_df_json": "{\"schema\": {\"fields\":[{\"name\":\"Numero de arboles\",\"type\":\"integer\"},{\"name\":\"Variables analizadas por nodo\",\"type\":\"integer\"},{\"name\":\"qgrid_unfiltered_index\",\"type\":\"integer\"},{\"name\":\"Eficiencia en validacion\",\"type\":\"string\"},{\"name\":\"Intervalo de confianza\",\"type\":\"string\"}],\"primaryKey\":[\"Numero de arboles\",\"Variables analizadas por nodo\"],\"pandas_version\":\"0.20.0\"}, \"data\": [{\"Numero de arboles\":5,\"Variables analizadas por nodo\":39,\"qgrid_unfiltered_index\":0,\"Eficiencia en validacion\":\"0.9152777777777777\",\"Intervalo de confianza\":\"0.024650332429581766\"},{\"Numero de arboles\":10,\"Variables analizadas por nodo\":39,\"qgrid_unfiltered_index\":1,\"Eficiencia en validacion\":\"0.9138888888888889\",\"Intervalo de confianza\":\"0.038188130791298645\"},{\"Numero de arboles\":20,\"Variables analizadas por nodo\":39,\"qgrid_unfiltered_index\":2,\"Eficiencia en validacion\":\"0.9194444444444444\",\"Intervalo de confianza\":\"0.0377818625242651\"},{\"Numero de arboles\":50,\"Variables analizadas por nodo\":39,\"qgrid_unfiltered_index\":3,\"Eficiencia en validacion\":\"0.9249999999999999\",\"Intervalo de confianza\":\"0.03524604872347088\"},{\"Numero de arboles\":100,\"Variables analizadas por nodo\":39,\"qgrid_unfiltered_index\":4,\"Eficiencia en validacion\":\"0.9180555555555555\",\"Intervalo de confianza\":\"0.02975595178559522\"}]}",
      "_df_range": [
       0,
       100
      ],
      "_dom_classes": [],
      "_editable_rows": {},
      "_index_col_name": "qgrid_unfiltered_index",
      "_interval_columns": [],
      "_model_module": "qgrid",
      "_model_module_version": "1.1.1",
      "_model_name": "QgridModel",
      "_multi_index": true,
      "_row_count": 5,
      "_row_styles": {
       "0": {
        "Numero de arboles": "group-single",
        "Variables analizadas por nodo": "group-top"
       },
       "1": {
        "Numero de arboles": "group-single",
        "Variables analizadas por nodo": "group-middle"
       },
       "2": {
        "Numero de arboles": "group-single",
        "Variables analizadas por nodo": "group-middle"
       },
       "3": {
        "Numero de arboles": "group-single",
        "Variables analizadas por nodo": "group-middle"
       },
       "4": {
        "Numero de arboles": "single",
        "Variables analizadas por nodo": "group-middle"
       }
      },
      "_sort_ascending": true,
      "_sort_field": null,
      "_view_count": null,
      "_view_module": "qgrid",
      "_view_module_version": "1.1.1",
      "_view_name": "QgridView",
      "_viewport_range": [
       0,
       100
      ],
      "grid_options": {
       "autoEdit": false,
       "boldIndex": true,
       "defaultColumnWidth": 150,
       "editable": true,
       "enableColumnReorder": false,
       "enableTextSelectionOnCells": true,
       "explicitInitialization": true,
       "filterable": true,
       "forceFitColumns": true,
       "fullWidthRows": true,
       "highlightSelectedCell": false,
       "highlightSelectedRow": true,
       "maxVisibleRows": 15,
       "minVisibleRows": 8,
       "rowHeight": 28,
       "sortable": true,
       "syncColumnCellResize": true
      },
      "id": "9a1afbbb-8c1a-4ebb-8db2-71d09270dffa",
      "layout": "IPY_MODEL_701170e8300f4364a6c37ab2fadd55f1",
      "precision": 5,
      "show_toolbar": false
     }
    },
    "43ca83329bda423d9a450108f2ca6b80": {
     "model_module": "qgrid",
     "model_name": "QgridModel",
     "state": {
      "_columns": {
       "Eficiencia en validacion": {
        "cssClass": "string",
        "defaultSortAsc": true,
        "editable": true,
        "field": "Eficiencia en validacion",
        "id": "Eficiencia en validacion",
        "maxWidth": null,
        "minWidth": 30,
        "name": "Eficiencia en validacion",
        "position": 2,
        "resizable": true,
        "sortable": true,
        "toolTip": "",
        "type": "string",
        "width": null
       },
       "Intervalo de confianza": {
        "cssClass": "string",
        "defaultSortAsc": true,
        "editable": true,
        "field": "Intervalo de confianza",
        "id": "Intervalo de confianza",
        "maxWidth": null,
        "minWidth": 30,
        "name": "Intervalo de confianza",
        "position": 3,
        "resizable": true,
        "sortable": true,
        "toolTip": "",
        "type": "string",
        "width": null
       },
       "Maxima profundidad": {
        "cssClass": "integer",
        "defaultSortAsc": true,
        "editable": true,
        "field": "Maxima profundidad",
        "first_index": true,
        "id": "Maxima profundidad",
        "index_display_text": "Maxima profundidad",
        "is_index": true,
        "level": 0,
        "maxWidth": null,
        "minWidth": 30,
        "name": "Maxima profundidad",
        "position": 0,
        "resizable": true,
        "sortable": true,
        "toolTip": "",
        "type": "integer",
        "width": null
       },
       "qgrid_unfiltered_index": {
        "cssClass": "integer",
        "defaultSortAsc": true,
        "editable": true,
        "field": "qgrid_unfiltered_index",
        "id": "qgrid_unfiltered_index",
        "maxWidth": null,
        "minWidth": 30,
        "name": "qgrid_unfiltered_index",
        "position": 1,
        "resizable": true,
        "sortable": true,
        "toolTip": "",
        "type": "integer",
        "width": null
       }
      },
      "_df_json": "{\"schema\": {\"fields\":[{\"name\":\"Maxima profundidad\",\"type\":\"integer\"},{\"name\":\"qgrid_unfiltered_index\",\"type\":\"integer\"},{\"name\":\"Eficiencia en validacion\",\"type\":\"string\"},{\"name\":\"Intervalo de confianza\",\"type\":\"string\"}],\"primaryKey\":[\"Maxima profundidad\"],\"pandas_version\":\"0.20.0\"}, \"data\": [{\"Maxima profundidad\":5,\"qgrid_unfiltered_index\":0,\"Eficiencia en validacion\":\"0.9097222222222222\",\"Intervalo de confianza\":\"0.046043290150696574\"},{\"Maxima profundidad\":10,\"qgrid_unfiltered_index\":1,\"Eficiencia en validacion\":\"0.9041666666666667\",\"Intervalo de confianza\":\"0.033188342070412574\"},{\"Maxima profundidad\":20,\"qgrid_unfiltered_index\":2,\"Eficiencia en validacion\":\"0.9041666666666667\",\"Intervalo de confianza\":\"0.033188342070412574\"},{\"Maxima profundidad\":30,\"qgrid_unfiltered_index\":3,\"Eficiencia en validacion\":\"0.9041666666666667\",\"Intervalo de confianza\":\"0.033188342070412574\"},{\"Maxima profundidad\":50,\"qgrid_unfiltered_index\":4,\"Eficiencia en validacion\":\"0.9041666666666667\",\"Intervalo de confianza\":\"0.033188342070412574\"}]}",
      "_df_range": [
       0,
       100
      ],
      "_dom_classes": [],
      "_editable_rows": {},
      "_index_col_name": "qgrid_unfiltered_index",
      "_interval_columns": [],
      "_model_module": "qgrid",
      "_model_module_version": "1.1.1",
      "_model_name": "QgridModel",
      "_multi_index": false,
      "_row_count": 5,
      "_row_styles": {},
      "_sort_ascending": true,
      "_sort_field": null,
      "_view_count": null,
      "_view_module": "qgrid",
      "_view_module_version": "1.1.1",
      "_view_name": "QgridView",
      "_viewport_range": [
       0,
       100
      ],
      "grid_options": {
       "autoEdit": false,
       "boldIndex": true,
       "defaultColumnWidth": 150,
       "editable": true,
       "enableColumnReorder": false,
       "enableTextSelectionOnCells": true,
       "explicitInitialization": true,
       "filterable": true,
       "forceFitColumns": true,
       "fullWidthRows": true,
       "highlightSelectedCell": false,
       "highlightSelectedRow": true,
       "maxVisibleRows": 15,
       "minVisibleRows": 8,
       "rowHeight": 28,
       "sortable": true,
       "syncColumnCellResize": true
      },
      "id": "4b14d6c1-2938-4f51-9173-0683cf00b5f6",
      "layout": "IPY_MODEL_e28250b57ac34c8ebc03822b61b95078",
      "precision": 5,
      "show_toolbar": false
     }
    },
    "b6d779c1b2054ad180b4c6003f6c0e4d": {
     "model_module": "qgrid",
     "model_name": "QgridModel",
     "state": {
      "_columns": {
       "Eficiencia en validacion": {
        "cssClass": "string",
        "defaultSortAsc": true,
        "editable": true,
        "field": "Eficiencia en validacion",
        "id": "Eficiencia en validacion",
        "maxWidth": null,
        "minWidth": 30,
        "name": "Eficiencia en validacion",
        "position": 2,
        "resizable": true,
        "sortable": true,
        "toolTip": "",
        "type": "string",
        "width": null
       },
       "Intervalo de confianza": {
        "cssClass": "string",
        "defaultSortAsc": true,
        "editable": true,
        "field": "Intervalo de confianza",
        "id": "Intervalo de confianza",
        "maxWidth": null,
        "minWidth": 30,
        "name": "Intervalo de confianza",
        "position": 3,
        "resizable": true,
        "sortable": true,
        "toolTip": "",
        "type": "string",
        "width": null
       },
       "Maxima profundidad": {
        "cssClass": "integer",
        "defaultSortAsc": true,
        "editable": true,
        "field": "Maxima profundidad",
        "first_index": true,
        "id": "Maxima profundidad",
        "index_display_text": "Maxima profundidad",
        "is_index": true,
        "level": 0,
        "maxWidth": null,
        "minWidth": 30,
        "name": "Maxima profundidad",
        "position": 0,
        "resizable": true,
        "sortable": true,
        "toolTip": "",
        "type": "integer",
        "width": null
       },
       "qgrid_unfiltered_index": {
        "cssClass": "integer",
        "defaultSortAsc": true,
        "editable": true,
        "field": "qgrid_unfiltered_index",
        "id": "qgrid_unfiltered_index",
        "maxWidth": null,
        "minWidth": 30,
        "name": "qgrid_unfiltered_index",
        "position": 1,
        "resizable": true,
        "sortable": true,
        "toolTip": "",
        "type": "integer",
        "width": null
       }
      },
      "_df_json": "{\"schema\": {\"fields\":[{\"name\":\"Maxima profundidad\",\"type\":\"integer\"},{\"name\":\"qgrid_unfiltered_index\",\"type\":\"integer\"},{\"name\":\"Eficiencia en validacion\",\"type\":\"string\"},{\"name\":\"Intervalo de confianza\",\"type\":\"string\"}],\"primaryKey\":[\"Maxima profundidad\"],\"pandas_version\":\"0.20.0\"}, \"data\": [{\"Maxima profundidad\":5,\"qgrid_unfiltered_index\":0,\"Eficiencia en validacion\":\"0.9111111111111111\",\"Intervalo de confianza\":\"0.04461771778946944\"},{\"Maxima profundidad\":10,\"qgrid_unfiltered_index\":1,\"Eficiencia en validacion\":\"0.9013888888888889\",\"Intervalo de confianza\":\"0.03224496323956637\"},{\"Maxima profundidad\":20,\"qgrid_unfiltered_index\":2,\"Eficiencia en validacion\":\"0.9013888888888889\",\"Intervalo de confianza\":\"0.03224496323956637\"},{\"Maxima profundidad\":30,\"qgrid_unfiltered_index\":3,\"Eficiencia en validacion\":\"0.9013888888888889\",\"Intervalo de confianza\":\"0.03224496323956637\"},{\"Maxima profundidad\":50,\"qgrid_unfiltered_index\":4,\"Eficiencia en validacion\":\"0.9013888888888889\",\"Intervalo de confianza\":\"0.03224496323956637\"}]}",
      "_df_range": [
       0,
       100
      ],
      "_dom_classes": [],
      "_editable_rows": {},
      "_index_col_name": "qgrid_unfiltered_index",
      "_interval_columns": [],
      "_model_module": "qgrid",
      "_model_module_version": "1.1.1",
      "_model_name": "QgridModel",
      "_multi_index": false,
      "_row_count": 5,
      "_row_styles": {},
      "_sort_ascending": true,
      "_sort_field": null,
      "_view_count": null,
      "_view_module": "qgrid",
      "_view_module_version": "1.1.1",
      "_view_name": "QgridView",
      "_viewport_range": [
       0,
       100
      ],
      "grid_options": {
       "autoEdit": false,
       "boldIndex": true,
       "defaultColumnWidth": 150,
       "editable": true,
       "enableColumnReorder": false,
       "enableTextSelectionOnCells": true,
       "explicitInitialization": true,
       "filterable": true,
       "forceFitColumns": true,
       "fullWidthRows": true,
       "highlightSelectedCell": false,
       "highlightSelectedRow": true,
       "maxVisibleRows": 15,
       "minVisibleRows": 8,
       "rowHeight": 28,
       "sortable": true,
       "syncColumnCellResize": true
      },
      "id": "e0767960-df5b-43ec-87c1-7a4aecda600c",
      "layout": "IPY_MODEL_54f26fe408a243a0823be49e93a3dc4a",
      "precision": 5,
      "show_toolbar": false
     }
    },
    "f54f3a38945e4799b0b830f1184c22e8": {
     "model_module": "qgrid",
     "model_name": "QgridModel",
     "state": {
      "_columns": {
       "Eficiencia en validacion": {
        "cssClass": "string",
        "defaultSortAsc": true,
        "editable": true,
        "field": "Eficiencia en validacion",
        "id": "Eficiencia en validacion",
        "maxWidth": null,
        "minWidth": 30,
        "name": "Eficiencia en validacion",
        "position": 3,
        "resizable": true,
        "sortable": true,
        "toolTip": "",
        "type": "string",
        "width": null
       },
       "Intervalo de confianza": {
        "cssClass": "string",
        "defaultSortAsc": true,
        "editable": true,
        "field": "Intervalo de confianza",
        "id": "Intervalo de confianza",
        "maxWidth": null,
        "minWidth": 30,
        "name": "Intervalo de confianza",
        "position": 4,
        "resizable": true,
        "sortable": true,
        "toolTip": "",
        "type": "string",
        "width": null
       },
       "Numero de arboles": {
        "cssClass": "integer",
        "defaultSortAsc": true,
        "editable": true,
        "field": "Numero de arboles",
        "first_index": true,
        "id": "Numero de arboles",
        "index_display_text": "Numero de arboles",
        "is_index": true,
        "level": 0,
        "maxWidth": null,
        "minWidth": 30,
        "name": "Numero de arboles",
        "position": 0,
        "resizable": true,
        "sortable": true,
        "toolTip": "",
        "type": "integer",
        "width": null
       },
       "Variables analizadas por nodo": {
        "cssClass": "integer",
        "defaultSortAsc": true,
        "editable": true,
        "field": "Variables analizadas por nodo",
        "id": "Variables analizadas por nodo",
        "index_display_text": "Variables analizadas por nodo",
        "is_index": true,
        "last_index": true,
        "level": 1,
        "maxWidth": null,
        "minWidth": 30,
        "name": "Variables analizadas por nodo",
        "position": 1,
        "resizable": true,
        "sortable": true,
        "toolTip": "",
        "type": "integer",
        "width": null
       },
       "qgrid_unfiltered_index": {
        "cssClass": "integer",
        "defaultSortAsc": true,
        "editable": true,
        "field": "qgrid_unfiltered_index",
        "id": "qgrid_unfiltered_index",
        "maxWidth": null,
        "minWidth": 30,
        "name": "qgrid_unfiltered_index",
        "position": 2,
        "resizable": true,
        "sortable": true,
        "toolTip": "",
        "type": "integer",
        "width": null
       }
      },
      "_df_json": "{\"schema\": {\"fields\":[{\"name\":\"Numero de arboles\",\"type\":\"integer\"},{\"name\":\"Variables analizadas por nodo\",\"type\":\"integer\"},{\"name\":\"qgrid_unfiltered_index\",\"type\":\"integer\"},{\"name\":\"Eficiencia en validacion\",\"type\":\"string\"},{\"name\":\"Intervalo de confianza\",\"type\":\"string\"}],\"primaryKey\":[\"Numero de arboles\",\"Variables analizadas por nodo\"],\"pandas_version\":\"0.20.0\"}, \"data\": [{\"Numero de arboles\":5,\"Variables analizadas por nodo\":20,\"qgrid_unfiltered_index\":0,\"Eficiencia en validacion\":\"\",\"Intervalo de confianza\":\"\"},{\"Numero de arboles\":10,\"Variables analizadas por nodo\":20,\"qgrid_unfiltered_index\":1,\"Eficiencia en validacion\":\"\",\"Intervalo de confianza\":\"\"},{\"Numero de arboles\":20,\"Variables analizadas por nodo\":20,\"qgrid_unfiltered_index\":2,\"Eficiencia en validacion\":\"\",\"Intervalo de confianza\":\"\"},{\"Numero de arboles\":50,\"Variables analizadas por nodo\":20,\"qgrid_unfiltered_index\":3,\"Eficiencia en validacion\":\"\",\"Intervalo de confianza\":\"\"},{\"Numero de arboles\":100,\"Variables analizadas por nodo\":20,\"qgrid_unfiltered_index\":4,\"Eficiencia en validacion\":\"\",\"Intervalo de confianza\":\"\"}]}",
      "_df_range": [
       0,
       100
      ],
      "_dom_classes": [],
      "_editable_rows": {},
      "_index_col_name": "qgrid_unfiltered_index",
      "_interval_columns": [],
      "_model_module": "qgrid",
      "_model_module_version": "1.1.1",
      "_model_name": "QgridModel",
      "_multi_index": true,
      "_row_count": 5,
      "_row_styles": {
       "0": {
        "Numero de arboles": "group-single",
        "Variables analizadas por nodo": "group-top"
       },
       "1": {
        "Numero de arboles": "group-single",
        "Variables analizadas por nodo": "group-middle"
       },
       "2": {
        "Numero de arboles": "group-single",
        "Variables analizadas por nodo": "group-middle"
       },
       "3": {
        "Numero de arboles": "group-single",
        "Variables analizadas por nodo": "group-middle"
       },
       "4": {
        "Numero de arboles": "single",
        "Variables analizadas por nodo": "group-middle"
       }
      },
      "_sort_ascending": true,
      "_sort_field": null,
      "_view_count": null,
      "_view_module": "qgrid",
      "_view_module_version": "1.1.1",
      "_view_name": "QgridView",
      "_viewport_range": [
       0,
       100
      ],
      "grid_options": {
       "autoEdit": false,
       "boldIndex": true,
       "defaultColumnWidth": 150,
       "editable": true,
       "enableColumnReorder": false,
       "enableTextSelectionOnCells": true,
       "explicitInitialization": true,
       "filterable": true,
       "forceFitColumns": true,
       "fullWidthRows": true,
       "highlightSelectedCell": false,
       "highlightSelectedRow": true,
       "maxVisibleRows": 15,
       "minVisibleRows": 8,
       "rowHeight": 28,
       "sortable": true,
       "syncColumnCellResize": true
      },
      "id": "fff6f41b-eee7-404b-b5b2-9c6d0994f909",
      "layout": "IPY_MODEL_fc8b9aca47ea4e9aa7900e812bda65be",
      "precision": 5,
      "show_toolbar": false
     }
    }
   }
  }
 },
 "nbformat": 4,
 "nbformat_minor": 1
}
