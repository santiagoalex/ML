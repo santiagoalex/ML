{
  "nbformat": 4,
  "nbformat_minor": 0,
  "metadata": {
    "kernelspec": {
      "display_name": "Python 3",
      "language": "python",
      "name": "python3"
    },
    "language_info": {
      "codemirror_mode": {
        "name": "ipython",
        "version": 3
      },
      "file_extension": ".py",
      "mimetype": "text/x-python",
      "name": "python",
      "nbconvert_exporter": "python",
      "pygments_lexer": "ipython3",
      "version": "3.7.5rc1"
    },
    "colab": {
      "name": "Lab_3.1_K_means.ipynb",
      "provenance": [],
      "collapsed_sections": []
    },
    "widgets": {
      "application/vnd.jupyter.widget-state+json": {
        "d913c462e95d4cecb7641a296d97bd99": {
          "model_module": "qgrid",
          "model_name": "QgridModel",
          "state": {
            "_view_name": "QgridView",
            "_view_module": "qgrid",
            "_model_module_version": "1.1.1",
            "_index_col_name": "qgrid_unfiltered_index",
            "_model_module": "qgrid",
            "id": "59356089-1ca1-4cd0-b132-b4920e864bb6",
            "_sort_ascending": true,
            "_columns": {
              "qgrid_unfiltered_index": {
                "resizable": true,
                "sortable": true,
                "name": "qgrid_unfiltered_index",
                "maxWidth": null,
                "width": null,
                "defaultSortAsc": true,
                "editable": true,
                "toolTip": "",
                "minWidth": 30,
                "field": "qgrid_unfiltered_index",
                "position": 2,
                "cssClass": "integer",
                "type": "integer",
                "id": "qgrid_unfiltered_index"
              },
              "Intervalo de confianza": {
                "resizable": true,
                "sortable": true,
                "name": "Intervalo de confianza",
                "maxWidth": null,
                "width": null,
                "defaultSortAsc": true,
                "editable": true,
                "toolTip": "",
                "minWidth": 30,
                "field": "Intervalo de confianza",
                "position": 4,
                "cssClass": "string",
                "type": "string",
                "id": "Intervalo de confianza"
              },
              "Numero de componentes": {
                "is_index": true,
                "resizable": true,
                "sortable": true,
                "name": "Numero de componentes",
                "maxWidth": null,
                "level": 1,
                "defaultSortAsc": true,
                "last_index": true,
                "editable": true,
                "toolTip": "",
                "minWidth": 30,
                "field": "Numero de componentes",
                "width": null,
                "position": 1,
                "index_display_text": "Numero de componentes",
                "cssClass": "integer",
                "type": "integer",
                "id": "Numero de componentes"
              },
              "Matriz de covarianza": {
                "is_index": true,
                "resizable": true,
                "sortable": true,
                "name": "Matriz de covarianza",
                "maxWidth": null,
                "level": 0,
                "first_index": true,
                "defaultSortAsc": true,
                "editable": true,
                "toolTip": "",
                "minWidth": 30,
                "field": "Matriz de covarianza",
                "width": null,
                "position": 0,
                "index_display_text": "Matriz de covarianza",
                "cssClass": "string",
                "type": "string",
                "id": "Matriz de covarianza"
              },
              "Eficiencia en validacion": {
                "resizable": true,
                "sortable": true,
                "name": "Eficiencia en validacion",
                "maxWidth": null,
                "width": null,
                "defaultSortAsc": true,
                "editable": true,
                "toolTip": "",
                "minWidth": 30,
                "field": "Eficiencia en validacion",
                "position": 3,
                "cssClass": "string",
                "type": "string",
                "id": "Eficiencia en validacion"
              }
            },
            "_interval_columns": [],
            "_dom_classes": [],
            "_df_range": [
              0,
              100
            ],
            "_model_name": "QgridModel",
            "precision": 5,
            "_editable_rows": {},
            "_viewport_range": [
              0,
              100
            ],
            "layout": "IPY_MODEL_f3c21720cb004034a59fde88088c5cc8",
            "_view_count": null,
            "_row_styles": {
              "0": {
                "Numero de componentes": "group-single",
                "Matriz de covarianza": "group-top"
              },
              "1": {
                "Numero de componentes": "group-single",
                "Matriz de covarianza": "group-middle"
              },
              "2": {
                "Numero de componentes": "group-single",
                "Matriz de covarianza": "group-middle"
              },
              "3": {
                "Numero de componentes": "group-single",
                "Matriz de covarianza": "group-middle"
              },
              "4": {
                "Numero de componentes": "group-single",
                "Matriz de covarianza": "group-middle"
              },
              "5": {
                "Numero de componentes": "group-single",
                "Matriz de covarianza": "group-bottom"
              },
              "6": {
                "Numero de componentes": "group-single",
                "Matriz de covarianza": "group-top"
              },
              "7": {
                "Numero de componentes": "group-single",
                "Matriz de covarianza": "group-middle"
              },
              "8": {
                "Numero de componentes": "group-single",
                "Matriz de covarianza": "group-middle"
              },
              "9": {
                "Numero de componentes": "group-single",
                "Matriz de covarianza": "group-middle"
              },
              "10": {
                "Numero de componentes": "group-single",
                "Matriz de covarianza": "group-middle"
              },
              "11": {
                "Numero de componentes": "group-single",
                "Matriz de covarianza": "group-bottom"
              },
              "12": {
                "Numero de componentes": "group-single",
                "Matriz de covarianza": "group-top"
              },
              "13": {
                "Numero de componentes": "group-single",
                "Matriz de covarianza": "group-middle"
              },
              "14": {
                "Numero de componentes": "group-single",
                "Matriz de covarianza": "group-middle"
              },
              "15": {
                "Numero de componentes": "group-single",
                "Matriz de covarianza": "group-middle"
              },
              "16": {
                "Numero de componentes": "group-single",
                "Matriz de covarianza": "group-middle"
              },
              "17": {
                "Numero de componentes": "group-single",
                "Matriz de covarianza": "group-bottom"
              },
              "18": {
                "Numero de componentes": "group-single",
                "Matriz de covarianza": "group-top"
              },
              "19": {
                "Numero de componentes": "group-single",
                "Matriz de covarianza": "group-middle"
              },
              "20": {
                "Numero de componentes": "group-single",
                "Matriz de covarianza": "group-middle"
              },
              "21": {
                "Numero de componentes": "group-single",
                "Matriz de covarianza": "group-middle"
              },
              "22": {
                "Numero de componentes": "group-single",
                "Matriz de covarianza": "group-middle"
              },
              "23": {
                "Numero de componentes": "single",
                "Matriz de covarianza": "group-middle"
              }
            },
            "_row_count": 24,
            "_multi_index": true,
            "show_toolbar": false,
            "_view_module_version": "1.1.1",
            "grid_options": {
              "highlightSelectedRow": true,
              "fullWidthRows": true,
              "rowHeight": 28,
              "enableColumnReorder": false,
              "filterable": true,
              "sortable": true,
              "enableTextSelectionOnCells": true,
              "editable": true,
              "explicitInitialization": true,
              "minVisibleRows": 8,
              "autoEdit": false,
              "syncColumnCellResize": true,
              "maxVisibleRows": 15,
              "defaultColumnWidth": 150,
              "boldIndex": true,
              "forceFitColumns": true,
              "highlightSelectedCell": false
            },
            "_df_json": "{\"schema\": {\"fields\":[{\"name\":\"Matriz de covarianza\",\"type\":\"string\"},{\"name\":\"Numero de componentes\",\"type\":\"integer\"},{\"name\":\"qgrid_unfiltered_index\",\"type\":\"integer\"},{\"name\":\"Eficiencia en validacion\",\"type\":\"string\"},{\"name\":\"Intervalo de confianza\",\"type\":\"string\"}],\"primaryKey\":[\"Matriz de covarianza\",\"Numero de componentes\"],\"pandas_version\":\"0.20.0\"}, \"data\": [{\"Matriz de covarianza\":\"full\",\"Numero de componentes\":1,\"qgrid_unfiltered_index\":0,\"Eficiencia en validacion\":\"0.9833333333333334\",\"Intervalo de confianza\":\"0.014163943093313296\"},{\"Matriz de covarianza\":\"full\",\"Numero de componentes\":2,\"qgrid_unfiltered_index\":1,\"Eficiencia en validacion\":\"0.9527777777777778\",\"Intervalo de confianza\":\"0.03480545579483796\"},{\"Matriz de covarianza\":\"full\",\"Numero de componentes\":3,\"qgrid_unfiltered_index\":2,\"Eficiencia en validacion\":\"0.9041666666666667\",\"Intervalo de confianza\":\"0.010668257983150846\"},{\"Matriz de covarianza\":\"full\",\"Numero de componentes\":4,\"qgrid_unfiltered_index\":3,\"Eficiencia en validacion\":\"0.7013888888888888\",\"Intervalo de confianza\":\"0.07771574907520991\"},{\"Matriz de covarianza\":\"full\",\"Numero de componentes\":5,\"qgrid_unfiltered_index\":4,\"Eficiencia en validacion\":\"0.41944444444444445\",\"Intervalo de confianza\":\"0.155580355166005\"},{\"Matriz de covarianza\":\"full\",\"Numero de componentes\":6,\"qgrid_unfiltered_index\":5,\"Eficiencia en validacion\":\"0.2777777777777778\",\"Intervalo de confianza\":\"0.025760051376376953\"},{\"Matriz de covarianza\":\"diag\",\"Numero de componentes\":1,\"qgrid_unfiltered_index\":6,\"Eficiencia en validacion\":\"0.9263888888888889\",\"Intervalo de confianza\":\"0.009918650595198423\"},{\"Matriz de covarianza\":\"diag\",\"Numero de componentes\":2,\"qgrid_unfiltered_index\":7,\"Eficiencia en validacion\":\"0.9444444444444444\",\"Intervalo de confianza\":\"0.01712337223046941\"},{\"Matriz de covarianza\":\"diag\",\"Numero de componentes\":3,\"qgrid_unfiltered_index\":8,\"Eficiencia en validacion\":\"0.9597222222222223\",\"Intervalo de confianza\":\"0.007216878364870297\"},{\"Matriz de covarianza\":\"diag\",\"Numero de componentes\":4,\"qgrid_unfiltered_index\":9,\"Eficiencia en validacion\":\"0.9652777777777778\",\"Intervalo de confianza\":\"0.009918650595198367\"},{\"Matriz de covarianza\":\"diag\",\"Numero de componentes\":5,\"qgrid_unfiltered_index\":10,\"Eficiencia en validacion\":\"0.9555555555555556\",\"Intervalo de confianza\":\"0.02886751345948128\"},{\"Matriz de covarianza\":\"diag\",\"Numero de componentes\":6,\"qgrid_unfiltered_index\":11,\"Eficiencia en validacion\":\"0.9777777777777777\",\"Intervalo de confianza\":\"0.01964185503295967\"},{\"Matriz de covarianza\":\"spherical\",\"Numero de componentes\":1,\"qgrid_unfiltered_index\":12,\"Eficiencia en validacion\":\"0.8847222222222222\",\"Intervalo de confianza\":\"0.01589655991980499\"},{\"Matriz de covarianza\":\"spherical\",\"Numero de componentes\":2,\"qgrid_unfiltered_index\":13,\"Eficiencia en validacion\":\"0.8611111111111112\",\"Intervalo de confianza\":\"0.011785113019775804\"},{\"Matriz de covarianza\":\"spherical\",\"Numero de componentes\":3,\"qgrid_unfiltered_index\":14,\"Eficiencia en validacion\":\"0.8694444444444445\",\"Intervalo de confianza\":\"0.017786456215091253\"},{\"Matriz de covarianza\":\"spherical\",\"Numero de componentes\":4,\"qgrid_unfiltered_index\":15,\"Eficiencia en validacion\":\"0.8555555555555555\",\"Intervalo de confianza\":\"0.025153847605937273\"},{\"Matriz de covarianza\":\"spherical\",\"Numero de componentes\":5,\"qgrid_unfiltered_index\":16,\"Eficiencia en validacion\":\"0.8555555555555555\",\"Intervalo de confianza\":\"0.034020690871988585\"},{\"Matriz de covarianza\":\"spherical\",\"Numero de componentes\":6,\"qgrid_unfiltered_index\":17,\"Eficiencia en validacion\":\"0.8875000000000002\",\"Intervalo de confianza\":\"0.03734536016596877\"},{\"Matriz de covarianza\":\"tied\",\"Numero de componentes\":1,\"qgrid_unfiltered_index\":18,\"Eficiencia en validacion\":\"0.9833333333333334\",\"Intervalo de confianza\":\"0.014163943093313296\"},{\"Matriz de covarianza\":\"tied\",\"Numero de componentes\":2,\"qgrid_unfiltered_index\":19,\"Eficiencia en validacion\":\"0.9833333333333334\",\"Intervalo de confianza\":\"0.014163943093313296\"},{\"Matriz de covarianza\":\"tied\",\"Numero de componentes\":3,\"qgrid_unfiltered_index\":20,\"Eficiencia en validacion\":\"0.9833333333333334\",\"Intervalo de confianza\":\"0.014163943093313296\"},{\"Matriz de covarianza\":\"tied\",\"Numero de componentes\":4,\"qgrid_unfiltered_index\":21,\"Eficiencia en validacion\":\"0.9833333333333334\",\"Intervalo de confianza\":\"0.014163943093313296\"},{\"Matriz de covarianza\":\"tied\",\"Numero de componentes\":5,\"qgrid_unfiltered_index\":22,\"Eficiencia en validacion\":\"0.9833333333333334\",\"Intervalo de confianza\":\"0.012422599874998837\"},{\"Matriz de covarianza\":\"tied\",\"Numero de componentes\":6,\"qgrid_unfiltered_index\":23,\"Eficiencia en validacion\":\"0.9833333333333334\",\"Intervalo de confianza\":\"0.014163943093313296\"}]}",
            "_sort_field": null
          }
        }
      }
    }
  },
  "cells": [
    {
      "cell_type": "markdown",
      "metadata": {
        "id": "_KSJhKViz6fj",
        "colab_type": "text"
      },
      "source": [
        "# Laboratorio 3 - Parte 1 \n",
        "\n",
        "### Modelos de mezclas de funciones Gausianas y k-means\n",
        "\n",
        "### 2019-II\n",
        "\n",
        "#### Profesor: Julián D. Arias Londoño\n",
        "#### julian.ariasl@udea.edu.co\n"
      ]
    },
    {
      "cell_type": "markdown",
      "metadata": {
        "id": "4Cf3Xxnbz6fp",
        "colab_type": "text"
      },
      "source": [
        "## Guía del laboratorio\n",
        "\n",
        "En este archivo va a encontrar tanto celdas de código cómo celdas de texto con las instrucciones para desarrollar el laboratorio.\n",
        "\n",
        "Lea atentamente las instrucciones entregadas en las celdas de texto correspondientes y proceda con la solución de las preguntas planteadas.\n",
        "\n",
        "Nota: no olvide ir ejecutando las celdas de código de arriba hacia abajo para que no tenga errores de importación de librerías o por falta de definición de variables."
      ]
    },
    {
      "cell_type": "markdown",
      "metadata": {
        "id": "FZV7FYyiz6fr",
        "colab_type": "text"
      },
      "source": [
        "#### Primer integrante: Santiago Alexis Sanchez Zuleta\n",
        "#### Segundo integrante: Raúl Andrés Gómez Ramírez"
      ]
    },
    {
      "cell_type": "code",
      "metadata": {
        "id": "CpEM9sNnz6fu",
        "colab_type": "code",
        "colab": {}
      },
      "source": [
        "#Algunas advertencias que queremos evitar\n",
        "import warnings\n",
        "warnings.filterwarnings(\"always\") \n",
        "\n",
        "%matplotlib inline\n",
        "import numpy as np\n",
        "import scipy as sc\n",
        "import matplotlib.pyplot as plt\n",
        "from scipy import stats\n"
      ],
      "execution_count": 0,
      "outputs": []
    },
    {
      "cell_type": "markdown",
      "metadata": {
        "id": "uiNH1wUmz6f2",
        "colab_type": "text"
      },
      "source": [
        "## Ejercicio 1: Contextualización del problema\n",
        "\n",
        "A continuación se leen los datos de un problema de clasificación. El problema corresponde a la clasificación de dígitos escritos a mano. Usaremos únicamente 4 de las 10 clases disponibles. Los datos fueron preprocesados para reducir el número de características. La técnica usada será analizada más adelante en el curso."
      ]
    },
    {
      "cell_type": "code",
      "metadata": {
        "id": "3CGdw-XPz6f4",
        "colab_type": "code",
        "outputId": "9f059ec4-59ae-471a-e5e8-bd999c323a72",
        "colab": {
          "base_uri": "https://localhost:8080/",
          "height": 158
        }
      },
      "source": [
        "from sklearn.datasets import load_digits\n",
        "from sklearn.decomposition import PCA\n",
        "digits = load_digits(n_class=4)\n",
        "\n",
        "#--------- preprocesamiento--------------------\n",
        "pca = PCA(0.99, whiten=True)\n",
        "data = pca.fit_transform(digits.data)\n",
        "\n",
        "#---------- Datos a usar ----------------------\n",
        "X = data\n",
        "Y = digits.target\n",
        "X[39]"
      ],
      "execution_count": 16,
      "outputs": [
        {
          "output_type": "execute_result",
          "data": {
            "text/plain": [
              "array([-0.02787119, -1.51679169,  1.11201902, -0.2447385 , -0.92782853,\n",
              "       -1.294045  , -0.04657012, -0.93681082,  0.5098759 ,  0.1583091 ,\n",
              "       -0.66487017, -1.01471061,  0.61352643,  0.52353671, -1.68252615,\n",
              "       -0.42618529, -0.06480147,  0.5932617 ,  0.40174077, -0.6848559 ,\n",
              "       -1.21433495,  0.75889299, -0.72895209,  1.20992568, -1.71369924,\n",
              "        0.80138066, -0.41391133, -1.75796594, -1.89300962, -2.4537101 ,\n",
              "       -0.97189737,  0.16458404, -0.94797496, -0.3904581 , -2.58826101,\n",
              "        1.37596992, -1.30230876, -0.45680446, -0.09364962])"
            ]
          },
          "metadata": {
            "tags": []
          },
          "execution_count": 16
        }
      ]
    },
    {
      "cell_type": "markdown",
      "metadata": {
        "id": "ZTmtpIpPz6f-",
        "colab_type": "text"
      },
      "source": [
        "Un vistazo a la base de datos"
      ]
    },
    {
      "cell_type": "code",
      "metadata": {
        "id": "MMo1n15lz6gA",
        "colab_type": "code",
        "outputId": "a1cb46ac-a2e8-4263-f121-d6245e82ff73",
        "colab": {
          "base_uri": "https://localhost:8080/",
          "height": 468
        }
      },
      "source": [
        "def plot_digits(data):\n",
        "    fig, ax = plt.subplots(10, 10, figsize=(8, 8),\n",
        "                           subplot_kw=dict(xticks=[], yticks=[]))\n",
        "    fig.subplots_adjust(hspace=0.05, wspace=0.05)\n",
        "    for i, axi in enumerate(ax.flat):\n",
        "        im = axi.imshow(data[i].reshape(8, 8), cmap='binary')\n",
        "        im.set_clim(0, 16)\n",
        "plot_digits(digits.data)"
      ],
      "execution_count": 3,
      "outputs": [
        {
          "output_type": "display_data",
          "data": {
            "image/png": "[encoded data removed]",
            "text/plain": [
              "<Figure size 576x576 with 100 Axes>"
            ]
          },
          "metadata": {
            "tags": []
          }
        }
      ]
    },
    {
      "cell_type": "markdown",
      "metadata": {
        "id": "ox2lc1Tvz6gJ",
        "colab_type": "text"
      },
      "source": [
        "Responda:\n",
        "\n",
        "1.1 ¿Cuántas muestras por clase tiene la base de datos?:"
      ]
    },
    {
      "cell_type": "code",
      "metadata": {
        "id": "oskxfv1Hz6gN",
        "colab_type": "code",
        "outputId": "250b1612-25d9-4347-cdab-9413d23c122b",
        "colab": {
          "base_uri": "https://localhost:8080/",
          "height": 70
        }
      },
      "source": [
        "C=np.unique(Y)\n",
        "Class=X[Y==0],X[Y==1],X[Y==2],X[Y==3]\n",
        "print('Muestras de la clases : ')\n",
        "print('  0 ,  1 ,  2 ,  3  ')\n",
        "len(Class[0]),len(Class[1]),len(Class[2]),len(Class[3]) #Muestras por clase"
      ],
      "execution_count": 4,
      "outputs": [
        {
          "output_type": "stream",
          "text": [
            "Muestras de la clases : \n",
            "  0 ,  1 ,  2 ,  3  \n"
          ],
          "name": "stdout"
        },
        {
          "output_type": "execute_result",
          "data": {
            "text/plain": [
              "(178, 182, 177, 183)"
            ]
          },
          "metadata": {
            "tags": []
          },
          "execution_count": 4
        }
      ]
    },
    {
      "cell_type": "markdown",
      "metadata": {
        "id": "-6PB_8YHz6gV",
        "colab_type": "text"
      },
      "source": [
        "1.2 ¿Cuántas características tiene cada muestra?\n"
      ]
    },
    {
      "cell_type": "markdown",
      "metadata": {
        "id": "SNthC6NCg0jO",
        "colab_type": "text"
      },
      "source": [
        "La muestra contiene 39 caracteristicas para cada clase"
      ]
    },
    {
      "cell_type": "code",
      "metadata": {
        "id": "RVmRCO7nz6gZ",
        "colab_type": "code",
        "outputId": "8f84bee7-7ba2-4a77-8732-db2ff5f284b8",
        "colab": {
          "base_uri": "https://localhost:8080/",
          "height": 34
        }
      },
      "source": [
        "X.shape[1]"
      ],
      "execution_count": 5,
      "outputs": [
        {
          "output_type": "execute_result",
          "data": {
            "text/plain": [
              "39"
            ]
          },
          "metadata": {
            "tags": []
          },
          "execution_count": 5
        }
      ]
    },
    {
      "cell_type": "markdown",
      "metadata": {
        "id": "ZyLYp54ez6gi",
        "colab_type": "text"
      },
      "source": [
        "1.2 Teniendo en cuenta el tipo de problema y el número de muestras por clase, ¿qué metodología de validación debería usar?¿Porqué?:"
      ]
    },
    {
      "cell_type": "markdown",
      "metadata": {
        "id": "WsPDdxN8t2Qz",
        "colab_type": "text"
      },
      "source": [
        "Ya que las clases no estan desbalanceadas, una validación cruzada que toma k  subconjuntos divididos de manera aleatoria uno para validación y el resto para pruebas es una metodologia muy precisa ya que hace una evaluacion con combinaciones de datos de entrenamiento y prueba."
      ]
    },
    {
      "cell_type": "markdown",
      "metadata": {
        "id": "9CqbKxzXz6gv",
        "colab_type": "text"
      },
      "source": [
        "## Ejercicio 2: Completar el código\n",
        "\n",
        "En la siguiente celda defina una función que tome como entradas una matriz $X$ y una matriz $Y$, entrene un modelo GMM  (Modelo de mezclas gaussianas) por cada clase y retorne el listado de modelos para cada clase. Debe consultar todo lo relacionado con la creación, entrenamiento y uso en predicción de este modelo usando la librería scikit-learn. Consultar aquí: http://scikit-learn.org/stable/modules/generated/sklearn.mixture.GaussianMixture.html\n",
        "\n",
        "\n",
        "Adicionalmente construya una función que use los modelos entrenados en la función anterior para hacer la clasificación de un conjunto nuevo de muestras.\n",
        "\n"
      ]
    },
    {
      "cell_type": "code",
      "metadata": {
        "id": "Wr1nGDOAz6gy",
        "colab_type": "code",
        "colab": {}
      },
      "source": [
        "def GMMClassifierTrain(X,Y,M,tipo):\n",
        "    \n",
        "    #X: Matriz con las características\n",
        "    #Y: Matriz con las clases\n",
        "    #M: Número de componentes\n",
        "    #tipo: Tipo de matriz de covarianza\n",
        "      \n",
        "    Classes=np.unique(Y)\n",
        "    GMMs=[] \n",
        "    tipo=tipo\n",
        "    for clas in Classes:\n",
        "      Xtrain= X[Y==clas,:]\n",
        "      gaussian=GaussianMixture(n_components=M, covariance_type=tipo)\n",
        "      gaussian.fit(Xtrain)\n",
        "      GMMs.append(gaussian)\n",
        "    \n",
        "    return GMMs #Debe retornar un objeto que contenga todos los modelos entrenados\n",
        "\n",
        "\n",
        "def GMMClassfierVal(GMMs,Xtest):\n",
        "    \n",
        "    nClasses=len(GMMs)\n",
        "    values=Xtest.shape[0]\n",
        "    probability=np.zeros((values, nClasses))\n",
        "\n",
        "    for p in range(nClasses):\n",
        "        probability[:, p] = np.exp(GMMs[p].score_samples(Xtest))   \n",
        "    Yest = np.argmax(probability, axis=1)\n",
        "    return Yest #Debe retornar un vector con las clases predichas para cada una de las muestras en Xtest, de acuerdo con los modelos almacenados en GMMs"
      ],
      "execution_count": 0,
      "outputs": []
    },
    {
      "cell_type": "markdown",
      "metadata": {
        "id": "I9PPIXR2z6g7",
        "colab_type": "text"
      },
      "source": [
        "## Ejercicio 3: Entrenamiento\n",
        "\n",
        "En la siguiente celda se define una simulación para entrenar y validar un modelo usando los datos previamente cargados de lo digitos. Complete el código para usar como modelo de predicción un GMM.\n",
        "\n",
        "Asegure que:\n",
        "\n",
        "\n",
        "                                - Matriz de covarianza: diagonal \n",
        "                                - Numero de componentes: 3\n",
        "                                - Eficiencia en validacion: 0.9555\t\n",
        "                                - Intervalo de confianza: 0.02297\n"
      ]
    },
    {
      "cell_type": "code",
      "metadata": {
        "id": "xLPHK2yEz6g-",
        "colab_type": "code",
        "colab": {}
      },
      "source": [
        "import math\n",
        "import numpy as np\n",
        "from numpy import random\n",
        "from sklearn.mixture import GaussianMixture\n",
        "from sklearn.model_selection import StratifiedKFold\n",
        "import numpy.matlib\n",
        "\n",
        "\n",
        "\n",
        "#Validamos el modelo\n",
        "def mainGMM(cov_index = 'Esférica',num_components=3):\n",
        "    Folds = 4\n",
        "    random.seed(19680801)\n",
        "    EficienciaTrain = np.zeros(Folds)\n",
        "    EficienciaVal = np.zeros(Folds)\n",
        "    skf = StratifiedKFold(n_splits=Folds)\n",
        "    j = 0\n",
        "    for train, test in skf.split(X, Y):\n",
        "        Xtrain = X[train,:]\n",
        "        Ytrain = Y[train]\n",
        "        Xtest = X[test,:]\n",
        "        Ytest = Y[test]\n",
        "\n",
        "        #Normalizamos los datos\n",
        "        media = np.mean(Xtrain)\n",
        "        desvia = np.std(Xtrain)\n",
        "        Xtrain = sc.stats.stats.zscore(Xtrain)\n",
        "        Xtest = (Xtest - np.matlib.repmat(media, Xtest.shape[0], 1))/np.matlib.repmat(desvia, Xtest.shape[0], 1)\n",
        "\n",
        "        #Haga el llamado a la función para crear y entrenar el modelo usando los datos de entrenamiento\n",
        "        #(X,Y,M,tipo)\n",
        "        gmms = GMMClassifierTrain(Xtrain,Ytrain,num_components,cov_index)\n",
        "\n",
        "\n",
        "\n",
        "        #Validación\n",
        "        Ytrain_pred = GMMClassfierVal(gmms,Xtrain);\n",
        "        Yest = GMMClassfierVal(gmms,Xtest);\n",
        "\n",
        "        #Evaluamos las predicciones del modelo con los datos de test\n",
        "        EficienciaTrain[j] = np.mean(Ytrain_pred.ravel() == Ytrain.ravel())\n",
        "        EficienciaVal[j] = np.mean(Yest.ravel() == Ytest.ravel())\n",
        "        j += 1\n",
        "        \n",
        "    print('Eficiencia durante el entrenamiento = ' + str(np.mean(EficienciaTrain)) + '+-' + str(np.std(EficienciaTrain)))\n",
        "    print('Eficiencia durante la validación = ' + str(np.mean(EficienciaVal)) + '+-' + str(np.std(EficienciaVal)))\n",
        "    return (np.std(EficienciaVal),np.mean(EficienciaVal))\n",
        "\n",
        "   "
      ],
      "execution_count": 0,
      "outputs": []
    },
    {
      "cell_type": "code",
      "metadata": {
        "id": "He2D-HGKCAik",
        "colab_type": "code",
        "outputId": "b5b01b38-0a08-4470-f0c3-5f17d1634112",
        "colab": {
          "base_uri": "https://localhost:8080/",
          "height": 52
        }
      },
      "source": [
        "epa=mainGMM('diag',3)\n"
      ],
      "execution_count": 18,
      "outputs": [
        {
          "output_type": "stream",
          "text": [
            "Eficiencia durante el entrenamiento = 0.9981481481481481+-0.002268046058132564\n",
            "Eficiencia durante la validación = 0.9597222222222223+-0.007216878364870297\n"
          ],
          "name": "stdout"
        }
      ]
    },
    {
      "cell_type": "markdown",
      "metadata": {
        "id": "zu_aE2dQz6hF",
        "colab_type": "text"
      },
      "source": [
        "## Ejercicio 4: Resultados\n",
        "\n",
        "Una vez completado el código realice los experimentos necesarios para llenar la siguiente tabla:"
      ]
    },
    {
      "cell_type": "code",
      "metadata": {
        "id": "VMlJaoAshFAO",
        "colab_type": "code",
        "outputId": "379d353d-9d67-4946-84a2-c90dca6826f1",
        "colab": {
          "base_uri": "https://localhost:8080/",
          "height": 710
        }
      },
      "source": [
        "!pip install qgrid"
      ],
      "execution_count": 9,
      "outputs": [
        {
          "output_type": "stream",
          "text": [
            "Requirement already satisfied: qgrid in /usr/local/lib/python3.6/dist-packages (1.3.0)\n",
            "Requirement already satisfied: pandas>=0.18.0 in /usr/local/lib/python3.6/dist-packages (from qgrid) (0.25.3)\n",
            "Requirement already satisfied: ipywidgets>=7.0.0 in /usr/local/lib/python3.6/dist-packages (from qgrid) (7.5.1)\n",
            "Requirement already satisfied: notebook>=4.0.0 in /usr/local/lib/python3.6/dist-packages (from qgrid) (5.2.2)\n",
            "Requirement already satisfied: python-dateutil>=2.6.1 in /usr/local/lib/python3.6/dist-packages (from pandas>=0.18.0->qgrid) (2.6.1)\n",
            "Requirement already satisfied: numpy>=1.13.3 in /usr/local/lib/python3.6/dist-packages (from pandas>=0.18.0->qgrid) (1.17.5)\n",
            "Requirement already satisfied: pytz>=2017.2 in /usr/local/lib/python3.6/dist-packages (from pandas>=0.18.0->qgrid) (2018.9)\n",
            "Requirement already satisfied: ipykernel>=4.5.1 in /usr/local/lib/python3.6/dist-packages (from ipywidgets>=7.0.0->qgrid) (4.6.1)\n",
            "Requirement already satisfied: ipython>=4.0.0; python_version >= \"3.3\" in /usr/local/lib/python3.6/dist-packages (from ipywidgets>=7.0.0->qgrid) (5.5.0)\n",
            "Requirement already satisfied: widgetsnbextension~=3.5.0 in /usr/local/lib/python3.6/dist-packages (from ipywidgets>=7.0.0->qgrid) (3.5.1)\n",
            "Requirement already satisfied: nbformat>=4.2.0 in /usr/local/lib/python3.6/dist-packages (from ipywidgets>=7.0.0->qgrid) (5.0.4)\n",
            "Requirement already satisfied: traitlets>=4.3.1 in /usr/local/lib/python3.6/dist-packages (from ipywidgets>=7.0.0->qgrid) (4.3.3)\n",
            "Requirement already satisfied: jupyter-core in /usr/local/lib/python3.6/dist-packages (from notebook>=4.0.0->qgrid) (4.6.2)\n",
            "Requirement already satisfied: ipython-genutils in /usr/local/lib/python3.6/dist-packages (from notebook>=4.0.0->qgrid) (0.2.0)\n",
            "Requirement already satisfied: tornado>=4 in /usr/local/lib/python3.6/dist-packages (from notebook>=4.0.0->qgrid) (4.5.3)\n",
            "Requirement already satisfied: terminado>=0.3.3; sys_platform != \"win32\" in /usr/local/lib/python3.6/dist-packages (from notebook>=4.0.0->qgrid) (0.8.3)\n",
            "Requirement already satisfied: nbconvert in /usr/local/lib/python3.6/dist-packages (from notebook>=4.0.0->qgrid) (5.6.1)\n",
            "Requirement already satisfied: jinja2 in /usr/local/lib/python3.6/dist-packages (from notebook>=4.0.0->qgrid) (2.11.1)\n",
            "Requirement already satisfied: jupyter-client in /usr/local/lib/python3.6/dist-packages (from notebook>=4.0.0->qgrid) (5.3.4)\n",
            "Requirement already satisfied: six>=1.5 in /usr/local/lib/python3.6/dist-packages (from python-dateutil>=2.6.1->pandas>=0.18.0->qgrid) (1.12.0)\n",
            "Requirement already satisfied: setuptools>=18.5 in /usr/local/lib/python3.6/dist-packages (from ipython>=4.0.0; python_version >= \"3.3\"->ipywidgets>=7.0.0->qgrid) (45.1.0)\n",
            "Requirement already satisfied: simplegeneric>0.8 in /usr/local/lib/python3.6/dist-packages (from ipython>=4.0.0; python_version >= \"3.3\"->ipywidgets>=7.0.0->qgrid) (0.8.1)\n",
            "Requirement already satisfied: pickleshare in /usr/local/lib/python3.6/dist-packages (from ipython>=4.0.0; python_version >= \"3.3\"->ipywidgets>=7.0.0->qgrid) (0.7.5)\n",
            "Requirement already satisfied: pexpect; sys_platform != \"win32\" in /usr/local/lib/python3.6/dist-packages (from ipython>=4.0.0; python_version >= \"3.3\"->ipywidgets>=7.0.0->qgrid) (4.8.0)\n",
            "Requirement already satisfied: pygments in /usr/local/lib/python3.6/dist-packages (from ipython>=4.0.0; python_version >= \"3.3\"->ipywidgets>=7.0.0->qgrid) (2.1.3)\n",
            "Requirement already satisfied: decorator in /usr/local/lib/python3.6/dist-packages (from ipython>=4.0.0; python_version >= \"3.3\"->ipywidgets>=7.0.0->qgrid) (4.4.1)\n",
            "Requirement already satisfied: prompt-toolkit<2.0.0,>=1.0.4 in /usr/local/lib/python3.6/dist-packages (from ipython>=4.0.0; python_version >= \"3.3\"->ipywidgets>=7.0.0->qgrid) (1.0.18)\n",
            "Requirement already satisfied: jsonschema!=2.5.0,>=2.4 in /usr/local/lib/python3.6/dist-packages (from nbformat>=4.2.0->ipywidgets>=7.0.0->qgrid) (2.6.0)\n",
            "Requirement already satisfied: ptyprocess; os_name != \"nt\" in /usr/local/lib/python3.6/dist-packages (from terminado>=0.3.3; sys_platform != \"win32\"->notebook>=4.0.0->qgrid) (0.6.0)\n",
            "Requirement already satisfied: defusedxml in /usr/local/lib/python3.6/dist-packages (from nbconvert->notebook>=4.0.0->qgrid) (0.6.0)\n",
            "Requirement already satisfied: bleach in /usr/local/lib/python3.6/dist-packages (from nbconvert->notebook>=4.0.0->qgrid) (3.1.0)\n",
            "Requirement already satisfied: entrypoints>=0.2.2 in /usr/local/lib/python3.6/dist-packages (from nbconvert->notebook>=4.0.0->qgrid) (0.3)\n",
            "Requirement already satisfied: mistune<2,>=0.8.1 in /usr/local/lib/python3.6/dist-packages (from nbconvert->notebook>=4.0.0->qgrid) (0.8.4)\n",
            "Requirement already satisfied: pandocfilters>=1.4.1 in /usr/local/lib/python3.6/dist-packages (from nbconvert->notebook>=4.0.0->qgrid) (1.4.2)\n",
            "Requirement already satisfied: testpath in /usr/local/lib/python3.6/dist-packages (from nbconvert->notebook>=4.0.0->qgrid) (0.4.4)\n",
            "Requirement already satisfied: MarkupSafe>=0.23 in /usr/local/lib/python3.6/dist-packages (from jinja2->notebook>=4.0.0->qgrid) (1.1.1)\n",
            "Requirement already satisfied: pyzmq>=13 in /usr/local/lib/python3.6/dist-packages (from jupyter-client->notebook>=4.0.0->qgrid) (17.0.0)\n",
            "Requirement already satisfied: wcwidth in /usr/local/lib/python3.6/dist-packages (from prompt-toolkit<2.0.0,>=1.0.4->ipython>=4.0.0; python_version >= \"3.3\"->ipywidgets>=7.0.0->qgrid) (0.1.8)\n",
            "Requirement already satisfied: webencodings in /usr/local/lib/python3.6/dist-packages (from bleach->nbconvert->notebook>=4.0.0->qgrid) (0.5.1)\n"
          ],
          "name": "stdout"
        }
      ]
    },
    {
      "cell_type": "code",
      "metadata": {
        "id": "TC3_VbB2z6hI",
        "colab_type": "code",
        "outputId": "fc53185b-a0a4-4364-cd1a-e56b557e72bc",
        "colab": {
          "base_uri": "https://localhost:8080/",
          "height": 996,
          "referenced_widgets": [
            "d913c462e95d4cecb7641a296d97bd99"
          ]
        }
      },
      "source": [
        "import pandas as pd\n",
        "import qgrid\n",
        "randn = np.random.randn\n",
        "df_types = pd.DataFrame({\n",
        "    'Matriz de covarianza' : pd.Series(['full','full','full','full','full','full','diag','diag','diag','diag','diag','diag','spherical','spherical','spherical','spherical','spherical','spherical','tied','tied','tied','tied','tied','tied']),\n",
        "    'Numero de componentes' : pd.Series([1,2,3,4,5,6,1,2,3,4,5,6,1,2,3,4,5,6,1,2,3,4,5,6])})\n",
        "df_types[\"Eficiencia en validacion\"] = \"\"\n",
        "df_types[\"Intervalo de confianza\"] = \"\"\n",
        "df_types.set_index(['Matriz de covarianza','Numero de componentes'], inplace=True)\n",
        "#df_types[\"Eficiencia en validacion\"][8] = \"0.9555\"\n",
        "#df_types[\"Intervalo de confianza\"][8] = \"0.02297\"\n",
        "#df_types.sort_index(inplace=True)\n",
        "r=0\n",
        "for prueba in df_types.index:\n",
        "  #print(prueba[0])\n",
        "  #print(prueba[1])\n",
        "  \n",
        "  gaussiana=mainGMM(prueba[0],prueba[1])  \n",
        "  df_types[\"Eficiencia en validacion\"][prueba] =  gaussiana[1]\n",
        "  df_types[\"Intervalo de confianza\"][prueba] = gaussiana[0]\n",
        "  r=r+1\n",
        "qgrid_widget = qgrid.show_grid(df_types, show_toolbar=False)\n",
        "qgrid_widget"
      ],
      "execution_count": 10,
      "outputs": [
        {
          "output_type": "stream",
          "text": [
            "/usr/local/lib/python3.6/dist-packages/ipywidgets/widgets/widget.py:282: DeprecationWarning: Widget registration using a string name has been deprecated. Widget registration now uses a plain `@register` decorator.\n",
            "  warnings.warn(\"Widget registration using a string name has been deprecated. Widget registration now uses a plain `@register` decorator.\", DeprecationWarning)\n",
            "/usr/local/lib/python3.6/dist-packages/qgrid/grid.py:573: DeprecationWarning: metadata {'sync': True} was set from the constructor. With traitlets 4.1, metadata should be set using the .tag() method, e.g., Int().tag(key1='value1', key2='value2')\n",
            "  _df_json = Unicode('', sync=True)\n"
          ],
          "name": "stderr"
        },
        {
          "output_type": "stream",
          "text": [
            "Eficiencia durante el entrenamiento = 1.0+-0.0\n",
            "Eficiencia durante la validación = 0.9833333333333334+-0.014163943093313296\n",
            "Eficiencia durante el entrenamiento = 1.0+-0.0\n",
            "Eficiencia durante la validación = 0.9527777777777778+-0.03480545579483796\n",
            "Eficiencia durante el entrenamiento = 1.0+-0.0\n",
            "Eficiencia durante la validación = 0.9041666666666667+-0.010668257983150846\n",
            "Eficiencia durante el entrenamiento = 1.0+-0.0\n",
            "Eficiencia durante la validación = 0.7013888888888888+-0.07771574907520991\n",
            "Eficiencia durante el entrenamiento = 1.0+-0.0\n",
            "Eficiencia durante la validación = 0.41944444444444445+-0.155580355166005\n",
            "Eficiencia durante el entrenamiento = 1.0+-0.0\n",
            "Eficiencia durante la validación = 0.2777777777777778+-0.025760051376376953\n",
            "Eficiencia durante el entrenamiento = 0.987037037037037+-0.003928371006591917\n",
            "Eficiencia durante la validación = 0.9263888888888889+-0.009918650595198423\n",
            "Eficiencia durante el entrenamiento = 0.9976851851851851+-0.002018008770157708\n",
            "Eficiencia durante la validación = 0.9444444444444444+-0.01712337223046941\n",
            "Eficiencia durante el entrenamiento = 0.9981481481481481+-0.002268046058132564\n",
            "Eficiencia durante la validación = 0.9597222222222223+-0.007216878364870297\n",
            "Eficiencia durante el entrenamiento = 0.999074074074074+-0.0009259259259259411\n",
            "Eficiencia durante la validación = 0.9652777777777778+-0.009918650595198367\n",
            "Eficiencia durante el entrenamiento = 0.9990740740740741+-0.0016037507477489389\n",
            "Eficiencia durante la validación = 0.9555555555555556+-0.02886751345948128\n",
            "Eficiencia durante el entrenamiento = 1.0+-0.0\n",
            "Eficiencia durante la validación = 0.9777777777777777+-0.01964185503295967\n",
            "Eficiencia durante el entrenamiento = 0.9726851851851852+-0.013249155575235361\n",
            "Eficiencia durante la validación = 0.8847222222222222+-0.01589655991980499\n",
            "Eficiencia durante el entrenamiento = 0.976388888888889+-0.009744243138819064\n",
            "Eficiencia durante la validación = 0.8611111111111112+-0.011785113019775804\n",
            "Eficiencia durante el entrenamiento = 0.9740740740740741+-0.007290748031492404\n",
            "Eficiencia durante la validación = 0.8694444444444445+-0.017786456215091253\n",
            "Eficiencia durante el entrenamiento = 0.9810185185185185+-0.005458252834514614\n",
            "Eficiencia durante la validación = 0.8555555555555555+-0.025153847605937273\n",
            "Eficiencia durante el entrenamiento = 0.9851851851851852+-0.0047213143644377654\n",
            "Eficiencia durante la validación = 0.8555555555555555+-0.034020690871988585\n",
            "Eficiencia durante el entrenamiento = 0.9902777777777777+-0.0024056261216234267\n",
            "Eficiencia durante la validación = 0.8875000000000002+-0.03734536016596877\n",
            "Eficiencia durante el entrenamiento = 1.0+-0.0\n",
            "Eficiencia durante la validación = 0.9833333333333334+-0.014163943093313296\n",
            "Eficiencia durante el entrenamiento = 1.0+-0.0\n",
            "Eficiencia durante la validación = 0.9833333333333334+-0.014163943093313296\n",
            "Eficiencia durante el entrenamiento = 1.0+-0.0\n",
            "Eficiencia durante la validación = 0.9833333333333334+-0.014163943093313296\n",
            "Eficiencia durante el entrenamiento = 1.0+-0.0\n",
            "Eficiencia durante la validación = 0.9833333333333334+-0.014163943093313296\n",
            "Eficiencia durante el entrenamiento = 1.0+-0.0\n",
            "Eficiencia durante la validación = 0.9833333333333334+-0.012422599874998837\n",
            "Eficiencia durante el entrenamiento = 1.0+-0.0\n",
            "Eficiencia durante la validación = 0.9833333333333334+-0.014163943093313296\n"
          ],
          "name": "stdout"
        },
        {
          "output_type": "stream",
          "text": [
            "/usr/local/lib/python3.6/dist-packages/qgrid/grid.py:827: DeprecationWarning: QgridWidget._df_changed is deprecated in traitlets 4.1: use @observe and @unobserve instead.\n",
            "  def _df_changed(self):\n"
          ],
          "name": "stderr"
        },
        {
          "output_type": "display_data",
          "data": {
            "application/vnd.jupyter.widget-view+json": {
              "model_id": "d913c462e95d4cecb7641a296d97bd99",
              "version_minor": 0,
              "version_major": 2
            },
            "text/plain": [
              "QgridWidget(grid_options={'fullWidthRows': True, 'syncColumnCellResize': True, 'forceFitColumns': True, 'defau…"
            ]
          },
          "metadata": {
            "tags": []
          }
        }
      ]
    },
    {
      "cell_type": "markdown",
      "metadata": {
        "id": "NTZsuLPTz6hR",
        "colab_type": "text"
      },
      "source": [
        "Ejecute la siguiente instrucción para dejar guardados en el notebook los resultados de las pruebas.\n"
      ]
    },
    {
      "cell_type": "code",
      "metadata": {
        "id": "4s8PayGPz6hU",
        "colab_type": "code",
        "outputId": "f250279b-5c8b-4397-90dd-4045b229a248",
        "colab": {
          "base_uri": "https://localhost:8080/",
          "height": 797
        }
      },
      "source": [
        "qgrid_widget.get_changed_df()"
      ],
      "execution_count": 11,
      "outputs": [
        {
          "output_type": "execute_result",
          "data": {
            "text/html": [
              "<div>\n",
              "<style scoped>\n",
              "    .dataframe tbody tr th:only-of-type {\n",
              "        vertical-align: middle;\n",
              "    }\n",
              "\n",
              "    .dataframe tbody tr th {\n",
              "        vertical-align: top;\n",
              "    }\n",
              "\n",
              "    .dataframe thead th {\n",
              "        text-align: right;\n",
              "    }\n",
              "</style>\n",
              "<table border=\"1\" class=\"dataframe\">\n",
              "  <thead>\n",
              "    <tr style=\"text-align: right;\">\n",
              "      <th></th>\n",
              "      <th></th>\n",
              "      <th>Eficiencia en validacion</th>\n",
              "      <th>Intervalo de confianza</th>\n",
              "    </tr>\n",
              "    <tr>\n",
              "      <th>Matriz de covarianza</th>\n",
              "      <th>Numero de componentes</th>\n",
              "      <th></th>\n",
              "      <th></th>\n",
              "    </tr>\n",
              "  </thead>\n",
              "  <tbody>\n",
              "    <tr>\n",
              "      <th rowspan=\"6\" valign=\"top\">full</th>\n",
              "      <th>1</th>\n",
              "      <td>0.983333</td>\n",
              "      <td>0.0141639</td>\n",
              "    </tr>\n",
              "    <tr>\n",
              "      <th>2</th>\n",
              "      <td>0.952778</td>\n",
              "      <td>0.0348055</td>\n",
              "    </tr>\n",
              "    <tr>\n",
              "      <th>3</th>\n",
              "      <td>0.904167</td>\n",
              "      <td>0.0106683</td>\n",
              "    </tr>\n",
              "    <tr>\n",
              "      <th>4</th>\n",
              "      <td>0.701389</td>\n",
              "      <td>0.0777157</td>\n",
              "    </tr>\n",
              "    <tr>\n",
              "      <th>5</th>\n",
              "      <td>0.419444</td>\n",
              "      <td>0.15558</td>\n",
              "    </tr>\n",
              "    <tr>\n",
              "      <th>6</th>\n",
              "      <td>0.277778</td>\n",
              "      <td>0.0257601</td>\n",
              "    </tr>\n",
              "    <tr>\n",
              "      <th rowspan=\"6\" valign=\"top\">diag</th>\n",
              "      <th>1</th>\n",
              "      <td>0.926389</td>\n",
              "      <td>0.00991865</td>\n",
              "    </tr>\n",
              "    <tr>\n",
              "      <th>2</th>\n",
              "      <td>0.944444</td>\n",
              "      <td>0.0171234</td>\n",
              "    </tr>\n",
              "    <tr>\n",
              "      <th>3</th>\n",
              "      <td>0.959722</td>\n",
              "      <td>0.00721688</td>\n",
              "    </tr>\n",
              "    <tr>\n",
              "      <th>4</th>\n",
              "      <td>0.965278</td>\n",
              "      <td>0.00991865</td>\n",
              "    </tr>\n",
              "    <tr>\n",
              "      <th>5</th>\n",
              "      <td>0.955556</td>\n",
              "      <td>0.0288675</td>\n",
              "    </tr>\n",
              "    <tr>\n",
              "      <th>6</th>\n",
              "      <td>0.977778</td>\n",
              "      <td>0.0196419</td>\n",
              "    </tr>\n",
              "    <tr>\n",
              "      <th rowspan=\"6\" valign=\"top\">spherical</th>\n",
              "      <th>1</th>\n",
              "      <td>0.884722</td>\n",
              "      <td>0.0158966</td>\n",
              "    </tr>\n",
              "    <tr>\n",
              "      <th>2</th>\n",
              "      <td>0.861111</td>\n",
              "      <td>0.0117851</td>\n",
              "    </tr>\n",
              "    <tr>\n",
              "      <th>3</th>\n",
              "      <td>0.869444</td>\n",
              "      <td>0.0177865</td>\n",
              "    </tr>\n",
              "    <tr>\n",
              "      <th>4</th>\n",
              "      <td>0.855556</td>\n",
              "      <td>0.0251538</td>\n",
              "    </tr>\n",
              "    <tr>\n",
              "      <th>5</th>\n",
              "      <td>0.855556</td>\n",
              "      <td>0.0340207</td>\n",
              "    </tr>\n",
              "    <tr>\n",
              "      <th>6</th>\n",
              "      <td>0.8875</td>\n",
              "      <td>0.0373454</td>\n",
              "    </tr>\n",
              "    <tr>\n",
              "      <th rowspan=\"6\" valign=\"top\">tied</th>\n",
              "      <th>1</th>\n",
              "      <td>0.983333</td>\n",
              "      <td>0.0141639</td>\n",
              "    </tr>\n",
              "    <tr>\n",
              "      <th>2</th>\n",
              "      <td>0.983333</td>\n",
              "      <td>0.0141639</td>\n",
              "    </tr>\n",
              "    <tr>\n",
              "      <th>3</th>\n",
              "      <td>0.983333</td>\n",
              "      <td>0.0141639</td>\n",
              "    </tr>\n",
              "    <tr>\n",
              "      <th>4</th>\n",
              "      <td>0.983333</td>\n",
              "      <td>0.0141639</td>\n",
              "    </tr>\n",
              "    <tr>\n",
              "      <th>5</th>\n",
              "      <td>0.983333</td>\n",
              "      <td>0.0124226</td>\n",
              "    </tr>\n",
              "    <tr>\n",
              "      <th>6</th>\n",
              "      <td>0.983333</td>\n",
              "      <td>0.0141639</td>\n",
              "    </tr>\n",
              "  </tbody>\n",
              "</table>\n",
              "</div>"
            ],
            "text/plain": [
              "                                           Eficiencia en validacion Intervalo de confianza\n",
              "Matriz de covarianza Numero de componentes                                                \n",
              "full                 1                                     0.983333              0.0141639\n",
              "                     2                                     0.952778              0.0348055\n",
              "                     3                                     0.904167              0.0106683\n",
              "                     4                                     0.701389              0.0777157\n",
              "                     5                                     0.419444                0.15558\n",
              "                     6                                     0.277778              0.0257601\n",
              "diag                 1                                     0.926389             0.00991865\n",
              "                     2                                     0.944444              0.0171234\n",
              "                     3                                     0.959722             0.00721688\n",
              "                     4                                     0.965278             0.00991865\n",
              "                     5                                     0.955556              0.0288675\n",
              "                     6                                     0.977778              0.0196419\n",
              "spherical            1                                     0.884722              0.0158966\n",
              "                     2                                     0.861111              0.0117851\n",
              "                     3                                     0.869444              0.0177865\n",
              "                     4                                     0.855556              0.0251538\n",
              "                     5                                     0.855556              0.0340207\n",
              "                     6                                       0.8875              0.0373454\n",
              "tied                 1                                     0.983333              0.0141639\n",
              "                     2                                     0.983333              0.0141639\n",
              "                     3                                     0.983333              0.0141639\n",
              "                     4                                     0.983333              0.0141639\n",
              "                     5                                     0.983333              0.0124226\n",
              "                     6                                     0.983333              0.0141639"
            ]
          },
          "metadata": {
            "tags": []
          },
          "execution_count": 11
        }
      ]
    },
    {
      "cell_type": "markdown",
      "metadata": {
        "id": "nlE6hqbjz6hb",
        "colab_type": "text"
      },
      "source": [
        "Responda\n",
        "\n",
        "4.1 La tabla incluye un tipo de matriz de covarianza no visto en clase, Atada, ¿En qué consiste este tipo de matriz según la documentación en scikit-learn?:"
      ]
    },
    {
      "cell_type": "markdown",
      "metadata": {
        "id": "GpntRN7qzglw",
        "colab_type": "text"
      },
      "source": [
        "Según la documentación de scikit-learn todos los componentes comparten la misma matrix de covarianza en la matriz tied o atada."
      ]
    },
    {
      "cell_type": "markdown",
      "metadata": {
        "id": "hFumZmYHz6hm",
        "colab_type": "text"
      },
      "source": [
        "4.2  ¿Qué método se utilizó para la incialización de los parámetros del modelo GMM?:"
      ]
    },
    {
      "cell_type": "markdown",
      "metadata": {
        "id": "cMoz9pCd7GUm",
        "colab_type": "text"
      },
      "source": [
        "Se utiliza el metodo k-means donde cada media se toma de forma aleatoria y va cambiando de manera que se va ajustando a la media de los datos mas cercanos."
      ]
    },
    {
      "cell_type": "markdown",
      "metadata": {
        "id": "c3woGQ0Qz6hw",
        "colab_type": "text"
      },
      "source": [
        "4.3 ¿El algoritmo EM presentó problemas de convergencia o colapso para alguna de las combinaciones de parámetros?"
      ]
    },
    {
      "cell_type": "markdown",
      "metadata": {
        "id": "RkDSl4jXHU4U",
        "colab_type": "text"
      },
      "source": [
        "Con las combinaciones de los parametros no se presentaron problemas de convergencia y/o colapso."
      ]
    },
    {
      "cell_type": "markdown",
      "metadata": {
        "collapsed": true,
        "id": "iF_waY57z6h3",
        "colab_type": "text"
      },
      "source": [
        "## Ejercicio 5\n",
        "\n",
        "En la siguiente celda, utilice las muestras de la base de datos iris incluidos en la variable Xclustering. \n",
        "Lleve a cabo el agrupamiento de los datos usando el algoritmo k-means y el modelo GMM.\n",
        "\n",
        "Consultar todo lo relacionado al llamado del método KMeans de la librería scikit-learn en el siguiente enlace: http://scikit-learn.org/stable/modules/generated/sklearn.cluster.KMeans.html. \n",
        "\n",
        "\n",
        "Realice el agrupamiento para 2 y 3 grupos y grafique los resultados del agrupamiento en cada caso (use colores para los puntos de acuerdo con el grupo asignado por el algoritmo de agrupamiento). Para el caso del GMM use una matriz de covarianza completa y una matriz diagonal. El resultado de este punto son 6 gráficas."
      ]
    },
    {
      "cell_type": "code",
      "metadata": {
        "id": "8GW7sxgGz6h5",
        "colab_type": "code",
        "outputId": "2cb3c89b-1138-4ff3-90cd-c527ca818f38",
        "colab": {
          "base_uri": "https://localhost:8080/",
          "height": 298
        }
      },
      "source": [
        "from sklearn.datasets import load_iris\n",
        "from sklearn.cluster import KMeans\n",
        "from sklearn.mixture import GaussianMixture \n",
        "data = load_iris()\n",
        "X=data.data\n",
        "Xclustering = X[:,1:3]\n",
        "plt.scatter(Xclustering[:,0],Xclustering[:,1])\n",
        "plt.title(\"Datos para agrupar\")\n",
        "#plt.show"
      ],
      "execution_count": 12,
      "outputs": [
        {
          "output_type": "execute_result",
          "data": {
            "text/plain": [
              "Text(0.5, 1.0, 'Datos para agrupar')"
            ]
          },
          "metadata": {
            "tags": []
          },
          "execution_count": 12
        },
        {
          "output_type": "display_data",
          "data": {
            "image/png": "[encoded data removed]",
            "text/plain": [
              "<Figure size 432x288 with 1 Axes>"
            ]
          },
          "metadata": {
            "tags": []
          }
        }
      ]
    },
    {
      "cell_type": "markdown",
      "metadata": {
        "id": "sXRWPUvAoxny",
        "colab_type": "text"
      },
      "source": [
        "##K-means"
      ]
    },
    {
      "cell_type": "code",
      "metadata": {
        "id": "_5NS5kDmz6iC",
        "colab_type": "code",
        "outputId": "81d9dba4-7f42-4802-fe70-029472c8b78b",
        "colab": {
          "base_uri": "https://localhost:8080/",
          "height": 544
        }
      },
      "source": [
        "for means in [2, 3]:\n",
        "    kmean = KMeans(n_clusters = means, init = 'random')\n",
        "    means= kmean.fit_predict(Xclustering)\n",
        "    if len(np.unique(means)) ==2:\n",
        "      plt.title(\"Agrupación en dos componentes\")\n",
        "    else:\n",
        "      plt.title(\"Agrupación en tres componentes\")\n",
        "    plt.scatter(Xclustering[:, 0], Xclustering[:, 1], c=means)\n",
        "    plt.show()\n"
      ],
      "execution_count": 13,
      "outputs": [
        {
          "output_type": "display_data",
          "data": {
            "image/png": "[encoded data removed]",
            "text/plain": [
              "<Figure size 432x288 with 1 Axes>"
            ]
          },
          "metadata": {
            "tags": []
          }
        },
        {
          "output_type": "display_data",
          "data": {
            "image/png": "[encoded data removed]",
            "text/plain": [
              "<Figure size 432x288 with 1 Axes>"
            ]
          },
          "metadata": {
            "tags": []
          }
        }
      ]
    },
    {
      "cell_type": "markdown",
      "metadata": {
        "id": "3TICmZE3rjyA",
        "colab_type": "text"
      },
      "source": [
        "##GMM"
      ]
    },
    {
      "cell_type": "code",
      "metadata": {
        "id": "zJ42-Swyp3kw",
        "colab_type": "code",
        "outputId": "25b60f97-43ec-4d08-ebcd-b3cb82a4e19a",
        "colab": {
          "base_uri": "https://localhost:8080/",
          "height": 1000
        }
      },
      "source": [
        "\n",
        "for matriz in ['full', 'diag']:\n",
        "    for component in [2, 3]:\n",
        "        gaussianMixes = GaussianMixture(n_components=component, covariance_type=matriz).fit(Xclustering)\n",
        "        etiquetas = gaussianMixes.predict(Xclustering)\n",
        "        if len(np.unique(etiquetas)) ==2:\n",
        "          plt.title(\"Agrupación en dos componentes y matriz de covarianza \" + matriz)\n",
        "        else:\n",
        "          plt.title(\"Agrupación en tres componentes y matriz de covarianza \" + matriz)\n",
        "        plt.scatter(Xclustering[:, 0], Xclustering[:, 1], c=etiquetas)\n",
        "        plt.show()"
      ],
      "execution_count": 14,
      "outputs": [
        {
          "output_type": "display_data",
          "data": {
            "image/png": "[encoded data removed]",
            "text/plain": [
              "<Figure size 432x288 with 1 Axes>"
            ]
          },
          "metadata": {
            "tags": []
          }
        },
        {
          "output_type": "display_data",
          "data": {
            "image/png": "[encoded data removed]",
            "text/plain": [
              "<Figure size 432x288 with 1 Axes>"
            ]
          },
          "metadata": {
            "tags": []
          }
        },
        {
          "output_type": "display_data",
          "data": {
            "image/png": "[encoded data removed]",
            "text/plain": [
              "<Figure size 432x288 with 1 Axes>"
            ]
          },
          "metadata": {
            "tags": []
          }
        },
        {
          "output_type": "display_data",
          "data": {
            "image/png": "[encoded data removed]",
            "text/plain": [
              "<Figure size 432x288 with 1 Axes>"
            ]
          },
          "metadata": {
            "tags": []
          }
        }
      ]
    },
    {
      "cell_type": "code",
      "metadata": {
        "id": "h_kjhS98rmvE",
        "colab_type": "code",
        "colab": {}
      },
      "source": [
        ""
      ],
      "execution_count": 0,
      "outputs": []
    }
  ]
}