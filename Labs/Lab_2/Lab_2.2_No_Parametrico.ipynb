{
  "nbformat": 4,
  "nbformat_minor": 0,
  "metadata": {
    "kernelspec": {
      "display_name": "Python 3",
      "language": "python",
      "name": "python3"
    },
    "language_info": {
      "codemirror_mode": {
        "name": "ipython",
        "version": 3
      },
      "file_extension": ".py",
      "mimetype": "text/x-python",
      "name": "python",
      "nbconvert_exporter": "python",
      "pygments_lexer": "ipython3",
      "version": "3.7.5rc1"
    },
    "colab": {
      "name": "Lab_2.2_No_Parametrico.ipynb",
      "provenance": [],
      "collapsed_sections": []
    },
    "widgets": {
      "application/vnd.jupyter.widget-state+json": {
        "d31a45b2ee5548c4a4291c599954ae14": {
          "model_module": "qgrid",
          "model_name": "QgridModel",
          "state": {
            "_view_name": "QgridView",
            "_view_module": "qgrid",
            "_model_module_version": "1.1.1",
            "_index_col_name": "qgrid_unfiltered_index",
            "_model_module": "qgrid",
            "id": "1174341f-a53c-460e-8ec3-3c18e3276317",
            "_sort_ascending": true,
            "_columns": {
              "Desviación estándar del error": {
                "resizable": true,
                "sortable": true,
                "name": "Desviación estándar del error",
                "maxWidth": null,
                "width": null,
                "defaultSortAsc": true,
                "editable": true,
                "toolTip": "",
                "minWidth": 30,
                "field": "Desviación estándar del error",
                "position": 3,
                "cssClass": "string",
                "type": "string",
                "id": "Desviación estándar del error"
              },
              "qgrid_unfiltered_index": {
                "resizable": true,
                "sortable": true,
                "name": "qgrid_unfiltered_index",
                "maxWidth": null,
                "width": null,
                "defaultSortAsc": true,
                "editable": true,
                "toolTip": "",
                "minWidth": 30,
                "field": "qgrid_unfiltered_index",
                "position": 1,
                "cssClass": "integer",
                "type": "integer",
                "id": "qgrid_unfiltered_index"
              },
              "Numero de vecinos": {
                "is_index": true,
                "resizable": true,
                "sortable": true,
                "name": "Numero de vecinos",
                "maxWidth": null,
                "level": 0,
                "first_index": true,
                "defaultSortAsc": true,
                "editable": true,
                "toolTip": "",
                "minWidth": 30,
                "field": "Numero de vecinos",
                "width": null,
                "position": 0,
                "index_display_text": "Numero de vecinos",
                "cssClass": "string",
                "type": "string",
                "id": "Numero de vecinos"
              },
              "Error_Prueba": {
                "resizable": true,
                "sortable": true,
                "name": "Error_Prueba",
                "maxWidth": null,
                "width": null,
                "defaultSortAsc": true,
                "editable": true,
                "toolTip": "",
                "minWidth": 30,
                "field": "Error_Prueba",
                "position": 2,
                "cssClass": "string",
                "type": "string",
                "id": "Error_Prueba"
              }
            },
            "_interval_columns": [],
            "_dom_classes": [],
            "_df_range": [
              0,
              100
            ],
            "_model_name": "QgridModel",
            "precision": 5,
            "_editable_rows": {},
            "_viewport_range": [
              0,
              100
            ],
            "layout": "IPY_MODEL_e3ac13fd2f354d3ab4a7a63affa43ebb",
            "_view_count": null,
            "_row_styles": {},
            "_row_count": 7,
            "_multi_index": false,
            "show_toolbar": false,
            "_view_module_version": "1.1.1",
            "grid_options": {
              "highlightSelectedRow": true,
              "fullWidthRows": true,
              "rowHeight": 28,
              "enableColumnReorder": false,
              "filterable": true,
              "sortable": true,
              "enableTextSelectionOnCells": true,
              "editable": true,
              "explicitInitialization": true,
              "minVisibleRows": 8,
              "autoEdit": false,
              "syncColumnCellResize": true,
              "maxVisibleRows": 15,
              "defaultColumnWidth": 150,
              "boldIndex": true,
              "forceFitColumns": true,
              "highlightSelectedCell": false
            },
            "_df_json": "{\"schema\": {\"fields\":[{\"name\":\"Numero de vecinos\",\"type\":\"string\"},{\"name\":\"qgrid_unfiltered_index\",\"type\":\"integer\"},{\"name\":\"Error_Prueba\",\"type\":\"string\"},{\"name\":\"Desviaci\\u00f3n est\\u00e1ndar del error\",\"type\":\"string\"}],\"primaryKey\":[\"Numero de vecinos\"],\"pandas_version\":\"0.20.0\"}, \"data\": [{\"Numero de vecinos\":\"1\",\"qgrid_unfiltered_index\":0,\"Error_Prueba\":\"0.20394736842105263\",\"Desviaci\\u00f3n est\\u00e1ndar del error\":\"0.11376063464335907\"},{\"Numero de vecinos\":\"2\",\"qgrid_unfiltered_index\":1,\"Error_Prueba\":\"0.26973684210526316\",\"Desviaci\\u00f3n est\\u00e1ndar del error\":\"0.08802031684381349\"},{\"Numero de vecinos\":\"3\",\"qgrid_unfiltered_index\":2,\"Error_Prueba\":\"0.26973684210526316\",\"Desviaci\\u00f3n est\\u00e1ndar del error\":\"0.08603090020146066\"},{\"Numero de vecinos\":\"4\",\"qgrid_unfiltered_index\":3,\"Error_Prueba\":\"0.28289473684210525\",\"Desviaci\\u00f3n est\\u00e1ndar del error\":\"0.07529949435697103\"},{\"Numero de vecinos\":\"5\",\"qgrid_unfiltered_index\":4,\"Error_Prueba\":\"0.26973684210526316\",\"Desviaci\\u00f3n est\\u00e1ndar del error\":\"0.08802031684381349\"},{\"Numero de vecinos\":\"6\",\"qgrid_unfiltered_index\":5,\"Error_Prueba\":\"0.2763157894736842\",\"Desviaci\\u00f3n est\\u00e1ndar del error\":\"0.0842516347030638\"},{\"Numero de vecinos\":\"7\",\"qgrid_unfiltered_index\":6,\"Error_Prueba\":\"0.2763157894736842\",\"Desviaci\\u00f3n est\\u00e1ndar del error\":\"0.0842516347030638\"}]}",
            "_sort_field": null
          }
        },
        "93cc75e910554696a64fd9ef84426b00": {
          "model_module": "qgrid",
          "model_name": "QgridModel",
          "state": {
            "_view_name": "QgridView",
            "_view_module": "qgrid",
            "_model_module_version": "1.1.1",
            "_index_col_name": "qgrid_unfiltered_index",
            "_model_module": "qgrid",
            "id": "4748d020-84ff-441f-a3fb-b9dc5b6f765c",
            "_sort_ascending": true,
            "_columns": {
              "Desviación estándar del error": {
                "resizable": true,
                "sortable": true,
                "name": "Desviación estándar del error",
                "maxWidth": null,
                "width": null,
                "defaultSortAsc": true,
                "editable": true,
                "toolTip": "",
                "minWidth": 30,
                "field": "Desviación estándar del error",
                "position": 3,
                "cssClass": "string",
                "type": "string",
                "id": "Desviación estándar del error"
              },
              "Tamano de ventana": {
                "is_index": true,
                "resizable": true,
                "sortable": true,
                "name": "Tamano de ventana",
                "maxWidth": null,
                "level": 0,
                "first_index": true,
                "defaultSortAsc": true,
                "editable": true,
                "toolTip": "",
                "minWidth": 30,
                "field": "Tamano de ventana",
                "width": null,
                "position": 0,
                "index_display_text": "Tamano de ventana",
                "cssClass": "string",
                "type": "string",
                "id": "Tamano de ventana"
              },
              "qgrid_unfiltered_index": {
                "resizable": true,
                "sortable": true,
                "name": "qgrid_unfiltered_index",
                "maxWidth": null,
                "width": null,
                "defaultSortAsc": true,
                "editable": true,
                "toolTip": "",
                "minWidth": 30,
                "field": "qgrid_unfiltered_index",
                "position": 1,
                "cssClass": "integer",
                "type": "integer",
                "id": "qgrid_unfiltered_index"
              },
              "Error_Prueba": {
                "resizable": true,
                "sortable": true,
                "name": "Error_Prueba",
                "maxWidth": null,
                "width": null,
                "defaultSortAsc": true,
                "editable": true,
                "toolTip": "",
                "minWidth": 30,
                "field": "Error_Prueba",
                "position": 2,
                "cssClass": "string",
                "type": "string",
                "id": "Error_Prueba"
              }
            },
            "_interval_columns": [],
            "_dom_classes": [],
            "_df_range": [
              0,
              100
            ],
            "_model_name": "QgridModel",
            "precision": 5,
            "_editable_rows": {},
            "_viewport_range": [
              0,
              100
            ],
            "layout": "IPY_MODEL_12285d6db698407b9681eacff1ca5f01",
            "_view_count": null,
            "_row_styles": {},
            "_row_count": 7,
            "_multi_index": false,
            "show_toolbar": false,
            "_view_module_version": "1.1.1",
            "grid_options": {
              "highlightSelectedRow": true,
              "fullWidthRows": true,
              "rowHeight": 28,
              "enableColumnReorder": false,
              "filterable": true,
              "sortable": true,
              "enableTextSelectionOnCells": true,
              "editable": true,
              "explicitInitialization": true,
              "minVisibleRows": 8,
              "autoEdit": false,
              "syncColumnCellResize": true,
              "maxVisibleRows": 15,
              "defaultColumnWidth": 150,
              "boldIndex": true,
              "forceFitColumns": true,
              "highlightSelectedCell": false
            },
            "_df_json": "{\"schema\": {\"fields\":[{\"name\":\"Tamano de ventana\",\"type\":\"string\"},{\"name\":\"qgrid_unfiltered_index\",\"type\":\"integer\"},{\"name\":\"Error_Prueba\",\"type\":\"string\"},{\"name\":\"Desviaci\\u00f3n est\\u00e1ndar del error\",\"type\":\"string\"}],\"primaryKey\":[\"Tamano de ventana\"],\"pandas_version\":\"0.20.0\"}, \"data\": [{\"Tamano de ventana\":\"0.05\",\"qgrid_unfiltered_index\":0,\"Error_Prueba\":\"0.22706258890469416\",\"Desviaci\\u00f3n est\\u00e1ndar del error\":\"0.032551746882760864\"},{\"Tamano de ventana\":\"0.1\",\"qgrid_unfiltered_index\":1,\"Error_Prueba\":\"0.22706258890469416\",\"Desviaci\\u00f3n est\\u00e1ndar del error\":\"0.032551746882760864\"},{\"Tamano de ventana\":\"0.5\",\"qgrid_unfiltered_index\":2,\"Error_Prueba\":\"0.2736486486486487\",\"Desviaci\\u00f3n est\\u00e1ndar del error\":\"0.031797071796314295\"},{\"Tamano de ventana\":\"1\",\"qgrid_unfiltered_index\":3,\"Error_Prueba\":\"0.2802275960170697\",\"Desviaci\\u00f3n est\\u00e1ndar del error\":\"0.025624300902776412\"},{\"Tamano de ventana\":\"2\",\"qgrid_unfiltered_index\":4,\"Error_Prueba\":\"0.24004267425320058\",\"Desviaci\\u00f3n est\\u00e1ndar del error\":\"0.026865109801217688\"},{\"Tamano de ventana\":\"5\",\"qgrid_unfiltered_index\":5,\"Error_Prueba\":\"0.27133712660028453\",\"Desviaci\\u00f3n est\\u00e1ndar del error\":\"0.15456740117502957\"},{\"Tamano de ventana\":\"10\",\"qgrid_unfiltered_index\":6,\"Error_Prueba\":\"0.5177809388335703\",\"Desviaci\\u00f3n est\\u00e1ndar del error\":\"0.1664295874822191\"}]}",
            "_sort_field": null
          }
        }
      }
    }
  },
  "cells": [
    {
      "cell_type": "markdown",
      "metadata": {
        "id": "FXJ_IhDYkGQd",
        "colab_type": "text"
      },
      "source": [
        "# Laboratorio 2 - Parte 2\n",
        "\n",
        "### Modelos no paramétricos\n",
        "\n",
        "### 2019-II\n",
        "\n",
        "#### Profesor: Julián D. Arias Londoño\n",
        "#### julian.ariasl@udea.edu.co\n"
      ]
    },
    {
      "cell_type": "markdown",
      "metadata": {
        "id": "2Azx5ZNBkGQp",
        "colab_type": "text"
      },
      "source": [
        "## Guía del laboratorio\n",
        "\n",
        "En esta archivo va a encontrar tanto celdas de código cómo celdas de texto con las instrucciones para desarrollar el laboratorio.\n",
        "\n",
        "Lea atentamente las instrucciones entregadas en las celdas de texto correspondientes y proceda con la solución de las preguntas planteadas.\n",
        "\n",
        "Nota: no olvide ir ejecutando las celdas de código de arriba hacia abajo para que no tenga errores de importación de librerías o por falta de definición de variables."
      ]
    },
    {
      "cell_type": "markdown",
      "metadata": {
        "id": "XVZAmD-okGQt",
        "colab_type": "text"
      },
      "source": [
        "#### Primer integrante\n",
        "Nombre: Santiago Alexis Sanchez Zuleta\n",
        "#### Segundo integrante\n",
        "Nombre: Raul Andres Gomez Ramirez"
      ]
    },
    {
      "cell_type": "code",
      "metadata": {
        "id": "IO5bu1GOkGQw",
        "colab_type": "code",
        "colab": {}
      },
      "source": [
        "from __future__ import division\n",
        "%matplotlib inline\n",
        "import numpy as np\n",
        "import scipy as sc\n",
        "import matplotlib.pyplot as plt\n",
        "\n",
        "\n",
        "#Evitar algunas advertencias\n",
        "import warnings\n",
        "warnings.filterwarnings(\"always\")"
      ],
      "execution_count": 0,
      "outputs": []
    },
    {
      "cell_type": "markdown",
      "metadata": {
        "id": "6No19N5BkGQ4",
        "colab_type": "text"
      },
      "source": [
        "## Ejercicio 1: Contextualización del problema\n",
        "\n",
        "\n",
        "Usaremos el dataset iris para el problema de clasificación, desde la librería sklearn. En el UCI Machine Learning Repository se encuentra más información en el siguiente [link](https://archive.ics.uci.edu/ml/datasets/iris) ."
      ]
    },
    {
      "cell_type": "code",
      "metadata": {
        "id": "_I8h29cIkGQ7",
        "colab_type": "code",
        "outputId": "7a8f6c9e-8cb5-4b56-f68a-8160662c00c5",
        "colab": {
          "base_uri": "https://localhost:8080/",
          "height": 1000
        }
      },
      "source": [
        "#cargamos la bd iris desde el dataset de sklearn\n",
        "from sklearn import datasets\n",
        "\n",
        "iris = datasets.load_iris()\n",
        "\n",
        "\n",
        "X, Y = iris.data, iris.target"
      ],
      "execution_count": 2,
      "outputs": [
        {
          "output_type": "stream",
          "text": [
            "/usr/lib/python3.6/importlib/_bootstrap.py:219: RuntimeWarning: numpy.ufunc size changed, may indicate binary incompatibility. Expected 192 from C header, got 216 from PyObject\n",
            "  return f(*args, **kwds)\n",
            "/usr/lib/python3.6/importlib/_bootstrap.py:219: RuntimeWarning: numpy.ufunc size changed, may indicate binary incompatibility. Expected 192 from C header, got 216 from PyObject\n",
            "  return f(*args, **kwds)\n",
            "/usr/lib/python3.6/importlib/_bootstrap.py:219: RuntimeWarning: numpy.ufunc size changed, may indicate binary incompatibility. Expected 192 from C header, got 216 from PyObject\n",
            "  return f(*args, **kwds)\n",
            "/usr/lib/python3.6/importlib/_bootstrap.py:219: RuntimeWarning: numpy.ufunc size changed, may indicate binary incompatibility. Expected 192 from C header, got 216 from PyObject\n",
            "  return f(*args, **kwds)\n",
            "/usr/lib/python3.6/importlib/_bootstrap.py:219: RuntimeWarning: numpy.ufunc size changed, may indicate binary incompatibility. Expected 192 from C header, got 216 from PyObject\n",
            "  return f(*args, **kwds)\n",
            "/usr/lib/python3.6/importlib/_bootstrap.py:219: RuntimeWarning: numpy.ufunc size changed, may indicate binary incompatibility. Expected 192 from C header, got 216 from PyObject\n",
            "  return f(*args, **kwds)\n",
            "/usr/lib/python3.6/importlib/_bootstrap.py:219: RuntimeWarning: numpy.ufunc size changed, may indicate binary incompatibility. Expected 192 from C header, got 216 from PyObject\n",
            "  return f(*args, **kwds)\n",
            "/usr/lib/python3.6/importlib/_bootstrap.py:219: RuntimeWarning: numpy.ufunc size changed, may indicate binary incompatibility. Expected 192 from C header, got 216 from PyObject\n",
            "  return f(*args, **kwds)\n",
            "/usr/lib/python3.6/importlib/_bootstrap.py:219: RuntimeWarning: numpy.ufunc size changed, may indicate binary incompatibility. Expected 192 from C header, got 216 from PyObject\n",
            "  return f(*args, **kwds)\n",
            "/usr/lib/python3.6/importlib/_bootstrap.py:219: RuntimeWarning: numpy.ufunc size changed, may indicate binary incompatibility. Expected 192 from C header, got 216 from PyObject\n",
            "  return f(*args, **kwds)\n",
            "/usr/lib/python3.6/importlib/_bootstrap.py:219: RuntimeWarning: numpy.ufunc size changed, may indicate binary incompatibility. Expected 192 from C header, got 216 from PyObject\n",
            "  return f(*args, **kwds)\n",
            "/usr/lib/python3.6/importlib/_bootstrap.py:219: RuntimeWarning: numpy.ufunc size changed, may indicate binary incompatibility. Expected 192 from C header, got 216 from PyObject\n",
            "  return f(*args, **kwds)\n",
            "/usr/lib/python3.6/importlib/_bootstrap.py:219: RuntimeWarning: numpy.ufunc size changed, may indicate binary incompatibility. Expected 192 from C header, got 216 from PyObject\n",
            "  return f(*args, **kwds)\n",
            "/usr/lib/python3.6/importlib/_bootstrap.py:219: RuntimeWarning: numpy.ufunc size changed, may indicate binary incompatibility. Expected 192 from C header, got 216 from PyObject\n",
            "  return f(*args, **kwds)\n",
            "/usr/lib/python3.6/importlib/_bootstrap.py:219: RuntimeWarning: numpy.ufunc size changed, may indicate binary incompatibility. Expected 192 from C header, got 216 from PyObject\n",
            "  return f(*args, **kwds)\n",
            "/usr/lib/python3.6/importlib/_bootstrap.py:219: RuntimeWarning: numpy.ufunc size changed, may indicate binary incompatibility. Expected 192 from C header, got 216 from PyObject\n",
            "  return f(*args, **kwds)\n",
            "/usr/lib/python3.6/importlib/_bootstrap.py:219: RuntimeWarning: numpy.ufunc size changed, may indicate binary incompatibility. Expected 192 from C header, got 216 from PyObject\n",
            "  return f(*args, **kwds)\n",
            "/usr/lib/python3.6/importlib/_bootstrap.py:219: RuntimeWarning: numpy.ufunc size changed, may indicate binary incompatibility. Expected 192 from C header, got 216 from PyObject\n",
            "  return f(*args, **kwds)\n",
            "/usr/lib/python3.6/importlib/_bootstrap.py:219: RuntimeWarning: numpy.ufunc size changed, may indicate binary incompatibility. Expected 192 from C header, got 216 from PyObject\n",
            "  return f(*args, **kwds)\n",
            "/usr/lib/python3.6/importlib/_bootstrap.py:219: RuntimeWarning: numpy.ufunc size changed, may indicate binary incompatibility. Expected 192 from C header, got 216 from PyObject\n",
            "  return f(*args, **kwds)\n",
            "/usr/lib/python3.6/importlib/_bootstrap.py:219: RuntimeWarning: numpy.ufunc size changed, may indicate binary incompatibility. Expected 192 from C header, got 216 from PyObject\n",
            "  return f(*args, **kwds)\n",
            "/usr/lib/python3.6/importlib/_bootstrap.py:219: RuntimeWarning: numpy.ufunc size changed, may indicate binary incompatibility. Expected 192 from C header, got 216 from PyObject\n",
            "  return f(*args, **kwds)\n",
            "/usr/lib/python3.6/importlib/_bootstrap.py:219: RuntimeWarning: numpy.ufunc size changed, may indicate binary incompatibility. Expected 192 from C header, got 216 from PyObject\n",
            "  return f(*args, **kwds)\n",
            "/usr/lib/python3.6/importlib/_bootstrap.py:219: RuntimeWarning: numpy.ufunc size changed, may indicate binary incompatibility. Expected 192 from C header, got 216 from PyObject\n",
            "  return f(*args, **kwds)\n",
            "/usr/lib/python3.6/importlib/_bootstrap.py:219: RuntimeWarning: numpy.ufunc size changed, may indicate binary incompatibility. Expected 192 from C header, got 216 from PyObject\n",
            "  return f(*args, **kwds)\n",
            "/usr/lib/python3.6/importlib/_bootstrap.py:219: RuntimeWarning: numpy.ufunc size changed, may indicate binary incompatibility. Expected 192 from C header, got 216 from PyObject\n",
            "  return f(*args, **kwds)\n",
            "/usr/lib/python3.6/importlib/_bootstrap.py:219: RuntimeWarning: numpy.ufunc size changed, may indicate binary incompatibility. Expected 192 from C header, got 216 from PyObject\n",
            "  return f(*args, **kwds)\n",
            "/usr/lib/python3.6/importlib/_bootstrap.py:219: RuntimeWarning: numpy.ufunc size changed, may indicate binary incompatibility. Expected 192 from C header, got 216 from PyObject\n",
            "  return f(*args, **kwds)\n",
            "/usr/lib/python3.6/importlib/_bootstrap.py:219: RuntimeWarning: numpy.ufunc size changed, may indicate binary incompatibility. Expected 192 from C header, got 216 from PyObject\n",
            "  return f(*args, **kwds)\n",
            "/usr/lib/python3.6/importlib/_bootstrap.py:219: RuntimeWarning: numpy.ufunc size changed, may indicate binary incompatibility. Expected 192 from C header, got 216 from PyObject\n",
            "  return f(*args, **kwds)\n",
            "/usr/lib/python3.6/importlib/_bootstrap.py:219: RuntimeWarning: numpy.ufunc size changed, may indicate binary incompatibility. Expected 192 from C header, got 216 from PyObject\n",
            "  return f(*args, **kwds)\n",
            "/usr/lib/python3.6/importlib/_bootstrap.py:219: RuntimeWarning: numpy.ufunc size changed, may indicate binary incompatibility. Expected 192 from C header, got 216 from PyObject\n",
            "  return f(*args, **kwds)\n",
            "/usr/lib/python3.6/importlib/_bootstrap.py:219: RuntimeWarning: numpy.ufunc size changed, may indicate binary incompatibility. Expected 192 from C header, got 216 from PyObject\n",
            "  return f(*args, **kwds)\n",
            "/usr/lib/python3.6/importlib/_bootstrap.py:219: RuntimeWarning: numpy.ufunc size changed, may indicate binary incompatibility. Expected 192 from C header, got 216 from PyObject\n",
            "  return f(*args, **kwds)\n"
          ],
          "name": "stderr"
        }
      ]
    },
    {
      "cell_type": "markdown",
      "metadata": {
        "id": "nMLHzV6EkGRB",
        "colab_type": "text"
      },
      "source": [
        "Responda las siguientes preguntas: \n",
        "\n",
        "1.1 ¿Cu&aacute;ntas clases tiene el problema?:\n"
      ]
    },
    {
      "cell_type": "markdown",
      "metadata": {
        "id": "oSLSI6nEkp0l",
        "colab_type": "text"
      },
      "source": [
        "El problema cuenta con 3 clases."
      ]
    },
    {
      "cell_type": "code",
      "metadata": {
        "id": "AL-2xaOekGRD",
        "colab_type": "code",
        "outputId": "98ff08ce-7209-465a-930e-bb1b36d98f66",
        "colab": {
          "base_uri": "https://localhost:8080/",
          "height": 34
        }
      },
      "source": [
        "np.unique(Y)"
      ],
      "execution_count": 3,
      "outputs": [
        {
          "output_type": "execute_result",
          "data": {
            "text/plain": [
              "array([0, 1, 2])"
            ]
          },
          "metadata": {
            "tags": []
          },
          "execution_count": 3
        }
      ]
    },
    {
      "cell_type": "markdown",
      "metadata": {
        "id": "0PT1XITMkGRI",
        "colab_type": "text"
      },
      "source": [
        "1.2 ¿Cu&aacute;ntas caracter&iacute;sticas tiene el problema?:"
      ]
    },
    {
      "cell_type": "markdown",
      "metadata": {
        "id": "sankUkNqlQPN",
        "colab_type": "text"
      },
      "source": [
        "El problema tiene 4 caracteristicas."
      ]
    },
    {
      "cell_type": "code",
      "metadata": {
        "id": "D0XYeagbkGRL",
        "colab_type": "code",
        "outputId": "a23a6022-9268-4385-b561-d46a75e35c44",
        "colab": {
          "base_uri": "https://localhost:8080/",
          "height": 34
        }
      },
      "source": [
        "X.shape[1]"
      ],
      "execution_count": 4,
      "outputs": [
        {
          "output_type": "execute_result",
          "data": {
            "text/plain": [
              "4"
            ]
          },
          "metadata": {
            "tags": []
          },
          "execution_count": 4
        }
      ]
    },
    {
      "cell_type": "markdown",
      "metadata": {
        "id": "cXCUFeS_kGRR",
        "colab_type": "text"
      },
      "source": [
        "1.3 ¿Cu&aacute;ntas muestras tiene el problema?:"
      ]
    },
    {
      "cell_type": "markdown",
      "metadata": {
        "id": "3bttOhVZl25J",
        "colab_type": "text"
      },
      "source": [
        "El problema tiene 150 muestras."
      ]
    },
    {
      "cell_type": "code",
      "metadata": {
        "id": "zYY30oUokGRT",
        "colab_type": "code",
        "outputId": "a632eab2-31a4-4e4c-d32a-aab38422edb9",
        "colab": {
          "base_uri": "https://localhost:8080/",
          "height": 34
        }
      },
      "source": [
        "X.shape[0]"
      ],
      "execution_count": 5,
      "outputs": [
        {
          "output_type": "execute_result",
          "data": {
            "text/plain": [
              "150"
            ]
          },
          "metadata": {
            "tags": []
          },
          "execution_count": 5
        }
      ]
    },
    {
      "cell_type": "markdown",
      "metadata": {
        "id": "-pIC8WvGkGRZ",
        "colab_type": "text"
      },
      "source": [
        "1.4 ¿Cu&aacute;ntas muestras por cada clase hay en la base de datos?:"
      ]
    },
    {
      "cell_type": "markdown",
      "metadata": {
        "id": "cTf3BsUWnU2z",
        "colab_type": "text"
      },
      "source": [
        "Se tienen 50 muestras para cada clase."
      ]
    },
    {
      "cell_type": "code",
      "metadata": {
        "id": "U-Z7Ska5kGRb",
        "colab_type": "code",
        "outputId": "ebb498ee-9bd0-4368-d614-e23999433e05",
        "colab": {
          "base_uri": "https://localhost:8080/",
          "height": 34
        }
      },
      "source": [
        "R=len(Y[Y==0]),len(Y[Y==1]),len(Y[Y==2])\n",
        "R"
      ],
      "execution_count": 6,
      "outputs": [
        {
          "output_type": "execute_result",
          "data": {
            "text/plain": [
              "(50, 50, 50)"
            ]
          },
          "metadata": {
            "tags": []
          },
          "execution_count": 6
        }
      ]
    },
    {
      "cell_type": "markdown",
      "metadata": {
        "id": "IlA_RsQSkGRh",
        "colab_type": "text"
      },
      "source": [
        "## Ejercicio 2: Completar código KNN\n",
        "\n",
        "Analice los siguientes métodos de la teoría vista para los modelos de *K-vecinos más cercanos (KNN)* y complete el código del método KNN.\n",
        "\n",
        "<b>Nota</b>: Para el cáculo de la distancia entre vectores tienen dos opciones, usar la función la distancia euclidiana `scipy.spatial.distance.euclidean`([Ejemplo](https://docs.scipy.org/doc/scipy/reference/generated/scipy.spatial.distance.euclidean.html)) o usar la función `numpy.linalg.norm`([Ejemplo](https://docs.scipy.org/doc/numpy/reference/generated/numpy.linalg.norm.html)). Revisen la documentación para comprender su uso. También serán de utilidad las funciones `numpy.sort` y `numpy.argsort`.\n",
        "\n",
        "\n",
        "<b>Nota</b>: Para el cáculo de la distancia entre vectores tienen dos opciones, usar la función scipy.spatial.distance.euclidean o usar la función numpy.linalg.norm. <b>Revisen la documentación </b> para comprender su uso. También serán de utilidad las funciones numpy.sort y numpy.argsort."
      ]
    },
    {
      "cell_type": "code",
      "metadata": {
        "id": "7w65QfSbkGRi",
        "colab_type": "code",
        "colab": {}
      },
      "source": [
        "from scipy.stats import mode\n",
        "import operator\n",
        "\n",
        "#Para calcular el error en los problemas de clasificación\n",
        "def ErrorClas(Y_lest, Y):\n",
        "    error = 1 - np.sum(Y_lest == Y)/len(Y)\n",
        "    \n",
        "    return error\n",
        "\n",
        "\n",
        "def KNN(X_train, Y_train, X_val, k, tipo = 1):\n",
        "    \n",
        "    #X_train es la matriz con las muestras de entrenamiento\n",
        "    #Y_train es un vector con los valores de salida pra cada una de las muestras de entrenamiento\n",
        "    #X_val es la matriz con las muestras de validación\n",
        "    #tipo es una bandera que indica si el problema es de regresión o de clasificación.\n",
        "    tipo = tipo\n",
        "    k = k    #Parámetro k que equivale al número de vecinos a tener en cuenta para resolver el problema de\n",
        "               #predicción de la variable de salida\n",
        "    Nt = len(X_val)\n",
        "    Y_test = np.zeros(Nt)\n",
        "\n",
        "    #Calculamos las distancia euclidiana entre matrices con las muestras de prueba y entrenamiento con la libreria de scipy\n",
        "    matrix_Distace= sc.spatial.distance_matrix(X_val, X_train)\n",
        "    \n",
        "    J=0\n",
        "    for i in range (Nt):\n",
        "      neighboors= np.argsort(matrix_Distace[J])[:k]\n",
        "      knn = np.take(Y_train, neighboors)\n",
        "      if tipo == 0:\n",
        "            Y_test[J] = np.sum(knn)/k\n",
        "      else:\n",
        "            Y_test[J] = sc.stats.mode(knn)[0]\n",
        "      J=J+1\n",
        "    #Debe retornar un vector que contenga las predicciones para cada una de las muestras en X_test, en el mismo orden.  \n",
        "    return Y_test "
      ],
      "execution_count": 0,
      "outputs": []
    },
    {
      "cell_type": "markdown",
      "metadata": {
        "id": "KEQQPf34kGRn",
        "colab_type": "text"
      },
      "source": [
        "## Ejercicio 3\n",
        "\n",
        "Una vez haya completado el codigo del método de KNN, ejecute varias veces el proceso de entrenamiento y evaluación cambiando el parametro $k$, el cual es el numero de vecinos, y complete la siguiente tabla con los valores del error de clasificación obtenidos:"
      ]
    },
    {
      "cell_type": "code",
      "metadata": {
        "id": "T2obXAF4kGRp",
        "colab_type": "code",
        "outputId": "60429a0e-fcf2-4e13-9e7a-457fb919b4ad",
        "colab": {
          "base_uri": "https://localhost:8080/",
          "height": 121
        }
      },
      "source": [
        "from numpy import random\n",
        "from sklearn.model_selection import train_test_split\n",
        "import math\n",
        "import numpy.matlib\n",
        "N = np.size(X,0)\n",
        "\n",
        "#Validamos el modelo\n",
        "random.seed(1)\n",
        "Error = np.zeros(4)\n",
        "for j in range(4):\n",
        "    \n",
        "    Xtrain, Xtest, Ytrain, Ytest = train_test_split(X, Y, test_size=0.25)\n",
        "\n",
        "    #Normalizamos los datos\n",
        "    media = np.mean(Xtrain)\n",
        "    desvia = np.std(Xtrain)\n",
        "    Xtrain = sc.stats.stats.zscore(Xtrain)\n",
        "    Xtest = (Xtest - np.matlib.repmat(media, Xtest.shape[0], 1))/np.matlib.repmat(desvia, Xtest.shape[0], 1)\n",
        "\n",
        "    Yest = KNN(Xtrain,Ytrain,Xtest,2,1)#Complete con el llamado apropiado de la función que Uds diseñaron\n",
        "    \n",
        "    #Evaluamos las predicciones del modelo con los datos de test\n",
        "    Error[j] = ErrorClas(Yest,Ytest)\n",
        "print('\\nError durante la prueba = ' + str(np.mean(Error)) + '+-' + str(np.std(Error)))"
      ],
      "execution_count": 8,
      "outputs": [
        {
          "output_type": "stream",
          "text": [
            "\n",
            "Error durante la prueba = 0.26973684210526316+-0.08802031684381349\n"
          ],
          "name": "stdout"
        },
        {
          "output_type": "stream",
          "text": [
            "/usr/lib/python3.6/importlib/_bootstrap.py:219: RuntimeWarning: numpy.ufunc size changed, may indicate binary incompatibility. Expected 192 from C header, got 216 from PyObject\n",
            "  return f(*args, **kwds)\n",
            "/usr/lib/python3.6/importlib/_bootstrap.py:219: RuntimeWarning: numpy.ufunc size changed, may indicate binary incompatibility. Expected 192 from C header, got 216 from PyObject\n",
            "  return f(*args, **kwds)\n"
          ],
          "name": "stderr"
        }
      ]
    },
    {
      "cell_type": "markdown",
      "metadata": {
        "id": "oy3Nnxz2kGRu",
        "colab_type": "text"
      },
      "source": [
        "Responda:\n",
        "\n",
        "3.1 ¿Qué metodología de validación se usa en el experimento?\n"
      ]
    },
    {
      "cell_type": "markdown",
      "metadata": {
        "id": "PwCdfA7dtwel",
        "colab_type": "text"
      },
      "source": [
        "Utilizan la metodologia bootstraping cuando dividen el 25% de los datos para validacion de forma aleatoria el el resto los datos de entrenamiento, esto es evidente con el metodo [train_test_split(X, Y, test_size=0.25)] de la celda anterior."
      ]
    },
    {
      "cell_type": "markdown",
      "metadata": {
        "id": "cd8FoWx6kGRz",
        "colab_type": "text"
      },
      "source": [
        "3.2 ¿Cuántas muestras se usan para el entrenamiento?\n"
      ]
    },
    {
      "cell_type": "markdown",
      "metadata": {
        "id": "qF5S_NyVuJ2i",
        "colab_type": "text"
      },
      "source": [
        "Se utilizan 112 muestras para el entrenamiento."
      ]
    },
    {
      "cell_type": "code",
      "metadata": {
        "id": "SNEmAaYokGR1",
        "colab_type": "code",
        "outputId": "93aee6c9-a661-43ab-cee6-4cc28b65e26e",
        "colab": {
          "base_uri": "https://localhost:8080/",
          "height": 34
        }
      },
      "source": [
        "Xtrain.shape[0]"
      ],
      "execution_count": 9,
      "outputs": [
        {
          "output_type": "execute_result",
          "data": {
            "text/plain": [
              "112"
            ]
          },
          "metadata": {
            "tags": []
          },
          "execution_count": 9
        }
      ]
    },
    {
      "cell_type": "markdown",
      "metadata": {
        "id": "AHMNd9IckGR5",
        "colab_type": "text"
      },
      "source": [
        "3.3 ¿Cuántas muestras se usan para la validación?"
      ]
    },
    {
      "cell_type": "markdown",
      "metadata": {
        "id": "SowRc1VXuOXh",
        "colab_type": "text"
      },
      "source": [
        "Se utilizan 38 muestras para validación."
      ]
    },
    {
      "cell_type": "code",
      "metadata": {
        "id": "BwF2TQFpkGR6",
        "colab_type": "code",
        "outputId": "3a072a24-e377-4374-83d7-fc3e260f1b92",
        "colab": {
          "base_uri": "https://localhost:8080/",
          "height": 34
        }
      },
      "source": [
        "Xtest.shape[0]"
      ],
      "execution_count": 10,
      "outputs": [
        {
          "output_type": "execute_result",
          "data": {
            "text/plain": [
              "38"
            ]
          },
          "metadata": {
            "tags": []
          },
          "execution_count": 10
        }
      ]
    },
    {
      "cell_type": "markdown",
      "metadata": {
        "id": "LXJcJ2fpkGSS",
        "colab_type": "text"
      },
      "source": [
        "#### Tabla de resultados"
      ]
    },
    {
      "cell_type": "code",
      "metadata": {
        "id": "RqlFGSLJvDzd",
        "colab_type": "code",
        "colab": {}
      },
      "source": [
        "def prueba(k):\n",
        "  N = np.size(X,0)\n",
        "\n",
        "  #Validamos el modelo\n",
        "  random.seed(1)\n",
        "  Error = np.zeros(4)\n",
        "  for j in range(4):\n",
        "      \n",
        "      Xtrain, Xtest, Ytrain, Ytest = train_test_split(X, Y, test_size=0.25)\n",
        "\n",
        "      #Normalizamos los datos\n",
        "      media = np.mean(Xtrain)\n",
        "      desvia = np.std(Xtrain)\n",
        "      Xtrain = sc.stats.stats.zscore(Xtrain)\n",
        "      Xtest = (Xtest - np.matlib.repmat(media, Xtest.shape[0], 1))/np.matlib.repmat(desvia, Xtest.shape[0], 1)\n",
        "\n",
        "      Yest = KNN(Xtrain,Ytrain,Xtest,k,1)#Complete con el llamado apropiado de la función que Uds diseñaron\n",
        "      \n",
        "      #Evaluamos las predicciones del modelo con los datos de test\n",
        "      Error[j] = ErrorClas(Yest,Ytest)\n",
        "\n",
        "  print('\\nError durante la prueba k '+ str(np.mean(Error)) + '+-' + str(np.std(Error)))\n",
        "  return np.mean(Error), np.std(Error)"
      ],
      "execution_count": 0,
      "outputs": []
    },
    {
      "cell_type": "code",
      "metadata": {
        "id": "k35D4ejixEXZ",
        "colab_type": "code",
        "outputId": "462d7f01-3ab2-44b6-ec42-654a742cd498",
        "colab": {
          "base_uri": "https://localhost:8080/",
          "height": 693
        }
      },
      "source": [
        "!pip install qgrid"
      ],
      "execution_count": 12,
      "outputs": [
        {
          "output_type": "stream",
          "text": [
            "Requirement already satisfied: qgrid in /usr/local/lib/python3.6/dist-packages (1.2.0)\n",
            "Requirement already satisfied: pandas>=0.18.0 in /usr/local/lib/python3.6/dist-packages (from qgrid) (0.25.3)\n",
            "Requirement already satisfied: notebook>=4.0.0 in /usr/local/lib/python3.6/dist-packages (from qgrid) (5.2.2)\n",
            "Requirement already satisfied: ipywidgets>=7.0.0 in /usr/local/lib/python3.6/dist-packages (from qgrid) (7.5.1)\n",
            "Requirement already satisfied: pytz>=2017.2 in /usr/local/lib/python3.6/dist-packages (from pandas>=0.18.0->qgrid) (2018.9)\n",
            "Requirement already satisfied: numpy>=1.13.3 in /usr/local/lib/python3.6/dist-packages (from pandas>=0.18.0->qgrid) (1.17.5)\n",
            "Requirement already satisfied: python-dateutil>=2.6.1 in /usr/local/lib/python3.6/dist-packages (from pandas>=0.18.0->qgrid) (2.6.1)\n",
            "Requirement already satisfied: nbformat in /usr/local/lib/python3.6/dist-packages (from notebook>=4.0.0->qgrid) (5.0.4)\n",
            "Requirement already satisfied: jinja2 in /usr/local/lib/python3.6/dist-packages (from notebook>=4.0.0->qgrid) (2.11.1)\n",
            "Requirement already satisfied: ipykernel in /usr/local/lib/python3.6/dist-packages (from notebook>=4.0.0->qgrid) (4.6.1)\n",
            "Requirement already satisfied: ipython-genutils in /usr/local/lib/python3.6/dist-packages (from notebook>=4.0.0->qgrid) (0.2.0)\n",
            "Requirement already satisfied: nbconvert in /usr/local/lib/python3.6/dist-packages (from notebook>=4.0.0->qgrid) (5.6.1)\n",
            "Requirement already satisfied: traitlets>=4.2.1 in /usr/local/lib/python3.6/dist-packages (from notebook>=4.0.0->qgrid) (4.3.3)\n",
            "Requirement already satisfied: terminado>=0.3.3; sys_platform != \"win32\" in /usr/local/lib/python3.6/dist-packages (from notebook>=4.0.0->qgrid) (0.8.3)\n",
            "Requirement already satisfied: jupyter-core in /usr/local/lib/python3.6/dist-packages (from notebook>=4.0.0->qgrid) (4.6.2)\n",
            "Requirement already satisfied: jupyter-client in /usr/local/lib/python3.6/dist-packages (from notebook>=4.0.0->qgrid) (5.3.4)\n",
            "Requirement already satisfied: tornado>=4 in /usr/local/lib/python3.6/dist-packages (from notebook>=4.0.0->qgrid) (4.5.3)\n",
            "Requirement already satisfied: ipython>=4.0.0; python_version >= \"3.3\" in /usr/local/lib/python3.6/dist-packages (from ipywidgets>=7.0.0->qgrid) (5.5.0)\n",
            "Requirement already satisfied: widgetsnbextension~=3.5.0 in /usr/local/lib/python3.6/dist-packages (from ipywidgets>=7.0.0->qgrid) (3.5.1)\n",
            "Requirement already satisfied: six>=1.5 in /usr/local/lib/python3.6/dist-packages (from python-dateutil>=2.6.1->pandas>=0.18.0->qgrid) (1.12.0)\n",
            "Requirement already satisfied: jsonschema!=2.5.0,>=2.4 in /usr/local/lib/python3.6/dist-packages (from nbformat->notebook>=4.0.0->qgrid) (2.6.0)\n",
            "Requirement already satisfied: MarkupSafe>=0.23 in /usr/local/lib/python3.6/dist-packages (from jinja2->notebook>=4.0.0->qgrid) (1.1.1)\n",
            "Requirement already satisfied: pandocfilters>=1.4.1 in /usr/local/lib/python3.6/dist-packages (from nbconvert->notebook>=4.0.0->qgrid) (1.4.2)\n",
            "Requirement already satisfied: testpath in /usr/local/lib/python3.6/dist-packages (from nbconvert->notebook>=4.0.0->qgrid) (0.4.4)\n",
            "Requirement already satisfied: mistune<2,>=0.8.1 in /usr/local/lib/python3.6/dist-packages (from nbconvert->notebook>=4.0.0->qgrid) (0.8.4)\n",
            "Requirement already satisfied: pygments in /usr/local/lib/python3.6/dist-packages (from nbconvert->notebook>=4.0.0->qgrid) (2.1.3)\n",
            "Requirement already satisfied: defusedxml in /usr/local/lib/python3.6/dist-packages (from nbconvert->notebook>=4.0.0->qgrid) (0.6.0)\n",
            "Requirement already satisfied: bleach in /usr/local/lib/python3.6/dist-packages (from nbconvert->notebook>=4.0.0->qgrid) (3.1.0)\n",
            "Requirement already satisfied: entrypoints>=0.2.2 in /usr/local/lib/python3.6/dist-packages (from nbconvert->notebook>=4.0.0->qgrid) (0.3)\n",
            "Requirement already satisfied: decorator in /usr/local/lib/python3.6/dist-packages (from traitlets>=4.2.1->notebook>=4.0.0->qgrid) (4.4.1)\n",
            "Requirement already satisfied: ptyprocess; os_name != \"nt\" in /usr/local/lib/python3.6/dist-packages (from terminado>=0.3.3; sys_platform != \"win32\"->notebook>=4.0.0->qgrid) (0.6.0)\n",
            "Requirement already satisfied: pyzmq>=13 in /usr/local/lib/python3.6/dist-packages (from jupyter-client->notebook>=4.0.0->qgrid) (17.0.0)\n",
            "Requirement already satisfied: pickleshare in /usr/local/lib/python3.6/dist-packages (from ipython>=4.0.0; python_version >= \"3.3\"->ipywidgets>=7.0.0->qgrid) (0.7.5)\n",
            "Requirement already satisfied: prompt-toolkit<2.0.0,>=1.0.4 in /usr/local/lib/python3.6/dist-packages (from ipython>=4.0.0; python_version >= \"3.3\"->ipywidgets>=7.0.0->qgrid) (1.0.18)\n",
            "Requirement already satisfied: pexpect; sys_platform != \"win32\" in /usr/local/lib/python3.6/dist-packages (from ipython>=4.0.0; python_version >= \"3.3\"->ipywidgets>=7.0.0->qgrid) (4.8.0)\n",
            "Requirement already satisfied: setuptools>=18.5 in /usr/local/lib/python3.6/dist-packages (from ipython>=4.0.0; python_version >= \"3.3\"->ipywidgets>=7.0.0->qgrid) (45.1.0)\n",
            "Requirement already satisfied: simplegeneric>0.8 in /usr/local/lib/python3.6/dist-packages (from ipython>=4.0.0; python_version >= \"3.3\"->ipywidgets>=7.0.0->qgrid) (0.8.1)\n",
            "Requirement already satisfied: webencodings in /usr/local/lib/python3.6/dist-packages (from bleach->nbconvert->notebook>=4.0.0->qgrid) (0.5.1)\n",
            "Requirement already satisfied: wcwidth in /usr/local/lib/python3.6/dist-packages (from prompt-toolkit<2.0.0,>=1.0.4->ipython>=4.0.0; python_version >= \"3.3\"->ipywidgets>=7.0.0->qgrid) (0.1.8)\n"
          ],
          "name": "stdout"
        }
      ]
    },
    {
      "cell_type": "code",
      "metadata": {
        "id": "a1sP2IlXkGSW",
        "colab_type": "code",
        "outputId": "3a887e26-bafe-435f-9cc7-461b00f9e51e",
        "colab": {
          "base_uri": "https://localhost:8080/",
          "height": 384,
          "referenced_widgets": [
            "d31a45b2ee5548c4a4291c599954ae14"
          ]
        }
      },
      "source": [
        "import pandas as pd\n",
        "import qgrid\n",
        "randn = np.random.randn\n",
        "df_types = pd.DataFrame({\n",
        "    'Numero de vecinos' : pd.Series(['1', '2', '3', '4', '5', '6', '7'])})\n",
        "df_types[\"Error_Prueba\"] = \"\"\n",
        "df_types[\"Desviación estándar del error\"] = \"\"\n",
        "df_types.set_index(['Numero de vecinos'], inplace=True)\n",
        "#df_types[\"Error_Prueba\"][1] = \"0.2697\"\n",
        "#df_types[\"Desviación estándar del error\"][1] = \"0.088\"\n",
        "#df_types.sort_index(inplace=True)\n",
        "r=0\n",
        "for vecinos in df_types.index:\n",
        "  error,std = prueba(int(vecinos))\n",
        "  df_types[\"Error_Prueba\"][r] = str(error)\n",
        "  df_types[\"Desviación estándar del error\"][r] = str(std)\n",
        "  r=r+1 \n",
        "\n",
        "qgrid_widget = qgrid.show_grid(df_types, show_toolbar=False)\n",
        "qgrid_widget"
      ],
      "execution_count": 13,
      "outputs": [
        {
          "output_type": "stream",
          "text": [
            "/usr/local/lib/python3.6/dist-packages/ipywidgets/widgets/widget.py:282: DeprecationWarning: Widget registration using a string name has been deprecated. Widget registration now uses a plain `@register` decorator.\n",
            "  warnings.warn(\"Widget registration using a string name has been deprecated. Widget registration now uses a plain `@register` decorator.\", DeprecationWarning)\n",
            "/usr/local/lib/python3.6/dist-packages/qgrid/grid.py:573: DeprecationWarning: metadata {'sync': True} was set from the constructor. With traitlets 4.1, metadata should be set using the .tag() method, e.g., Int().tag(key1='value1', key2='value2')\n",
            "  _df_json = Unicode('', sync=True)\n",
            "/usr/local/lib/python3.6/dist-packages/qgrid/grid.py:827: DeprecationWarning: QgridWidget._df_changed is deprecated in traitlets 4.1: use @observe and @unobserve instead.\n",
            "  def _df_changed(self):\n"
          ],
          "name": "stderr"
        },
        {
          "output_type": "stream",
          "text": [
            "\n",
            "Error durante la prueba k 0.20394736842105263+-0.11376063464335907\n",
            "\n",
            "Error durante la prueba k 0.26973684210526316+-0.08802031684381349\n",
            "\n",
            "Error durante la prueba k 0.26973684210526316+-0.08603090020146066\n",
            "\n",
            "Error durante la prueba k 0.28289473684210525+-0.07529949435697103\n",
            "\n",
            "Error durante la prueba k 0.26973684210526316+-0.08802031684381349\n",
            "\n",
            "Error durante la prueba k 0.2763157894736842+-0.0842516347030638\n",
            "\n",
            "Error durante la prueba k 0.2763157894736842+-0.0842516347030638\n"
          ],
          "name": "stdout"
        },
        {
          "output_type": "display_data",
          "data": {
            "application/vnd.jupyter.widget-view+json": {
              "model_id": "d31a45b2ee5548c4a4291c599954ae14",
              "version_minor": 0,
              "version_major": 2
            },
            "text/plain": [
              "QgridWidget(grid_options={'fullWidthRows': True, 'syncColumnCellResize': True, 'forceFitColumns': True, 'defau…"
            ]
          },
          "metadata": {
            "tags": []
          }
        }
      ]
    },
    {
      "cell_type": "markdown",
      "metadata": {
        "id": "wSrPBs22kGSe",
        "colab_type": "text"
      },
      "source": [
        "Ejecute la siguiente instrucción para dejar guardados en el notebook los resultados de las pruebas."
      ]
    },
    {
      "cell_type": "code",
      "metadata": {
        "id": "cKtYdspCkGSh",
        "colab_type": "code",
        "outputId": "a63c69f2-4f08-400c-8759-f4f7eae950a0",
        "colab": {
          "base_uri": "https://localhost:8080/",
          "height": 294
        }
      },
      "source": [
        "qgrid_widget.get_changed_df()"
      ],
      "execution_count": 14,
      "outputs": [
        {
          "output_type": "execute_result",
          "data": {
            "text/html": [
              "<div>\n",
              "<style scoped>\n",
              "    .dataframe tbody tr th:only-of-type {\n",
              "        vertical-align: middle;\n",
              "    }\n",
              "\n",
              "    .dataframe tbody tr th {\n",
              "        vertical-align: top;\n",
              "    }\n",
              "\n",
              "    .dataframe thead th {\n",
              "        text-align: right;\n",
              "    }\n",
              "</style>\n",
              "<table border=\"1\" class=\"dataframe\">\n",
              "  <thead>\n",
              "    <tr style=\"text-align: right;\">\n",
              "      <th></th>\n",
              "      <th>Error_Prueba</th>\n",
              "      <th>Desviación estándar del error</th>\n",
              "    </tr>\n",
              "    <tr>\n",
              "      <th>Numero de vecinos</th>\n",
              "      <th></th>\n",
              "      <th></th>\n",
              "    </tr>\n",
              "  </thead>\n",
              "  <tbody>\n",
              "    <tr>\n",
              "      <th>1</th>\n",
              "      <td>0.20394736842105263</td>\n",
              "      <td>0.11376063464335907</td>\n",
              "    </tr>\n",
              "    <tr>\n",
              "      <th>2</th>\n",
              "      <td>0.26973684210526316</td>\n",
              "      <td>0.08802031684381349</td>\n",
              "    </tr>\n",
              "    <tr>\n",
              "      <th>3</th>\n",
              "      <td>0.26973684210526316</td>\n",
              "      <td>0.08603090020146066</td>\n",
              "    </tr>\n",
              "    <tr>\n",
              "      <th>4</th>\n",
              "      <td>0.28289473684210525</td>\n",
              "      <td>0.07529949435697103</td>\n",
              "    </tr>\n",
              "    <tr>\n",
              "      <th>5</th>\n",
              "      <td>0.26973684210526316</td>\n",
              "      <td>0.08802031684381349</td>\n",
              "    </tr>\n",
              "    <tr>\n",
              "      <th>6</th>\n",
              "      <td>0.2763157894736842</td>\n",
              "      <td>0.0842516347030638</td>\n",
              "    </tr>\n",
              "    <tr>\n",
              "      <th>7</th>\n",
              "      <td>0.2763157894736842</td>\n",
              "      <td>0.0842516347030638</td>\n",
              "    </tr>\n",
              "  </tbody>\n",
              "</table>\n",
              "</div>"
            ],
            "text/plain": [
              "                          Error_Prueba Desviación estándar del error\n",
              "Numero de vecinos                                                   \n",
              "1                  0.20394736842105263           0.11376063464335907\n",
              "2                  0.26973684210526316           0.08802031684381349\n",
              "3                  0.26973684210526316           0.08603090020146066\n",
              "4                  0.28289473684210525           0.07529949435697103\n",
              "5                  0.26973684210526316           0.08802031684381349\n",
              "6                   0.2763157894736842            0.0842516347030638\n",
              "7                   0.2763157894736842            0.0842516347030638"
            ]
          },
          "metadata": {
            "tags": []
          },
          "execution_count": 14
        }
      ]
    },
    {
      "cell_type": "markdown",
      "metadata": {
        "id": "-2tSoY-FkGSn",
        "colab_type": "text"
      },
      "source": [
        "## Ejercicio 4\n",
        "\n",
        "A continuación debe completar el código del método parzen para resolver problemas de clasificación con el modelo ventana de Parzen."
      ]
    },
    {
      "cell_type": "code",
      "metadata": {
        "id": "eOOoULLDkGSp",
        "colab_type": "code",
        "colab": {}
      },
      "source": [
        "#Calcula el kernel gaussiano de x\n",
        "def kernel_gaussiano(x):\n",
        "    return np.exp((-0.5)*x**2)\n",
        "\n",
        "def ParzenWindow(x,Data,h):\n",
        "    h = h\n",
        "    Ns = Data.shape[0]\n",
        "    suma = 0\n",
        "    for k in range(Ns):\n",
        "        u = sc.spatial.distance.euclidean(x,Data[k,:])\n",
        "        suma += kernel_gaussiano(u/h)\n",
        "    return suma\n",
        "\n",
        "def ParzenClass(X_train, Y_train, X_val, ancho_h):\n",
        "    \n",
        "    h = ancho_h\n",
        "    NumberValues = len(X_val)  \n",
        "    Y_est = np.array([])  \n",
        "    Clases = [] \n",
        "\n",
        "    for clase in np.unique(Y_train): # separamos las muestras según las clases que se tienen\n",
        "        Clases.append(X_train[Y_train == clase])  \n",
        "    q = 0\n",
        "    probabilities = [] # el vector que guardara la probabilida de que pertenezca a cada clase\n",
        "    for clas in Clases: \n",
        "        matrix_Distace = sc.spatial.distance_matrix(X_val, clas) / h  # calcula la distancia de las matrices de pruebas y las muestras por clases\n",
        "        \n",
        "        for Value in range(NumberValues):\n",
        "            k = kernel_gaussiano(matrix_Distace[Value]) #calcula el kernel de la distancia\n",
        "            Probabilitie = np.sum(k)                    \n",
        "            if(q == 0):   \n",
        "                probabilities.append([Probabilitie, 0.0, 0.0]) \n",
        "            else:\n",
        "                probabilities[Value][q] = Probabilitie\n",
        "        q= q+ 1   \n",
        "    \n",
        "    for p in probabilities:\n",
        "        Y_est = np.append(Y_est,p.index(max(p))) # tomamos la clase que tiene mayor probabilida de pertenecer\n",
        "    return Y_est #Debe retornar un vector que contenga las predicciones para cada una de las muestras en X_val, en el mismo orden."
      ],
      "execution_count": 0,
      "outputs": []
    },
    {
      "cell_type": "markdown",
      "metadata": {
        "id": "1ts9RgmpkGSt",
        "colab_type": "text"
      },
      "source": [
        "## Ejercicio 5\n",
        "\n",
        "Ahora debe resolver el mismo problema de clasificación con el método ventana de Parzen. Complete el código ejecute las pruebas para diferentes valores de $h$ y llene la siguiente tabla:"
      ]
    },
    {
      "cell_type": "code",
      "metadata": {
        "id": "s9F9cqUskGSu",
        "colab_type": "code",
        "colab": {
          "base_uri": "https://localhost:8080/",
          "height": 52
        },
        "outputId": "c89b2ebb-622d-4bbe-fddf-96508d588566"
      },
      "source": [
        "from numpy import random\n",
        "from sklearn.model_selection import StratifiedKFold\n",
        "import math\n",
        "import numpy.matlib\n",
        "\n",
        "\n",
        "  #Validamos el modelo\n",
        "random.seed(1)\n",
        "Error = np.zeros(4)\n",
        "skf = StratifiedKFold(n_splits=4)\n",
        "j = 0\n",
        "for train, test in skf.split(X, Y):\n",
        "    Xtrain = X[train,:]\n",
        "    Ytrain = Y[train]\n",
        "    Xtest = X[test,:]\n",
        "    Ytest = Y[test]\n",
        "    #Normalizamos los datos\n",
        "    media = np.mean(Xtrain)\n",
        "    desvia = np.std(Xtrain)\n",
        "    Xtrain = sc.stats.stats.zscore(Xtrain)\n",
        "    Xtest = (Xtest - np.matlib.repmat(media, Xtest.shape[0], 1))/np.matlib.repmat(desvia, Xtest.shape[0], 1)\n",
        "\n",
        "    Yest = ParzenClass(Xtrain,Ytrain,Xtest,0.1)#Complete con el llamado apropiado de la función que Uds diseñaron\n",
        "  \n",
        "    #Evaluamos las predicciones del modelo con los datos de test\n",
        "    Error[j] = ErrorClas(Yest,Ytest)\n",
        "    j += 1\n",
        "\n",
        "print('\\nError durante la prueba = ' + str(np.mean(Error)) + '+-' + str(np.std(Error)))\n",
        " )"
      ],
      "execution_count": 38,
      "outputs": [
        {
          "output_type": "stream",
          "text": [
            "\n",
            "Error durante la prueba = 0.22706258890469416+-0.032551746882760864\n"
          ],
          "name": "stdout"
        }
      ]
    },
    {
      "cell_type": "code",
      "metadata": {
        "id": "c3nO4WLy62ao",
        "colab_type": "code",
        "colab": {}
      },
      "source": [
        "def prueba2(ventana):\n",
        "    #Validamos el modelo\n",
        "    random.seed(1)\n",
        "    Error = np.zeros(4)\n",
        "    skf = StratifiedKFold(n_splits=4)\n",
        "    j = 0\n",
        "    MTrain = []\n",
        "    MTest = []\n",
        "    for train, test in skf.split(X, Y):\n",
        "        Xtrain = X[train,:]\n",
        "        MTrain.append(Xtrain.shape[0])\n",
        "        Ytrain = Y[train]\n",
        "        Xtest = X[test,:]\n",
        "        MTest.append(Xtest.shape[0])\n",
        "        Ytest = Y[test]\n",
        "        #Normalizamos los datos\n",
        "        media = np.mean(Xtrain)\n",
        "        desvia = np.std(Xtrain)\n",
        "        Xtrain = sc.stats.stats.zscore(Xtrain)\n",
        "        Xtest = (Xtest - np.matlib.repmat(media, Xtest.shape[0], 1))/np.matlib.repmat(desvia, Xtest.shape[0], 1)\n",
        "\n",
        "        Yest = ParzenClass(Xtrain,Ytrain,Xtest,ventana)#Complete con el llamado apropiado de la función que Uds diseñaron\n",
        "      \n",
        "        #Evaluamos las predicciones del modelo con los datos de test\n",
        "        Error[j] = ErrorClas(Yest,Ytest)\n",
        "        j += 1\n",
        "\n",
        "    print('\\nError durante la prueba = ' + str(np.mean(Error)) + '+-' + str(np.std(Error)))\n",
        "    return np.mean(Error),np.std(Error)"
      ],
      "execution_count": 0,
      "outputs": []
    },
    {
      "cell_type": "markdown",
      "metadata": {
        "id": "igySCV8SkGSz",
        "colab_type": "text"
      },
      "source": [
        "Responda:\n",
        "    \n",
        "5.1 ¿Qué metodología de validación se usó en la simulación?:\n",
        "\n",
        "R/Con el metodo StratifiedKFold en la celda anterior utilizamos el metodo de validación cruzada k-fold  estratificada,con k-iteraciones, observando en detalle hace una división por 4 k-folds,conservando el mismo porcentaje de muestras para cada clase ,tomando 3 (k-1) conjuntos para el entrenamiento y el conjunto restante para la validación."
      ]
    },
    {
      "cell_type": "markdown",
      "metadata": {
        "id": "Qd4DjXxxkGS1",
        "colab_type": "text"
      },
      "source": [
        "5.2 ¿Cuántas muestras se usan para el entrenamiento?:\n",
        "\n",
        "R/ Se usan 113 muestras para entrenamiento"
      ]
    },
    {
      "cell_type": "code",
      "metadata": {
        "id": "61Pt2bAei3ZR",
        "colab_type": "code",
        "outputId": "cccae6b6-f251-4d61-faae-267b5fa9f775",
        "colab": {
          "base_uri": "https://localhost:8080/",
          "height": 34
        }
      },
      "source": [
        "Xtrain.shape[0]"
      ],
      "execution_count": 39,
      "outputs": [
        {
          "output_type": "execute_result",
          "data": {
            "text/plain": [
              "113"
            ]
          },
          "metadata": {
            "tags": []
          },
          "execution_count": 39
        }
      ]
    },
    {
      "cell_type": "markdown",
      "metadata": {
        "colab_type": "text",
        "id": "XAffHVoM5U9F"
      },
      "source": [
        "5.3 ¿Cuántas muestras se usan para la validación?:\n",
        "\n",
        "R/Se utilizan 37 muestras para la validación."
      ]
    },
    {
      "cell_type": "code",
      "metadata": {
        "id": "SAb1CLgVi7vk",
        "colab_type": "code",
        "outputId": "d625fb71-2ee3-4c99-ce8b-cb7818c023aa",
        "colab": {
          "base_uri": "https://localhost:8080/",
          "height": 34
        }
      },
      "source": [
        "Xtest.shape[0]"
      ],
      "execution_count": 40,
      "outputs": [
        {
          "output_type": "execute_result",
          "data": {
            "text/plain": [
              "37"
            ]
          },
          "metadata": {
            "tags": []
          },
          "execution_count": 40
        }
      ]
    },
    {
      "cell_type": "markdown",
      "metadata": {
        "id": "ozQtqpvekGS3",
        "colab_type": "text"
      },
      "source": [
        "#### Tabla de resultados"
      ]
    },
    {
      "cell_type": "code",
      "metadata": {
        "id": "D_CDDu45kGS4",
        "colab_type": "code",
        "outputId": "c38c8c95-590f-4744-aadc-ca804d4b6f5d",
        "colab": {
          "base_uri": "https://localhost:8080/",
          "height": 260,
          "referenced_widgets": [
            "93cc75e910554696a64fd9ef84426b00"
          ]
        }
      },
      "source": [
        "import pandas as pd\n",
        "import qgrid\n",
        "randn = np.random.randn\n",
        "df_types2 = pd.DataFrame({\n",
        "    'Tamano de ventana' : pd.Series(['0.05', '0.1', '0.5', '1', '2', '5', '10'])})\n",
        "df_types2[\"Error_Prueba\"] = \"\"\n",
        "df_types2[\"Desviación estándar del error\"] = \"\"\n",
        "df_types2.set_index(['Tamano de ventana'], inplace=True)\n",
        "#df_types2[\"Error_Prueba\"][1] = \"0.222\"\n",
        "#df_types2[\"Desviación estándar del error\"][1] = \"0.043\"\n",
        "#df_types.sort_index(inplace=True)\n",
        "r2=0\n",
        "for ventana in df_types2.index:\n",
        "  \n",
        "  mape,std = prueba2(float(ventana))\n",
        "\n",
        "  df_types2[\"Error_Prueba\"][r2] = str(mape)\n",
        "  df_types2[\"Desviación estándar del error\"][r2] = str(std)\n",
        "  r2=r2+1 \n",
        "\n",
        "qgrid_widget = qgrid.show_grid(df_types2, show_toolbar=False)\n",
        "qgrid_widget"
      ],
      "execution_count": 41,
      "outputs": [
        {
          "output_type": "stream",
          "text": [
            "\n",
            "Error durante la prueba = 0.22706258890469416+-0.032551746882760864\n",
            "\n",
            "Error durante la prueba = 0.22706258890469416+-0.032551746882760864\n",
            "\n",
            "Error durante la prueba = 0.2736486486486487+-0.031797071796314295\n",
            "\n",
            "Error durante la prueba = 0.2802275960170697+-0.025624300902776412\n",
            "\n",
            "Error durante la prueba = 0.24004267425320058+-0.026865109801217688\n",
            "\n",
            "Error durante la prueba = 0.27133712660028453+-0.15456740117502957\n",
            "\n",
            "Error durante la prueba = 0.5177809388335703+-0.1664295874822191\n"
          ],
          "name": "stdout"
        },
        {
          "output_type": "display_data",
          "data": {
            "application/vnd.jupyter.widget-view+json": {
              "model_id": "93cc75e910554696a64fd9ef84426b00",
              "version_minor": 0,
              "version_major": 2
            },
            "text/plain": [
              "QgridWidget(grid_options={'fullWidthRows': True, 'syncColumnCellResize': True, 'forceFitColumns': True, 'defau…"
            ]
          },
          "metadata": {
            "tags": []
          }
        }
      ]
    },
    {
      "cell_type": "markdown",
      "metadata": {
        "id": "2Z4RkGRokGS9",
        "colab_type": "text"
      },
      "source": [
        "Ejecute la siguiente instrucción para dejar guardados en el notebook los resultados de las pruebas."
      ]
    },
    {
      "cell_type": "code",
      "metadata": {
        "id": "lLyUwUBKkGS_",
        "colab_type": "code",
        "outputId": "9ba97070-d148-491b-865a-062c54fd6c02",
        "colab": {
          "base_uri": "https://localhost:8080/",
          "height": 294
        }
      },
      "source": [
        "qgrid_widget.get_changed_df()"
      ],
      "execution_count": 36,
      "outputs": [
        {
          "output_type": "execute_result",
          "data": {
            "text/html": [
              "<div>\n",
              "<style scoped>\n",
              "    .dataframe tbody tr th:only-of-type {\n",
              "        vertical-align: middle;\n",
              "    }\n",
              "\n",
              "    .dataframe tbody tr th {\n",
              "        vertical-align: top;\n",
              "    }\n",
              "\n",
              "    .dataframe thead th {\n",
              "        text-align: right;\n",
              "    }\n",
              "</style>\n",
              "<table border=\"1\" class=\"dataframe\">\n",
              "  <thead>\n",
              "    <tr style=\"text-align: right;\">\n",
              "      <th></th>\n",
              "      <th>Error_Prueba</th>\n",
              "      <th>Desviación estándar del error</th>\n",
              "    </tr>\n",
              "    <tr>\n",
              "      <th>Tamano de ventana</th>\n",
              "      <th></th>\n",
              "      <th></th>\n",
              "    </tr>\n",
              "  </thead>\n",
              "  <tbody>\n",
              "    <tr>\n",
              "      <th>0.05</th>\n",
              "      <td>0.22706258890469416</td>\n",
              "      <td>0.032551746882760864</td>\n",
              "    </tr>\n",
              "    <tr>\n",
              "      <th>0.1</th>\n",
              "      <td>0.22706258890469416</td>\n",
              "      <td>0.032551746882760864</td>\n",
              "    </tr>\n",
              "    <tr>\n",
              "      <th>0.5</th>\n",
              "      <td>0.2736486486486487</td>\n",
              "      <td>0.031797071796314295</td>\n",
              "    </tr>\n",
              "    <tr>\n",
              "      <th>1</th>\n",
              "      <td>0.2802275960170697</td>\n",
              "      <td>0.025624300902776412</td>\n",
              "    </tr>\n",
              "    <tr>\n",
              "      <th>2</th>\n",
              "      <td>0.24004267425320058</td>\n",
              "      <td>0.026865109801217688</td>\n",
              "    </tr>\n",
              "    <tr>\n",
              "      <th>5</th>\n",
              "      <td>0.27133712660028453</td>\n",
              "      <td>0.15456740117502957</td>\n",
              "    </tr>\n",
              "    <tr>\n",
              "      <th>10</th>\n",
              "      <td>0.5177809388335703</td>\n",
              "      <td>0.1664295874822191</td>\n",
              "    </tr>\n",
              "  </tbody>\n",
              "</table>\n",
              "</div>"
            ],
            "text/plain": [
              "                          Error_Prueba Desviación estándar del error\n",
              "Tamano de ventana                                                   \n",
              "0.05               0.22706258890469416          0.032551746882760864\n",
              "0.1                0.22706258890469416          0.032551746882760864\n",
              "0.5                 0.2736486486486487          0.031797071796314295\n",
              "1                   0.2802275960170697          0.025624300902776412\n",
              "2                  0.24004267425320058          0.026865109801217688\n",
              "5                  0.27133712660028453           0.15456740117502957\n",
              "10                  0.5177809388335703            0.1664295874822191"
            ]
          },
          "metadata": {
            "tags": []
          },
          "execution_count": 36
        }
      ]
    },
    {
      "cell_type": "code",
      "metadata": {
        "id": "9nVG_BqjkGTE",
        "colab_type": "code",
        "colab": {}
      },
      "source": [
        ""
      ],
      "execution_count": 0,
      "outputs": []
    }
  ]
}